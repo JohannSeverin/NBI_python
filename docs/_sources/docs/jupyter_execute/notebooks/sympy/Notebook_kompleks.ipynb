{
 "cells": [
  {
   "cell_type": "markdown",
   "metadata": {
    "toc": true
   },
   "source": [
    "<h1>Indholdsfortegnelse<span class=\"tocSkip\"></span></h1>\n",
    "<div class=\"toc\"><ul class=\"toc-item\"><li><span><a href=\"#Almindelige-regneoperationer-med-komplekse-tal\" data-toc-modified-id=\"Almindelige-regneoperationer-med-komplekse-tal-1\"><span class=\"toc-item-num\">1&nbsp;&nbsp;</span>Almindelige regneoperationer med komplekse tal</a></span></li><li><span><a href=\"#Komplekse-egenskaber\" data-toc-modified-id=\"Komplekse-egenskaber-2\"><span class=\"toc-item-num\">2&nbsp;&nbsp;</span>Komplekse egenskaber</a></span><ul class=\"toc-item\"><li><span><a href=\"#Modulus-og-argument\" data-toc-modified-id=\"Modulus-og-argument-2.1\"><span class=\"toc-item-num\">2.1&nbsp;&nbsp;</span>Modulus og arguement</a></span></li><li><span><a href=\"#Kompleks-konjugering\" data-toc-modified-id=\"Kompleks-konjugering-2.2\"><span class=\"toc-item-num\">2.2&nbsp;&nbsp;</span>Kompleks konjugering</a></span></li></ul></li><li><span><a href=\"#Rødder-og-ligninger\" data-toc-modified-id=\"Rødder-og-ligninger-3\"><span class=\"toc-item-num\">3&nbsp;&nbsp;</span>Rødder og ligninger</a></span></li><li><span><a href=\"#Visualisering-af-det-komplekse-plan\" data-toc-modified-id=\"Visualisering-af-det-komplekse-plan-4\"><span class=\"toc-item-num\">4&nbsp;&nbsp;</span>Visualisering af det komplekse plan</a></span></li></ul></div>"
   ]
  },
  {
   "cell_type": "markdown",
   "metadata": {},
   "source": [
    "# Komplekse tal i SymPy"
   ]
  },
  {
   "cell_type": "markdown",
   "metadata": {},
   "source": [
    "I LinALys lærer du at regne med komplekse tal. SymPy kan være en hjælp f.eks. til at visualisere alle løsninger til komplekse ligninger, men er i kurset primært et værktøj som du kan bruge til at checke de beregninger, der indgår i pointopgaverne og den afsluttende eksamen. Især hvis du har erfaring med at du laver mange regnefejl i omfattende beregninger, kan det være godt at checke beregningerne trin for trin i SymPy.\n",
    "\n",
    "Vi starter med at importere den imaginære enhed ved hjælp af <code>from sympy import I</code>, $I$ er SymPys standardsyntaks for det imaginære tal $i$."
   ]
  },
  {
   "cell_type": "code",
   "execution_count": 2,
   "metadata": {},
   "outputs": [],
   "source": [
    "import sympy as sp\n",
    "from IPython.display import display\n",
    "sp.init_printing()\n",
    "from sympy import I, pi"
   ]
  },
  {
   "cell_type": "markdown",
   "metadata": {},
   "source": [
    "## Almindelige regneoperationer med komplekse tal"
   ]
  },
  {
   "cell_type": "markdown",
   "metadata": {},
   "source": [
    "Når vi benytter <code>I</code>, får vi automatisk et komplekst tal, og SymPy behandler det som sådan ganske automatisk. Vi kan altså skrive $z = 3 + 4i$ som <code>z = 3 + 4 * I</code>:"
   ]
  },
  {
   "cell_type": "code",
   "execution_count": 3,
   "metadata": {},
   "outputs": [
    {
     "data": {
      "image/png": "[encoded data removed]",
      "text/latex": [
       "$\\displaystyle 3 + 4 i$"
      ],
      "text/plain": [
       "3 + 4⋅ⅈ"
      ]
     },
     "metadata": {
      "filenames": {
       "image/png": "/home/johannbs/projects/NBI_python/_build/jupyter_execute/notebooks/sympy/Notebook_kompleks_6_0.png"
      }
     },
     "output_type": "display_data"
    }
   ],
   "source": [
    "z = 3 + 4 * I\n",
    "display(z)"
   ]
  },
  {
   "cell_type": "markdown",
   "metadata": {},
   "source": [
    "Eller vi kan lave et mere generelt udtryk, hvor vi istedet benytter symboler:"
   ]
  },
  {
   "cell_type": "code",
   "execution_count": 4,
   "metadata": {},
   "outputs": [
    {
     "data": {
      "image/png": "[encoded data removed]",
      "text/latex": [
       "$\\displaystyle a + i b$"
      ],
      "text/plain": [
       "a + ⅈ⋅b"
      ]
     },
     "metadata": {
      "filenames": {
       "image/png": "/home/johannbs/projects/NBI_python/_build/jupyter_execute/notebooks/sympy/Notebook_kompleks_8_0.png"
      }
     },
     "output_type": "display_data"
    }
   ],
   "source": [
    "from sympy.abc import a, b\n",
    "w = a + b * I\n",
    "display(w)"
   ]
  },
  {
   "cell_type": "markdown",
   "metadata": {},
   "source": [
    "Når vi først har defineret vores udtryk, så kan vi regne med dem på samme måde som med alle andre (reelle) tal. Regneoperationerne <code>+</code>, <code>-</code>, <code>*</code> og <code>/</code> fungerer som de skal."
   ]
  },
  {
   "cell_type": "code",
   "execution_count": 5,
   "metadata": {},
   "outputs": [
    {
     "data": {
      "image/png": "[encoded data removed]",
      "text/latex": [
       "$\\displaystyle 1 - i$"
      ],
      "text/plain": [
       "1 - ⅈ"
      ]
     },
     "metadata": {
      "filenames": {
       "image/png": "/home/johannbs/projects/NBI_python/_build/jupyter_execute/notebooks/sympy/Notebook_kompleks_10_0.png"
      }
     },
     "output_type": "display_data"
    }
   ],
   "source": [
    "z = 1 + 2 * I\n",
    "w = - 3 * I\n",
    "display(z + w)"
   ]
  },
  {
   "cell_type": "code",
   "execution_count": 6,
   "metadata": {},
   "outputs": [
    {
     "data": {
      "image/png": "[encoded data removed]",
      "text/latex": [
       "$\\displaystyle 1 + 5 i$"
      ],
      "text/plain": [
       "1 + 5⋅ⅈ"
      ]
     },
     "metadata": {
      "filenames": {
       "image/png": "/home/johannbs/projects/NBI_python/_build/jupyter_execute/notebooks/sympy/Notebook_kompleks_11_0.png"
      }
     },
     "output_type": "display_data"
    }
   ],
   "source": [
    "display(z - w)"
   ]
  },
  {
   "cell_type": "code",
   "execution_count": 7,
   "metadata": {},
   "outputs": [
    {
     "data": {
      "image/png": "[encoded data removed]",
      "text/latex": [
       "$\\displaystyle - 3 i \\left(1 + 2 i\\right)$"
      ],
      "text/plain": [
       "-3⋅ⅈ⋅(1 + 2⋅ⅈ)"
      ]
     },
     "metadata": {
      "filenames": {
       "image/png": "/home/johannbs/projects/NBI_python/_build/jupyter_execute/notebooks/sympy/Notebook_kompleks_12_0.png"
      }
     },
     "output_type": "display_data"
    }
   ],
   "source": [
    "display(z * w)"
   ]
  },
  {
   "cell_type": "markdown",
   "metadata": {},
   "source": [
    "Ved multiplikation og division er det nogle gange en god idé at bede SymPy om at reducere udtrykket. Især, hvis man gerne vil have det på en $x + yi$ form:"
   ]
  },
  {
   "cell_type": "code",
   "execution_count": 8,
   "metadata": {},
   "outputs": [
    {
     "data": {
      "image/png": "[encoded data removed]",
      "text/latex": [
       "$\\displaystyle 6 - 3 i$"
      ],
      "text/plain": [
       "6 - 3⋅ⅈ"
      ]
     },
     "execution_count": 8,
     "metadata": {
      "filenames": {
       "image/png": "/home/johannbs/projects/NBI_python/_build/jupyter_execute/notebooks/sympy/Notebook_kompleks_14_0.png"
      }
     },
     "output_type": "execute_result"
    }
   ],
   "source": [
    "sp.simplify(z * w)"
   ]
  },
  {
   "cell_type": "code",
   "execution_count": 9,
   "metadata": {},
   "outputs": [
    {
     "data": {
      "image/png": "[encoded data removed]",
      "text/latex": [
       "$\\displaystyle \\frac{i \\left(1 + 2 i\\right)}{3}$"
      ],
      "text/plain": [
       "ⅈ⋅(1 + 2⋅ⅈ)\n",
       "───────────\n",
       "     3     "
      ]
     },
     "metadata": {
      "filenames": {
       "image/png": "/home/johannbs/projects/NBI_python/_build/jupyter_execute/notebooks/sympy/Notebook_kompleks_15_0.png"
      }
     },
     "output_type": "display_data"
    },
    {
     "data": {
      "image/png": "[encoded data removed]",
      "text/latex": [
       "$\\displaystyle - \\frac{2}{3} + \\frac{i}{3}$"
      ],
      "text/plain": [
       "  2   ⅈ\n",
       "- ─ + ─\n",
       "  3   3"
      ]
     },
     "metadata": {
      "filenames": {
       "image/png": "/home/johannbs/projects/NBI_python/_build/jupyter_execute/notebooks/sympy/Notebook_kompleks_15_1.png"
      }
     },
     "output_type": "display_data"
    }
   ],
   "source": [
    "display(z / w)\n",
    "display(sp.simplify(z / w))"
   ]
  },
  {
   "cell_type": "markdown",
   "metadata": {},
   "source": [
    "Man kan desuden beregne potenser af et kompleks tal på sædvandligvis ved at bruge <code>**</code>:"
   ]
  },
  {
   "cell_type": "code",
   "execution_count": 10,
   "metadata": {},
   "outputs": [
    {
     "data": {
      "image/png": "[encoded data removed]",
      "text/latex": [
       "$\\displaystyle \\left(1 + 2 i\\right)^{3}$"
      ],
      "text/plain": [
       "         3\n",
       "(1 + 2⋅ⅈ) "
      ]
     },
     "execution_count": 10,
     "metadata": {
      "filenames": {
       "image/png": "/home/johannbs/projects/NBI_python/_build/jupyter_execute/notebooks/sympy/Notebook_kompleks_17_0.png"
      }
     },
     "output_type": "execute_result"
    }
   ],
   "source": [
    "z ** 3"
   ]
  },
  {
   "cell_type": "markdown",
   "metadata": {},
   "source": [
    "I dette tilfælde er der ikke meget hjælp at hente i <code>simplify</code>:"
   ]
  },
  {
   "cell_type": "code",
   "execution_count": 11,
   "metadata": {},
   "outputs": [
    {
     "data": {
      "image/png": "[encoded data removed]",
      "text/latex": [
       "$\\displaystyle \\left(1 + 2 i\\right)^{3}$"
      ],
      "text/plain": [
       "         3\n",
       "(1 + 2⋅ⅈ) "
      ]
     },
     "execution_count": 11,
     "metadata": {
      "filenames": {
       "image/png": "/home/johannbs/projects/NBI_python/_build/jupyter_execute/notebooks/sympy/Notebook_kompleks_19_0.png"
      }
     },
     "output_type": "execute_result"
    }
   ],
   "source": [
    "sp.simplify(z ** 3)"
   ]
  },
  {
   "cell_type": "markdown",
   "metadata": {},
   "source": [
    "Vi kan til gengæld bede SymPy om at gange parentesen ud med <code>sp.expand</code>:"
   ]
  },
  {
   "cell_type": "code",
   "execution_count": 12,
   "metadata": {},
   "outputs": [
    {
     "data": {
      "image/png": "[encoded data removed]",
      "text/latex": [
       "$\\displaystyle -11 - 2 i$"
      ],
      "text/plain": [
       "-11 - 2⋅ⅈ"
      ]
     },
     "execution_count": 12,
     "metadata": {
      "filenames": {
       "image/png": "/home/johannbs/projects/NBI_python/_build/jupyter_execute/notebooks/sympy/Notebook_kompleks_21_0.png"
      }
     },
     "output_type": "execute_result"
    }
   ],
   "source": [
    "sp.expand(z ** 3)"
   ]
  },
  {
   "cell_type": "markdown",
   "metadata": {},
   "source": [
    "SymPy ved hvordan den skal håndtere komplekse tal i mange sammenhænge, hvor fortolkningen er entydig. Man altså blot bruge komplekse tal i <code>sp.exp()</code>, <code>sp.cos()</code> eller lignende."
   ]
  },
  {
   "cell_type": "markdown",
   "metadata": {},
   "source": [
    "## Notationsformer og skift mellem disse"
   ]
  },
  {
   "cell_type": "markdown",
   "metadata": {},
   "source": [
    "### Kartesiske koordinater, real og imaginærdel.\n",
    "\n",
    "Funktionerne <code>sp.re()</code> og <code>sp.im()</code> giver real- og imaginærdelen af et komplekst tal. Det er naturligvis trivielt hvis vi starter med et imaginært tal af formen $x + iy$:"
   ]
  },
  {
   "cell_type": "code",
   "execution_count": 13,
   "metadata": {},
   "outputs": [
    {
     "data": {
      "image/png": "[encoded data removed]",
      "text/latex": [
       "$\\displaystyle 10 - 7 i$"
      ],
      "text/plain": [
       "10 - 7⋅ⅈ"
      ]
     },
     "metadata": {
      "filenames": {
       "image/png": "/home/johannbs/projects/NBI_python/_build/jupyter_execute/notebooks/sympy/Notebook_kompleks_25_0.png"
      }
     },
     "output_type": "display_data"
    },
    {
     "data": {
      "image/png": "[encoded data removed]",
      "text/latex": [
       "$\\displaystyle 10$"
      ],
      "text/plain": [
       "10"
      ]
     },
     "metadata": {
      "filenames": {
       "image/png": "/home/johannbs/projects/NBI_python/_build/jupyter_execute/notebooks/sympy/Notebook_kompleks_25_1.png"
      }
     },
     "output_type": "display_data"
    },
    {
     "data": {
      "image/png": "[encoded data removed]",
      "text/latex": [
       "$\\displaystyle -7$"
      ],
      "text/plain": [
       "-7"
      ]
     },
     "metadata": {
      "filenames": {
       "image/png": "/home/johannbs/projects/NBI_python/_build/jupyter_execute/notebooks/sympy/Notebook_kompleks_25_2.png"
      }
     },
     "output_type": "display_data"
    }
   ],
   "source": [
    "z = 10 - 7 * I\n",
    "display(z)\n",
    "display(sp.re(z))\n",
    "display(sp.im(z))"
   ]
  },
  {
   "cell_type": "markdown",
   "metadata": {},
   "source": [
    "Men det er mere oplysende, hvis vores komplekse tal har en anden form, for eksempel $4 e^{i \\pi / 3}$:"
   ]
  },
  {
   "cell_type": "code",
   "execution_count": 14,
   "metadata": {},
   "outputs": [
    {
     "data": {
      "image/png": "[encoded data removed]",
      "text/latex": [
       "$\\displaystyle 4 e^{\\frac{i \\pi}{3}}$"
      ],
      "text/plain": [
       "   ⅈ⋅π\n",
       "   ───\n",
       "    3 \n",
       "4⋅ℯ   "
      ]
     },
     "metadata": {
      "filenames": {
       "image/png": "/home/johannbs/projects/NBI_python/_build/jupyter_execute/notebooks/sympy/Notebook_kompleks_27_0.png"
      }
     },
     "output_type": "display_data"
    },
    {
     "data": {
      "image/png": "[encoded data removed]",
      "text/latex": [
       "$\\displaystyle 2$"
      ],
      "text/plain": [
       "2"
      ]
     },
     "metadata": {
      "filenames": {
       "image/png": "/home/johannbs/projects/NBI_python/_build/jupyter_execute/notebooks/sympy/Notebook_kompleks_27_1.png"
      }
     },
     "output_type": "display_data"
    },
    {
     "data": {
      "image/png": "[encoded data removed]",
      "text/latex": [
       "$\\displaystyle 2 \\sqrt{3}$"
      ],
      "text/plain": [
       "2⋅√3"
      ]
     },
     "metadata": {
      "filenames": {
       "image/png": "/home/johannbs/projects/NBI_python/_build/jupyter_execute/notebooks/sympy/Notebook_kompleks_27_2.png"
      }
     },
     "output_type": "display_data"
    }
   ],
   "source": [
    "w = 4 * sp.exp(I * pi / 3)\n",
    "display(w)\n",
    "display(sp.re(w))\n",
    "display(sp.im(w))"
   ]
  },
  {
   "cell_type": "markdown",
   "metadata": {},
   "source": [
    "### Modulus og argument"
   ]
  },
  {
   "cell_type": "markdown",
   "metadata": {},
   "source": [
    "Vi kan desuden nemt beregne modulus og argument. Modulus for et komplekst tal er det samme som tallets absolutte værdi (TL s. 126) og findes med <code>sp.Abs()</code>. Bemærk at man bruger et stort A for at adskille kommandoen fra Pythons abs-funktion. For symbolske udtryk vil SymPy dog automatisk bruge sp.Abs() selv hvis vi bruger et lille a. Så for de to tal defineret ovenfor får vi:"
   ]
  },
  {
   "cell_type": "code",
   "execution_count": 15,
   "metadata": {},
   "outputs": [
    {
     "data": {
      "image/png": "[encoded data removed]",
      "text/latex": [
       "$\\displaystyle \\sqrt{149}$"
      ],
      "text/plain": [
       "√149"
      ]
     },
     "metadata": {
      "filenames": {
       "image/png": "/home/johannbs/projects/NBI_python/_build/jupyter_execute/notebooks/sympy/Notebook_kompleks_30_0.png"
      }
     },
     "output_type": "display_data"
    },
    {
     "data": {
      "image/png": "[encoded data removed]",
      "text/latex": [
       "$\\displaystyle 4$"
      ],
      "text/plain": [
       "4"
      ]
     },
     "metadata": {
      "filenames": {
       "image/png": "/home/johannbs/projects/NBI_python/_build/jupyter_execute/notebooks/sympy/Notebook_kompleks_30_1.png"
      }
     },
     "output_type": "display_data"
    }
   ],
   "source": [
    "display(sp.Abs(z))\n",
    "display(sp.Abs(w))"
   ]
  },
  {
   "cell_type": "markdown",
   "metadata": {},
   "source": [
    "Argumentet findes ved <code>sp.arg()</code> :"
   ]
  },
  {
   "cell_type": "code",
   "execution_count": 16,
   "metadata": {},
   "outputs": [
    {
     "data": {
      "image/png": "[encoded data removed]",
      "text/latex": [
       "$\\displaystyle - \\operatorname{atan}{\\left(\\frac{7}{10} \\right)}$"
      ],
      "text/plain": [
       "-atan(7/10)"
      ]
     },
     "metadata": {
      "filenames": {
       "image/png": "/home/johannbs/projects/NBI_python/_build/jupyter_execute/notebooks/sympy/Notebook_kompleks_32_0.png"
      }
     },
     "output_type": "display_data"
    },
    {
     "data": {
      "image/png": "[encoded data removed]",
      "text/latex": [
       "$\\displaystyle \\frac{\\pi}{3}$"
      ],
      "text/plain": [
       "π\n",
       "─\n",
       "3"
      ]
     },
     "metadata": {
      "filenames": {
       "image/png": "/home/johannbs/projects/NBI_python/_build/jupyter_execute/notebooks/sympy/Notebook_kompleks_32_1.png"
      }
     },
     "output_type": "display_data"
    }
   ],
   "source": [
    "display(sp.arg(z))\n",
    "display(sp.arg(w))"
   ]
  },
  {
   "cell_type": "markdown",
   "metadata": {},
   "source": [
    "Hvorefter vi som nævnt tidligere kan bruge <code>.evalf()</code>, hvis vi vil have et bud på værdien af $-\\arctan (7/10)$ med fire decimaler"
   ]
  },
  {
   "cell_type": "code",
   "execution_count": 17,
   "metadata": {},
   "outputs": [
    {
     "data": {
      "image/png": "[encoded data removed]",
      "text/latex": [
       "$\\displaystyle -0.61072596$"
      ],
      "text/plain": [
       "-0.61072596"
      ]
     },
     "execution_count": 17,
     "metadata": {
      "filenames": {
       "image/png": "/home/johannbs/projects/NBI_python/_build/jupyter_execute/notebooks/sympy/Notebook_kompleks_34_0.png"
      }
     },
     "output_type": "execute_result"
    }
   ],
   "source": [
    "sp.arg(z).evalf(4)"
   ]
  },
  {
   "cell_type": "markdown",
   "metadata": {},
   "source": [
    "### Kompleks konjugering"
   ]
  },
  {
   "cell_type": "markdown",
   "metadata": {},
   "source": [
    "Vi vil ret ofte benytte os af kompleks konjugering, hvor vi skifter fortegn på imaginærdelen (eller spejler i den reelle akse). Dette kan vi gøre ved brug af <code>sp.conjugate()</code>, som virker på imaginære tal uanset notationsform. Bemærk at funktionen hedder det samme som den tilsvarende funktion for matricer, som vi kender fra Lineær Algebra, men som har en anden syntax:"
   ]
  },
  {
   "cell_type": "code",
   "execution_count": 18,
   "metadata": {},
   "outputs": [
    {
     "data": {
      "image/png": "[encoded data removed]",
      "text/latex": [
       "$\\displaystyle 10 - 7 i$"
      ],
      "text/plain": [
       "10 - 7⋅ⅈ"
      ]
     },
     "metadata": {
      "filenames": {
       "image/png": "/home/johannbs/projects/NBI_python/_build/jupyter_execute/notebooks/sympy/Notebook_kompleks_37_0.png"
      }
     },
     "output_type": "display_data"
    },
    {
     "data": {
      "image/png": "[encoded data removed]",
      "text/latex": [
       "$\\displaystyle 10 + 7 i$"
      ],
      "text/plain": [
       "10 + 7⋅ⅈ"
      ]
     },
     "metadata": {
      "filenames": {
       "image/png": "/home/johannbs/projects/NBI_python/_build/jupyter_execute/notebooks/sympy/Notebook_kompleks_37_1.png"
      }
     },
     "output_type": "display_data"
    },
    {
     "data": {
      "image/png": "[encoded data removed]",
      "text/latex": [
       "$\\displaystyle 10 + 7 i$"
      ],
      "text/plain": [
       "10 + 7⋅ⅈ"
      ]
     },
     "metadata": {
      "filenames": {
       "image/png": "/home/johannbs/projects/NBI_python/_build/jupyter_execute/notebooks/sympy/Notebook_kompleks_37_2.png"
      }
     },
     "output_type": "display_data"
    }
   ],
   "source": [
    "display(z)\n",
    "display(sp.conjugate(z))  # Konjugering af komplekst tal\n",
    "display(z.conjugate())    # Konjugering af matrix ... men da z kan opfattes som en 1 x 1 matrix, er resultatet det samme"
   ]
  },
  {
   "cell_type": "code",
   "execution_count": 19,
   "metadata": {},
   "outputs": [
    {
     "data": {
      "image/png": "[encoded data removed]",
      "text/latex": [
       "$\\displaystyle 4 e^{\\frac{i \\pi}{3}}$"
      ],
      "text/plain": [
       "   ⅈ⋅π\n",
       "   ───\n",
       "    3 \n",
       "4⋅ℯ   "
      ]
     },
     "metadata": {
      "filenames": {
       "image/png": "/home/johannbs/projects/NBI_python/_build/jupyter_execute/notebooks/sympy/Notebook_kompleks_38_0.png"
      }
     },
     "output_type": "display_data"
    },
    {
     "data": {
      "image/png": "[encoded data removed]",
      "text/latex": [
       "$\\displaystyle 4 e^{- \\frac{i \\pi}{3}}$"
      ],
      "text/plain": [
       "   -ⅈ⋅π \n",
       "   ─────\n",
       "     3  \n",
       "4⋅ℯ     "
      ]
     },
     "metadata": {
      "filenames": {
       "image/png": "/home/johannbs/projects/NBI_python/_build/jupyter_execute/notebooks/sympy/Notebook_kompleks_38_1.png"
      }
     },
     "output_type": "display_data"
    }
   ],
   "source": [
    "display(w)\n",
    "display(sp.conjugate(w))"
   ]
  },
  {
   "cell_type": "markdown",
   "metadata": {},
   "source": [
    "## Rødder og ligninger"
   ]
  },
  {
   "cell_type": "markdown",
   "metadata": {},
   "source": [
    "En central egenskab ved de komplekse tal er, at et polynomium af n'te grad altid har netop n rødder (med multiplicitet). Vi skal ofte finde rødder i polynomier og løsninger til ligninger, og her indgår der ofte kvadratrødder og andre rødder af komplekse tal. Se TK 3.4.2 s. 141, hvor det fremgår at der altid er netop $n$ n'te rødder. Når vi vil finde den n'te rod af et komplekst tal, benytter vi <code>sp.root</code>. Syntaksen er således, at $\\sqrt[n]{z}$ skrives som <code>sp.root(z, n, hvilken_rod)</code>, hvor <code>hvilken_rod</code> er et tal mellem $0$ til $n-1$ (husk at Python tæller fra 0) og fortæller SymPy, hvilken af de $n$ rødder, den skal udregne."
   ]
  },
  {
   "cell_type": "code",
   "execution_count": 20,
   "metadata": {},
   "outputs": [
    {
     "data": {
      "image/png": "[encoded data removed]",
      "text/latex": [
       "$\\displaystyle -3 + 3 i$"
      ],
      "text/plain": [
       "-3 + 3⋅ⅈ"
      ]
     },
     "metadata": {
      "filenames": {
       "image/png": "/home/johannbs/projects/NBI_python/_build/jupyter_execute/notebooks/sympy/Notebook_kompleks_41_0.png"
      }
     },
     "output_type": "display_data"
    }
   ],
   "source": [
    "z = - 3 + 3 * I\n",
    "display(z)"
   ]
  },
  {
   "cell_type": "code",
   "execution_count": 21,
   "metadata": {},
   "outputs": [
    {
     "data": {
      "image/png": "[encoded data removed]",
      "text/latex": [
       "$\\displaystyle \\sqrt[4]{-3 + 3 i}$"
      ],
      "text/plain": [
       "4 __________\n",
       "╲╱ -3 + 3⋅ⅈ "
      ]
     },
     "execution_count": 21,
     "metadata": {
      "filenames": {
       "image/png": "/home/johannbs/projects/NBI_python/_build/jupyter_execute/notebooks/sympy/Notebook_kompleks_42_0.png"
      }
     },
     "output_type": "execute_result"
    }
   ],
   "source": [
    "sp.root(z, 4, 0)"
   ]
  },
  {
   "cell_type": "markdown",
   "metadata": {},
   "source": [
    "Dette er utvivlsomt korrekt, men når man ønsker et mere anvendeligt svar, kan man f.eks. tvinge SymPy til at udregne real-delen og imaginærdelen som vi gjorde ovenfor:"
   ]
  },
  {
   "cell_type": "code",
   "execution_count": 22,
   "metadata": {},
   "outputs": [
    {
     "data": {
      "image/png": "[encoded data removed]",
      "text/latex": [
       "$\\displaystyle \\sqrt[8]{2} \\sqrt[4]{3} \\cos{\\left(\\frac{3 \\pi}{16} \\right)}$"
      ],
      "text/plain": [
       "8 ___ 4 ___    ⎛3⋅π⎞\n",
       "╲╱ 2 ⋅╲╱ 3 ⋅cos⎜───⎟\n",
       "               ⎝ 16⎠"
      ]
     },
     "metadata": {
      "filenames": {
       "image/png": "/home/johannbs/projects/NBI_python/_build/jupyter_execute/notebooks/sympy/Notebook_kompleks_44_0.png"
      }
     },
     "output_type": "display_data"
    },
    {
     "data": {
      "image/png": "[encoded data removed]",
      "text/latex": [
       "$\\displaystyle \\sqrt[8]{2} \\sqrt[4]{3} \\sin{\\left(\\frac{3 \\pi}{16} \\right)}$"
      ],
      "text/plain": [
       "8 ___ 4 ___    ⎛3⋅π⎞\n",
       "╲╱ 2 ⋅╲╱ 3 ⋅sin⎜───⎟\n",
       "               ⎝ 16⎠"
      ]
     },
     "metadata": {
      "filenames": {
       "image/png": "/home/johannbs/projects/NBI_python/_build/jupyter_execute/notebooks/sympy/Notebook_kompleks_44_1.png"
      }
     },
     "output_type": "display_data"
    }
   ],
   "source": [
    "r1 = sp.root(z, 4, 0)\n",
    "display(sp.re(r1))\n",
    "display(sp.im(r1))"
   ]
  },
  {
   "cell_type": "markdown",
   "metadata": {},
   "source": [
    "Vi vil nu se på rødderne i et simplere tilfælde, nemlig $\\sqrt[4]{-4}$.\n",
    "\n",
    "Hvis vi ønsker at finde alle rødderne på en gang og få dem præsenteret i en liste, kan vi enten skrive det op som en ligning:"
   ]
  },
  {
   "cell_type": "code",
   "execution_count": 23,
   "metadata": {},
   "outputs": [
    {
     "data": {
      "image/png": "[encoded data removed]",
      "text/latex": [
       "$\\displaystyle \\left[ -1 - i, \\  -1 + i, \\  1 - i, \\  1 + i\\right]$"
      ],
      "text/plain": [
       "[-1 - ⅈ, -1 + ⅈ, 1 - ⅈ, 1 + ⅈ]"
      ]
     },
     "execution_count": 23,
     "metadata": {
      "filenames": {
       "image/png": "/home/johannbs/projects/NBI_python/_build/jupyter_execute/notebooks/sympy/Notebook_kompleks_46_0.png"
      }
     },
     "output_type": "execute_result"
    }
   ],
   "source": [
    "from sympy.abc import x\n",
    "sp.solve(sp.Eq(x**4, -4), x)"
   ]
  },
  {
   "cell_type": "markdown",
   "metadata": {},
   "source": [
    "Eller vi kan beregne rødderne en efter en ved hjælp af en for-løkke:"
   ]
  },
  {
   "cell_type": "code",
   "execution_count": 24,
   "metadata": {},
   "outputs": [
    {
     "data": {
      "image/png": "[encoded data removed]",
      "text/latex": [
       "$\\displaystyle 1 + i$"
      ],
      "text/plain": [
       "1 + ⅈ"
      ]
     },
     "metadata": {
      "filenames": {
       "image/png": "/home/johannbs/projects/NBI_python/_build/jupyter_execute/notebooks/sympy/Notebook_kompleks_48_0.png"
      }
     },
     "output_type": "display_data"
    },
    {
     "data": {
      "image/png": "[encoded data removed]",
      "text/latex": [
       "$\\displaystyle -1 + i$"
      ],
      "text/plain": [
       "-1 + ⅈ"
      ]
     },
     "metadata": {
      "filenames": {
       "image/png": "/home/johannbs/projects/NBI_python/_build/jupyter_execute/notebooks/sympy/Notebook_kompleks_48_1.png"
      }
     },
     "output_type": "display_data"
    },
    {
     "data": {
      "image/png": "[encoded data removed]",
      "text/latex": [
       "$\\displaystyle -1 - i$"
      ],
      "text/plain": [
       "-1 - ⅈ"
      ]
     },
     "metadata": {
      "filenames": {
       "image/png": "/home/johannbs/projects/NBI_python/_build/jupyter_execute/notebooks/sympy/Notebook_kompleks_48_2.png"
      }
     },
     "output_type": "display_data"
    },
    {
     "data": {
      "image/png": "[encoded data removed]",
      "text/latex": [
       "$\\displaystyle 1 - i$"
      ],
      "text/plain": [
       "1 - ⅈ"
      ]
     },
     "metadata": {
      "filenames": {
       "image/png": "/home/johannbs/projects/NBI_python/_build/jupyter_execute/notebooks/sympy/Notebook_kompleks_48_3.png"
      }
     },
     "output_type": "display_data"
    }
   ],
   "source": [
    "for i in range(4):\n",
    "    r = sp.root(-4, 4, i)\n",
    "    display(sp.re(r) + I * sp.im(r))"
   ]
  },
  {
   "cell_type": "markdown",
   "metadata": {},
   "source": [
    "Vi kan finde rødder til polynomier ved hjælp af <code>sp.solve()</code>. Vi minder om at hvis vi kun giver <code>sp.solve()</code> et udtryk (og altså ikke en ligning, f.eks. dannet ved hjælp af <code>sp.Eq</code>), så finder funktionen løsninger til den ligning, der fremkommer når udtrykket sættes lig 0:"
   ]
  },
  {
   "cell_type": "code",
   "execution_count": 25,
   "metadata": {},
   "outputs": [
    {
     "data": {
      "image/png": "[encoded data removed]",
      "text/latex": [
       "$\\displaystyle \\left[ 1, \\  - 2 i, \\  2 i\\right]$"
      ],
      "text/plain": [
       "[1, -2⋅ⅈ, 2⋅ⅈ]"
      ]
     },
     "metadata": {
      "filenames": {
       "image/png": "/home/johannbs/projects/NBI_python/_build/jupyter_execute/notebooks/sympy/Notebook_kompleks_50_0.png"
      }
     },
     "output_type": "display_data"
    },
    {
     "data": {
      "image/png": "[encoded data removed]",
      "text/latex": [
       "$\\displaystyle \\left[ 1, \\  - 2 i, \\  2 i\\right]$"
      ],
      "text/plain": [
       "[1, -2⋅ⅈ, 2⋅ⅈ]"
      ]
     },
     "metadata": {
      "filenames": {
       "image/png": "/home/johannbs/projects/NBI_python/_build/jupyter_execute/notebooks/sympy/Notebook_kompleks_50_1.png"
      }
     },
     "output_type": "display_data"
    }
   ],
   "source": [
    "from sympy.abc import z \n",
    "# Definer p som også har imaginære rødder\n",
    "p =  z ** 3 - z ** 2 + 4 * z + -4\n",
    "\n",
    "# Løs med sp.solve ved hjælp af udtrykket for p, der automatisk sættes lig nul\n",
    "display(sp.solve(p))\n",
    "\n",
    "# ... eller med en mindre elegant syntaks, hvor ligningen eksplicit er angivet til z3 - z^2 + 4z = 4\n",
    "display(sp.solve(sp.Eq(z**3-z**2+4*z, 4), z))"
   ]
  },
  {
   "cell_type": "markdown",
   "metadata": {},
   "source": [
    "## Visualisering i det komplekse plan"
   ]
  },
  {
   "cell_type": "markdown",
   "metadata": {},
   "source": [
    "Der er ikke et decideret tegneværktøj til komplekse tal i SymPy. Vi kan dog nå langt ved at lave udregningerne i SymPy og så tegne real- og imaginærdelene af tallet ved hjælp af _Matplotlib_. "
   ]
  },
  {
   "cell_type": "markdown",
   "metadata": {},
   "source": [
    "Som eksempel vil vi prøve at visualisere hvad der sker, når vi tager et komplekst tal opløftet til en stigende potens. "
   ]
  },
  {
   "cell_type": "code",
   "execution_count": 32,
   "metadata": {},
   "outputs": [
    {
     "data": {
      "image/png": "[encoded data removed]",
      "text/latex": [
       "$\\displaystyle \\left[ 1, \\  1 + \\frac{i}{2}, \\  \\frac{3}{4} + i, \\  \\frac{1}{4} + \\frac{11 i}{8}, \\  - \\frac{7}{16} + \\frac{3 i}{2}, \\  - \\frac{19}{16} + \\frac{41 i}{32}, \\  - \\frac{117}{64} + \\frac{11 i}{16}, \\  - \\frac{139}{64} - \\frac{29 i}{128}, \\  - \\frac{527}{256} - \\frac{21 i}{16}, \\  - \\frac{359}{256} - \\frac{1199 i}{512}, \\  - \\frac{237}{1024} - \\frac{779 i}{256}, \\  \\frac{1321}{1024} - \\frac{6469 i}{2048}\\right]$"
      ],
      "text/plain": [
       "⎡       ⅈ           1   11⋅ⅈ    7    3⋅ⅈ    19   41⋅ⅈ    117   11⋅ⅈ    139   2\n",
       "⎢1, 1 + ─, 3/4 + ⅈ, ─ + ────, - ── + ───, - ── + ────, - ─── + ────, - ─── - ─\n",
       "⎣       2           4    8      16    2     16    32      64    16      64   1\n",
       "\n",
       "9⋅ⅈ    527   21⋅ⅈ    359   1199⋅ⅈ    237    779⋅ⅈ  1321   6469⋅ⅈ⎤\n",
       "───, - ─── - ────, - ─── - ──────, - ──── - ─────, ──── - ──────⎥\n",
       "28     256    16     256    512      1024    256   1024    2048 ⎦"
      ]
     },
     "metadata": {
      "filenames": {
       "image/png": "/home/johannbs/projects/NBI_python/_build/jupyter_execute/notebooks/sympy/Notebook_kompleks_54_0.png"
      }
     },
     "output_type": "display_data"
    }
   ],
   "source": [
    "import matplotlib.pyplot as plt\n",
    "\n",
    "# Vi tager et eksempel med (1 + i/2)^n for n = 0, ..., 11\n",
    "z = 1 + I/2\n",
    "\n",
    "# Tom liste\n",
    "zs = []\n",
    "for i in range(12): # Vi kører nu igennem tolv gange (altså fra 0 til 11) og tilføjer potensen til en liste\n",
    "    zs.append(sp.expand(z ** i))\n",
    "    \n",
    "display(zs)"
   ]
  },
  {
   "cell_type": "markdown",
   "metadata": {},
   "source": [
    "Vi viser her to mulige måder at visualisere disse tal på. Den første bruger SymPy, mens vi i den anden bruger NumPy til at lave en lidt nemmere numerisk løsning"
   ]
  },
  {
   "cell_type": "markdown",
   "metadata": {},
   "source": [
    "### Visualisering i SymPy\n",
    "Først danner vi realdelene $x$ og imaginærdelene $y$, så tegner vi, og til sidst tilføjer vi linjer svarende til de reelle og imaginære akser. "
   ]
  },
  {
   "cell_type": "code",
   "execution_count": 47,
   "metadata": {},
   "outputs": [
    {
     "data": {
      "image/png": "[encoded data removed]",
      "text/plain": [
       "<Figure size 432x288 with 1 Axes>"
      ]
     },
     "metadata": {
      "filenames": {
       "image/png": "/home/johannbs/projects/NBI_python/_build/jupyter_execute/notebooks/sympy/Notebook_kompleks_57_0.png"
      },
      "needs_background": "light"
     },
     "output_type": "display_data"
    }
   ],
   "source": [
    "xs = []\n",
    "ys = []\n",
    "\n",
    "for tal in zs:\n",
    "    xs.append(sp.re(tal))\n",
    "    ys.append(sp.im(tal))\n",
    "\n",
    "plt.plot(xs, ys, \"bx\");\n",
    "\n",
    "plt.hlines(0, -4, 4, ls = \"--\", color = \"black\");\n",
    "plt.vlines(0, -3, 3, ls = \"--\", color = \"black\");"
   ]
  },
  {
   "cell_type": "markdown",
   "metadata": {},
   "source": [
    "Vi ser at værdierne starter i $z^0 = 1$ og spiralerer udaf idet $|z|>1$ og modulus af $z^n$ derfor vokser for stigende n. Argumentet vokser med en fast værdi hver gang $n$ vokser med 1.\n",
    "\n",
    "### Visualisering i NumPy\n",
    "Benytter vi i stedet NumPy, kan vi komme lidt lettere om ved det, og da SymPy alligevel konverterer til numeriske værdier inden graftegning, taber vi ikke det store. "
   ]
  },
  {
   "cell_type": "code",
   "execution_count": 35,
   "metadata": {},
   "outputs": [
    {
     "data": {
      "image/png": "[encoded data removed]",
      "text/plain": [
       "<Figure size 432x288 with 1 Axes>"
      ]
     },
     "metadata": {
      "filenames": {
       "image/png": "/home/johannbs/projects/NBI_python/_build/jupyter_execute/notebooks/sympy/Notebook_kompleks_59_0.png"
      },
      "needs_background": "light"
     },
     "output_type": "display_data"
    }
   ],
   "source": [
    "import numpy as np\n",
    "\n",
    "# Vi laver et numpy array, hvor vi specificerer datatypen til et numerisk-komplekst tal\n",
    "zs = np.array(zs, dtype = complex);\n",
    "\n",
    "# Så kan vi plotte det med at tage de reelle og imaginære værdier ud af arrayet direkt\n",
    "plt.plot(zs.real, zs.imag, \"kx\");\n",
    "\n",
    "# ... og linjer, der kan gøre det ud for akser\n",
    "plt.hlines(0, -4, 4, ls = \"--\", color = \"black\");\n",
    "plt.vlines(0, -3, 3, ls = \"--\", color = \"black\");\n"
   ]
  },
  {
   "cell_type": "markdown",
   "metadata": {},
   "source": [
    "Vi kan også bruge metoden til at vise rødderne i et polynomium."
   ]
  },
  {
   "cell_type": "code",
   "execution_count": 51,
   "metadata": {},
   "outputs": [
    {
     "data": {
      "image/png": "[encoded data removed]",
      "text/latex": [
       "$\\displaystyle \\left[ 1, \\  -1 - i, \\  -1 + i\\right]$"
      ],
      "text/plain": [
       "[1, -1 - ⅈ, -1 + ⅈ]"
      ]
     },
     "metadata": {
      "filenames": {
       "image/png": "/home/johannbs/projects/NBI_python/_build/jupyter_execute/notebooks/sympy/Notebook_kompleks_61_0.png"
      }
     },
     "output_type": "display_data"
    }
   ],
   "source": [
    "from sympy.abc import z\n",
    "\n",
    "zs = sp.solve(z**3 + z**2 - 2)\n",
    "display(zs)"
   ]
  },
  {
   "cell_type": "markdown",
   "metadata": {},
   "source": [
    "Her tegner vi ved hjælp af funktionen <code>scatter</code>, der giver mange grafiske muligheder for grafer bestående af enkelte \"prikker\", altså ikke-forbundne talpar."
   ]
  },
  {
   "cell_type": "code",
   "execution_count": 52,
   "metadata": {},
   "outputs": [
    {
     "data": {
      "image/png": "[encoded data removed]",
      "text/plain": [
       "<Figure size 432x288 with 1 Axes>"
      ]
     },
     "metadata": {
      "filenames": {
       "image/png": "/home/johannbs/projects/NBI_python/_build/jupyter_execute/notebooks/sympy/Notebook_kompleks_63_0.png"
      },
      "needs_background": "light"
     },
     "output_type": "display_data"
    }
   ],
   "source": [
    "zs = np.array(zs, dtype = complex)\n",
    "plt.scatter(zs.real, zs.imag, marker = \"x\", s = 20, color = \"red\")\n",
    "\n",
    "# ... og linjer, der kan gøre det ud for akser. Længden er valgt således at inddelingerne på \"akserne\" er omtrent det samme.\n",
    "plt.hlines(0, -2.7, 2.7, ls = \"--\", color = \"black\");\n",
    "plt.vlines(0, -2, 2, ls = \"--\", color = \"black\");\n"
   ]
  },
  {
   "cell_type": "code",
   "execution_count": null,
   "metadata": {},
   "outputs": [],
   "source": []
  }
 ],
 "metadata": {
  "kernelspec": {
   "display_name": "Python 3",
   "language": "python",
   "name": "python3"
  },
  "language_info": {
   "codemirror_mode": {
    "name": "ipython",
    "version": 3
   },
   "file_extension": ".py",
   "mimetype": "text/x-python",
   "name": "python",
   "nbconvert_exporter": "python",
   "pygments_lexer": "ipython3",
   "version": "3.7.9"
  },
  "latex_envs": {
   "LaTeX_envs_menu_present": true,
   "autoclose": false,
   "autocomplete": true,
   "bibliofile": "biblio.bib",
   "cite_by": "apalike",
   "current_citInitial": 1,
   "eqLabelWithNumbers": true,
   "eqNumInitial": 1,
   "hotkeys": {
    "equation": "Ctrl-E",
    "itemize": "Ctrl-I"
   },
   "labels_anchors": false,
   "latex_user_defs": false,
   "report_style_numbering": false,
   "user_envs_cfg": false
  },
  "toc": {
   "base_numbering": 1,
   "nav_menu": {},
   "number_sections": true,
   "sideBar": true,
   "skip_h1_title": true,
   "title_cell": "Indholdsfortegnelse",
   "title_sidebar": "Contents",
   "toc_cell": true,
   "toc_position": {},
   "toc_section_display": true,
   "toc_window_display": true
  }
 },
 "nbformat": 4,
 "nbformat_minor": 4
}