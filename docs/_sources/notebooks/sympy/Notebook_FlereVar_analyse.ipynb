{
 "cells": [
  {
   "cell_type": "markdown",
   "metadata": {},
   "source": [
    "# Analyse for funktioner af flere variable"
   ]
  },
  {
   "cell_type": "markdown",
   "metadata": {},
   "source": [
    "Vi har nu udvidet vores funktionsdefinition til at omfatte funktioner af flere variable. Som udgangspunkt kan vi bruge Python/SymPy på samme måde som for funktioner af en variabel. Til at starte med sørger vi for også at importerer variablen `y` fra `sympy.abc`, men vi kunne også tilføje flere variable og gennemføre tilsvarende beregninger for funktioner af 3 eller flere variable."
   ]
  },
  {
   "cell_type": "code",
   "execution_count": 1,
   "metadata": {},
   "outputs": [],
   "source": [
    "import sympy as sp                    # Importer sympy\n",
    "from sympy.abc import x, y            # Vi henter vores variabler"
   ]
  },
  {
   "cell_type": "markdown",
   "metadata": {},
   "source": [
    "For funktioner af flere variable bliver diffentialkvotienterne $f'$, $f''$ afløst af lidt flere begreber. Vi vil i det følgende demonstrere, hvordan man beregner partielt afledede, gradienter og Hesse-matricer (som dog først bliver berørt til sidst i LinAlys-kurset).\n",
    "\n",
    "## Partielt afledede\n",
    "Når vi går fra en til flere variable, spiller de partielt afledede en central rolle. De beregnes på en helt tilsvarende måde som vi tidligere har beregnet $f'$, idet vi blot skal være opmærksomme på, hvilken variabel, vi differentiere i forhold til. Vi har også ved differentiation af funktioner af en variabel (se notebook til uge 4) angivet navnet på den variable, f.eks. <code>sp.diff(expr, x)</code>, men dette var faktisk ikke strengt nødvendigt for simple funktioner, da SymPy i mange tilfælde kan gætte hvad der er den variable. Når vi har to variable, er det derimod afgørende at vi angiver den relevante variabel eksplicit.\n",
    "\n",
    "Ellers foregår mange beregninger på samme måde:"
   ]
  },
  {
   "cell_type": "code",
   "execution_count": 2,
   "metadata": {},
   "outputs": [
    {
     "data": {
      "text/latex": [
       "$\\displaystyle 2 x y \\cos{\\left(x^{2} y \\right)}$"
      ],
      "text/plain": [
       "2*x*y*cos(x**2*y)"
      ]
     },
     "metadata": {},
     "output_type": "display_data"
    },
    {
     "data": {
      "text/latex": [
       "$\\displaystyle x^{2} \\cos{\\left(x^{2} y \\right)}$"
      ],
      "text/plain": [
       "x**2*cos(x**2*y)"
      ]
     },
     "metadata": {},
     "output_type": "display_data"
    }
   ],
   "source": [
    "expr = sp.sin(x**2 * y)         # Vi definerer vores funktion af de to variable x og y\n",
    "display(sp.diff(expr, x))       # Og differentierer, som vi plejer ift x\n",
    "display(sp.diff(expr, y))       # Og i forhold til y"
   ]
  },
  {
   "cell_type": "markdown",
   "metadata": {},
   "source": [
    "Derimod giver <code>display(sp.diff(expr))</code> en fejlmeddelelse. Vi kan også differentiere flere gange efter hinanden i én kommando: Hvis vi f.eks. ønsker at udregne $\\frac{\\partial^2}{\\partial x \\partial y}\\left ( x^2\\cdot e^y\\right )$, skriver vi <code>sp.diff(expr, y, x)</code>. \n",
    "\n",
    "Bemærk rækkefølgen af $x$ og $y$ her: i $\\frac{\\partial^2}{\\partial x \\partial y}$ står $\\partial y$ bagerst, og logikken er, at da dette er nærmest funktionsudtrykket, skal vi differentiere efter $y$ først. Mere formelt er $\\frac{\\partial^2f}{\\partial x \\partial y} \\equiv \\frac{\\partial}{\\partial x}\\left ( \\frac{\\partial f}{\\partial y} \\right )$. \n",
    "\n",
    "Når vi opskriver dette i Python, skal vi derimod liste variable i differentiations/integrationsrækkefølgen i almindelig læseretning. Dette giver os:"
   ]
  },
  {
   "cell_type": "code",
   "execution_count": 3,
   "metadata": {},
   "outputs": [
    {
     "data": {
      "text/latex": [
       "$\\displaystyle x^{2} e^{y}$"
      ],
      "text/plain": [
       "x**2*exp(y)"
      ]
     },
     "metadata": {},
     "output_type": "display_data"
    },
    {
     "data": {
      "text/latex": [
       "$\\displaystyle 2 x e^{y}$"
      ],
      "text/plain": [
       "2*x*exp(y)"
      ]
     },
     "metadata": {},
     "output_type": "display_data"
    },
    {
     "data": {
      "text/latex": [
       "$\\displaystyle 2 x e^{y}$"
      ],
      "text/plain": [
       "2*x*exp(y)"
      ]
     },
     "metadata": {},
     "output_type": "display_data"
    },
    {
     "data": {
      "text/latex": [
       "$\\displaystyle x^{2} e^{y}$"
      ],
      "text/plain": [
       "x**2*exp(y)"
      ]
     },
     "metadata": {},
     "output_type": "display_data"
    },
    {
     "data": {
      "text/latex": [
       "$\\displaystyle 2 x e^{y}$"
      ],
      "text/plain": [
       "2*x*exp(y)"
      ]
     },
     "metadata": {},
     "output_type": "display_data"
    }
   ],
   "source": [
    "expr = x**2*sp.exp(y)\n",
    "display(expr,                  # Display kan bruges til at vise flere ting uden at kalde den flere gange.\n",
    "        expr.diff(x),\n",
    "        expr.diff(x, y),\n",
    "        expr.diff(y),\n",
    "        expr.diff(y, x))"
   ]
  },
  {
   "cell_type": "markdown",
   "metadata": {},
   "source": [
    "__Tip:__ For at gøre koden her mere læselig, nøjes vi med at kalde `display()` en gang, hvor vi til gengæld giver den flere udtryk som den skal vise. Desuden benytter vi, at `expr.diff(x)` er tilsvarende til `sp.diff(expr, x)`. "
   ]
  },
  {
   "cell_type": "markdown",
   "metadata": {},
   "source": [
    "## Gradienter og retningsafledede"
   ]
  },
  {
   "cell_type": "markdown",
   "metadata": {},
   "source": [
    "Et centralt begreb for funktioner af flere variable er gradienten, som vi (i funktioner af to variable) skriver som:  \n",
    "\n",
    "$\\nabla f(x,y) = \\left(\\frac{\\partial f}{\\partial x}, \\frac{\\partial f}{\\partial y}\\right)$\n",
    "\n",
    "Vi tager altså den partielle differentieret i forhold til vores variable og sætter dem sammen som en vektor. \n",
    "\n",
    "Der er flere måder at beregne gradienten på i Python/SymPy, men her vil vi anvende en måde, der læner sig op af den måde, vi udregner den på i hånden. Vi vil altså lave en vektor bestående af de forskellige partielt afledede. Vi gør dette med <code>sp.derive_by_array()</code>, der som input skal bruge en funktion og en liste af de variable, der skal differentieres efter.\n",
    "\n",
    "\n",
    "Eksempel: Vi vil finde gradienten af $f(x,y) = e^{- x^2 - y^2}$."
   ]
  },
  {
   "cell_type": "code",
   "execution_count": 4,
   "metadata": {},
   "outputs": [
    {
     "data": {
      "text/latex": [
       "$\\displaystyle \\left[\\begin{matrix}- 2 x e^{- x^{2} - y^{2}} & - 2 y e^{- x^{2} - y^{2}}\\end{matrix}\\right]$"
      ],
      "text/plain": [
       "[-2*x*exp(-x**2 - y**2), -2*y*exp(-x**2 - y**2)]"
      ]
     },
     "execution_count": 4,
     "metadata": {},
     "output_type": "execute_result"
    }
   ],
   "source": [
    "expr = sp.exp(- x ** 2 - y ** 2)\n",
    "\n",
    "grad = sp.derive_by_array(expr, [x, y])\n",
    "grad"
   ]
  },
  {
   "cell_type": "markdown",
   "metadata": {},
   "source": [
    "Resultatet kan umiddelbart aflæses, men hvis vi vil regne videre med gradienten som en vektor, bliver vi nødt til at benytte <code>sp.Matrix()</code> til at konvertere resultatet til matrixform, som vi kender fra [afsnittet om linær algebra](Notebook_LinAlg1.ipynb).\n",
    "\n",
    "Lad os nu eksempelvis beregne den retningsafledede for ovenstående funktion i retningen $\\left(\\frac{1}{\\sqrt{2}},\\frac{1}{\\sqrt{2}}\\right)$ i punktet med $(x, y) = (1, 2)$. Vi beregner nu jvf. TK sætning 2.57:"
   ]
  },
  {
   "cell_type": "code",
   "execution_count": 5,
   "metadata": {},
   "outputs": [
    {
     "data": {
      "text/latex": [
       "$\\displaystyle \\left[\\begin{matrix}- 2 x e^{- x^{2} - y^{2}}\\\\- 2 y e^{- x^{2} - y^{2}}\\end{matrix}\\right]$"
      ],
      "text/plain": [
       "Matrix([\n",
       "[-2*x*exp(-x**2 - y**2)],\n",
       "[-2*y*exp(-x**2 - y**2)]])"
      ]
     },
     "execution_count": 5,
     "metadata": {},
     "output_type": "execute_result"
    }
   ],
   "source": [
    "grad_vec = sp.Matrix(grad)    # Konverterer til vektor/matrix-format\n",
    "grad_vec                      # Vi viser det lige"
   ]
  },
  {
   "cell_type": "markdown",
   "metadata": {},
   "source": [
    "Vi definerer nu retningsvektoren med `sp.Matrix()`."
   ]
  },
  {
   "cell_type": "code",
   "execution_count": 6,
   "metadata": {},
   "outputs": [
    {
     "data": {
      "text/latex": [
       "$\\displaystyle \\left[\\begin{matrix}\\frac{\\sqrt{2}}{2}\\\\\\frac{\\sqrt{2}}{2}\\end{matrix}\\right]$"
      ],
      "text/plain": [
       "Matrix([\n",
       "[sqrt(2)/2],\n",
       "[sqrt(2)/2]])"
      ]
     },
     "execution_count": 6,
     "metadata": {},
     "output_type": "execute_result"
    }
   ],
   "source": [
    "retning = sp.Matrix([1/sp.sqrt(2), 1/sp.sqrt(2)])\n",
    "retning\n"
   ]
  },
  {
   "cell_type": "markdown",
   "metadata": {},
   "source": [
    "Og nu kan vi beregne prikproduktet med `.dot()`: "
   ]
  },
  {
   "cell_type": "code",
   "execution_count": 7,
   "metadata": {},
   "outputs": [
    {
     "data": {
      "text/latex": [
       "$\\displaystyle - \\sqrt{2} x e^{- x^{2} - y^{2}} - \\sqrt{2} y e^{- x^{2} - y^{2}}$"
      ],
      "text/plain": [
       "-sqrt(2)*x*exp(-x**2 - y**2) - sqrt(2)*y*exp(-x**2 - y**2)"
      ]
     },
     "execution_count": 7,
     "metadata": {},
     "output_type": "execute_result"
    }
   ],
   "source": [
    "prikket = grad_vec.dot(retning)\n",
    "prikket\n"
   ]
  },
  {
   "cell_type": "markdown",
   "metadata": {},
   "source": [
    "Til sidst indsætter vi $(x, y) = (1, 2)$:"
   ]
  },
  {
   "cell_type": "code",
   "execution_count": 8,
   "metadata": {},
   "outputs": [
    {
     "data": {
      "text/latex": [
       "$\\displaystyle - \\frac{3 \\sqrt{2}}{e^{5}}$"
      ],
      "text/plain": [
       "-3*sqrt(2)*exp(-5)"
      ]
     },
     "execution_count": 8,
     "metadata": {},
     "output_type": "execute_result"
    }
   ],
   "source": [
    "resultat = prikket.subs(x, 1).subs(y, 2)\n",
    "resultat"
   ]
  },
  {
   "cell_type": "markdown",
   "metadata": {},
   "source": [
    "## Hessematricen\n",
    "Sidst i kurset vil vi bruge den såkaldte Hessematrix, der er en $n\\times n$-matrix, der indeholder alle andenordens afledede for en funktion af $n$ variable. Vi vil specielt bruge determinanten af Hessematricen til at undersøge opførslen af funktioner af 2 variable omkring et stationært punkt (se TK sætning 3.4, der som det fremgår af kommentaren lige under sætningen kan formuleres ved hjælp af Hessematricen).\n",
    "\n",
    "Man kunne beregne Hessematricen ved at beregne de dobbelt afledede som beskrevet ovenfor, men det er nemmere at importere den fra underbiblioteket af SymPy, som hedder <code>sympy.matrices</code>. Dette gøres med kommandoen <code>from sympy.matrices import hessian</code>. Herefter kan vi nu benytte <code>hessian(udtryk, variabelliste)</code> på samme måde, som vi brugte <code>sp.derive_by_array</code> til at udregne gradienten:"
   ]
  },
  {
   "cell_type": "code",
   "execution_count": 2,
   "metadata": {},
   "outputs": [
    {
     "data": {
      "text/latex": [
       "$\\displaystyle \\left[\\begin{matrix}4 x^{2} e^{- x^{2} - y^{2}} - 2 e^{- x^{2} - y^{2}} & 4 x y e^{- x^{2} - y^{2}}\\\\4 x y e^{- x^{2} - y^{2}} & 4 y^{2} e^{- x^{2} - y^{2}} - 2 e^{- x^{2} - y^{2}}\\end{matrix}\\right]$"
      ],
      "text/plain": [
       "Matrix([\n",
       "[4*x**2*exp(-x**2 - y**2) - 2*exp(-x**2 - y**2),                        4*x*y*exp(-x**2 - y**2)],\n",
       "[                       4*x*y*exp(-x**2 - y**2), 4*y**2*exp(-x**2 - y**2) - 2*exp(-x**2 - y**2)]])"
      ]
     },
     "metadata": {},
     "output_type": "display_data"
    }
   ],
   "source": [
    "from sympy.matrices import hessian        # Importer Hessematricen\n",
    "expr = sp.exp(- x ** 2 - y ** 2)          # Definer samme funktion som tidligere\n",
    "\n",
    "H = hessian(expr, [x, y])\n",
    "display(H)"
   ]
  },
  {
   "cell_type": "markdown",
   "metadata": {},
   "source": [
    "Og hvis vi nu vil beregne værdien for $(x, y) = (0, 1)$, kan vi benytte <code>.subs()</code> to gange:"
   ]
  },
  {
   "cell_type": "code",
   "execution_count": 3,
   "metadata": {},
   "outputs": [
    {
     "data": {
      "text/latex": [
       "$\\displaystyle \\left[\\begin{matrix}- \\frac{2}{e} & 0\\\\0 & \\frac{2}{e}\\end{matrix}\\right]$"
      ],
      "text/plain": [
       "Matrix([\n",
       "[-2*exp(-1),         0],\n",
       "[         0, 2*exp(-1)]])"
      ]
     },
     "execution_count": 3,
     "metadata": {},
     "output_type": "execute_result"
    }
   ],
   "source": [
    "H.subs(x, 0).subs(y, 1)"
   ]
  },
  {
   "cell_type": "code",
   "execution_count": null,
   "metadata": {},
   "outputs": [],
   "source": []
  }
 ],
 "metadata": {
  "kernelspec": {
   "display_name": "Python 3",
   "language": "python",
   "name": "python3"
  },
  "language_info": {
   "codemirror_mode": {
    "name": "ipython",
    "version": 3
   },
   "file_extension": ".py",
   "mimetype": "text/x-python",
   "name": "python",
   "nbconvert_exporter": "python",
   "pygments_lexer": "ipython3",
   "version": "3.7.9"
  },
  "latex_envs": {
   "LaTeX_envs_menu_present": true,
   "autoclose": false,
   "autocomplete": true,
   "bibliofile": "biblio.bib",
   "cite_by": "apalike",
   "current_citInitial": 1,
   "eqLabelWithNumbers": true,
   "eqNumInitial": 1,
   "hotkeys": {
    "equation": "Ctrl-E",
    "itemize": "Ctrl-I"
   },
   "labels_anchors": false,
   "latex_user_defs": false,
   "report_style_numbering": false,
   "user_envs_cfg": false
  },
  "toc": {
   "base_numbering": 1,
   "nav_menu": {},
   "number_sections": true,
   "sideBar": true,
   "skip_h1_title": false,
   "title_cell": "Indholdsfortegnelse",
   "title_sidebar": "Contents",
   "toc_cell": false,
   "toc_position": {},
   "toc_section_display": true,
   "toc_window_display": true
  }
 },
 "nbformat": 4,
 "nbformat_minor": 4
}
