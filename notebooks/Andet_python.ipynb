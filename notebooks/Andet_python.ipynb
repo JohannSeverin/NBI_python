{
 "cells": [
  {
   "cell_type": "markdown",
   "source": [
    "# Kontrolstrukturer og Løkker\r\n",
    "\r\n",
    "_Denne side bygger ovenpå den tidligere, og omhandler hvordan man kan bygge kode op med brugen af kontrolstrukturer og løkker til eksempelvis at gentage kode. I MekRel og LinAlys benytter vi dog primært moduler, som tager sig af den logik og de løkker, som man skal bruge. Derfor er det ikke strengt nødvendigt at læse den her side, selvom det er nogle meget brugbare emner, der helt sikkert vil være med til at forbedre forståelsen for Python._"
   ],
   "metadata": {}
  },
  {
   "cell_type": "markdown",
   "source": [
    "## Logik i Python "
   ],
   "metadata": {}
  },
  {
   "cell_type": "markdown",
   "source": [
    "Når vi skriver kode, er vi ret ofte interesseret i, om et udtryk er sandt eller falsk for vide, hvordan vi skal eksekvere resten af koden. Til dette benytter vi boolean variable, som enten kan være ```True``` eller ```False```. Enten kan vi selv definere en variabel som værende sand ved at skrive ```switch = True```, men oftere skal vi dog tjekke om noget er sandt. \r\n",
    "\r\n",
    "Når man benytter to lighedstegn ```==``` tjekker Python om udtrykkene på hver side er lig hinanden. Eksempelvis kan vi se om vores defineret værdi er lig med 10:\r\n",
    "\r\n",
    " _Bemærk denne forskel et lighedstegn definerer og to sammenligner:_"
   ],
   "metadata": {}
  },
  {
   "cell_type": "code",
   "execution_count": 15,
   "source": [
    "i = 10 # Definer variabel\r\n",
    "i == 10 # Sammenlign variabel med værdi"
   ],
   "outputs": [
    {
     "output_type": "execute_result",
     "data": {
      "text/plain": [
       "True"
      ]
     },
     "metadata": {},
     "execution_count": 15
    }
   ],
   "metadata": {
    "ExecuteTime": {
     "end_time": "2020-07-17T15:07:22.995008Z",
     "start_time": "2020-07-17T15:07:22.985172Z"
    }
   }
  },
  {
   "cell_type": "code",
   "execution_count": 16,
   "source": [
    "i += 2 # Vi øger værdien med 2\r\n",
    "i == 10 # Og sammenligner igen"
   ],
   "outputs": [
    {
     "output_type": "execute_result",
     "data": {
      "text/plain": [
       "False"
      ]
     },
     "metadata": {},
     "execution_count": 16
    }
   ],
   "metadata": {
    "ExecuteTime": {
     "end_time": "2020-07-17T15:07:23.298858Z",
     "start_time": "2020-07-17T15:07:23.285501Z"
    },
    "scrolled": true
   }
  },
  {
   "cell_type": "markdown",
   "source": [
    "I det andet tilfælde har vi redefineret `i` til ```i = 12``` og udtrykket er altså ikke længere sandt. "
   ],
   "metadata": {}
  },
  {
   "cell_type": "markdown",
   "source": [
    "Udover at benytte <code>==</code> kan vi benytte forskellige andre tegn til at danne udsagn, der kan være sande eller falske:\r\n",
    "- <code>&lt;</code> eller <code>&gt;</code> fortæller om en værdi er større eller mindre end en anden\r\n",
    "- <code>&lt;=</code> eller <code>&gt;=</code> er ligesom overstående men inkluderer også lig med\r\n",
    "- <code>!=</code> givet modsat tegn af <code>==</code>. Altså spørger om noget _er forskelligt fra_\r\n",
    "- <code>not</code> ændrer sandhedsværdien af et udtryk til det omvendte, eksempelvis er værdien af <code>not True</code> netop <code>False</code> og dermed er <code>not 1 == 2</code> sandt idet 1 og 2 jo ikke er ens.\r\n",
    "- <code>in</code> kan bruges til at spørge om et element er i en liste. Eksempelvis vil <code>7 in tal</code> give `True`, hvis `tal` er en liste, som indeholder 7, som det gjorde på tidligere side."
   ],
   "metadata": {}
  },
  {
   "cell_type": "markdown",
   "source": [
    "## If-else-statements"
   ],
   "metadata": {}
  },
  {
   "cell_type": "markdown",
   "source": [
    "Særligt gør boolean logik sig nyttig, når vi skal eksekvere noget kode, hvis et bestemt udtryk er sandt og noget andet, hvis det ikke er. Her kan vi benytte if/else statements. Her ser syntaksen sådan her ud: \r\n",
    "``` python\r\n",
    "if Statement:\r\n",
    "    ~ gør det her ~\r\n",
    "else:\r\n",
    "    ~ gør noget andet ~\r\n",
    "```\r\n",
    "Hvad der sker, afhænger af sandhedsværdien af udtrykket `Statement`. Hvis det logiske udsagn `Statement` er sandt, udføres første del af koden, ellers udføres den anden del. Man kan udelade <code>else</code>, og i dette tilfælde vil der kun ske noget såfremt `Statement` er sandt.\r\n",
    "Bemærk at indrykningen spiller en vigtig rolle i at afgrænse, hvad der skal gøres i de enkelte tilfælde."
   ],
   "metadata": {}
  },
  {
   "cell_type": "markdown",
   "source": [
    "Her er et eksempel, hvor vi vil tage absolutværdien af et tal:"
   ],
   "metadata": {}
  },
  {
   "cell_type": "code",
   "execution_count": 12,
   "source": [
    "a = -100\r\n",
    "if a < 0: # Hvis a er negativt, så gør følgende:\r\n",
    "    # Vi printer, hvis vi går ind i denne del af koden.\r\n",
    "    print(\"Bingo: Vi startede med et negativt tal, så if-betingelsen var opfyldt\") \r\n",
    "    a = - a   # Sæt a lig med sig selv med omvendt fortegn\r\n",
    "print(a)"
   ],
   "outputs": [
    {
     "output_type": "stream",
     "name": "stdout",
     "text": [
      "Bingo: Vi startede med et negativt tal, så if-betingelsen var opfyldt\n",
      "100\n"
     ]
    }
   ],
   "metadata": {
    "ExecuteTime": {
     "end_time": "2020-07-17T15:07:24.171639Z",
     "start_time": "2020-07-17T15:07:24.156170Z"
    }
   }
  },
  {
   "cell_type": "markdown",
   "source": [
    "Hvis vi gentager testen nu hvor a er blevet positiv, vil betingelsen i if-sætningen ikke være opfyldt, og der sker ikke noget i if-sætningen:"
   ],
   "metadata": {}
  },
  {
   "cell_type": "code",
   "execution_count": 13,
   "source": [
    "if a < 0: # Hvis a er negativt, så gør følgende:\r\n",
    "     # Vi printer, hvis vi går ind i denne del af koden.\r\n",
    "    print(\"Bingo: Vi startede med et negativt tal, så if-betingelsen var opfyldt\")\r\n",
    "    a = - a  \r\n",
    "print(a)"
   ],
   "outputs": [
    {
     "output_type": "stream",
     "name": "stdout",
     "text": [
      "100\n"
     ]
    }
   ],
   "metadata": {
    "ExecuteTime": {
     "end_time": "2020-07-23T14:28:13.431650Z",
     "start_time": "2020-07-23T14:28:13.420235Z"
    },
    "scrolled": true
   }
  },
  {
   "cell_type": "markdown",
   "source": [
    "Bemærk at <code>print(a)</code> ikke er indrykket og dermed ikke er en del af if-sætningen. Værdien af a udskrives derfor uanset fortegn."
   ],
   "metadata": {}
  },
  {
   "cell_type": "markdown",
   "source": [
    "Et andet eksempel kunne være, hvis vi ønsker at dividere et tal med et andet, men have den tomme variabel <code>None</code>, hvis vi bliver bedt om at dividere med 0 (og dermed undgår en fejlmeddelelse). Til dette kan vi benytte vores if-else:"
   ],
   "metadata": {}
  },
  {
   "cell_type": "code",
   "execution_count": 1,
   "source": [
    "tæller = 10\r\n",
    "nævner = 0\r\n",
    "\r\n",
    "if nævner != 0: # Hvis nævneren er forskellige fra nul, kan brøken beregnes\r\n",
    "    resultat = tæller / nævner\r\n",
    "else: # Ellers kan vi ikke beregne resultatet\r\n",
    "    resultat = None   # None er et tomt element. Denne har ingen værdi\r\n",
    "\r\n",
    "print(resultat)"
   ],
   "outputs": [
    {
     "output_type": "stream",
     "name": "stdout",
     "text": [
      "None\n"
     ]
    }
   ],
   "metadata": {
    "ExecuteTime": {
     "end_time": "2020-08-13T07:19:38.377744Z",
     "start_time": "2020-08-13T07:19:38.353644Z"
    }
   }
  },
  {
   "cell_type": "markdown",
   "source": [
    "Hvis der er brug for flere rangordnede betingelser for at afgøre hvilken handling, koden skal udføre, kan man benytte <code>elif second_statement</code> (elif er kort for else-if). Så opbygger man syntaksen som\r\n",
    "``` python\r\n",
    "if Statement:\r\n",
    "    ~ gør det her ~\r\n",
    "elif Second_statement:\r\n",
    "    ~ gør en andet ting ~\r\n",
    "else:\r\n",
    "    ~ ellers gør det her ~\r\n",
    "```\r\n",
    "Hvis man vil tjekke flere ting, kan man blot tilføje flere <code>elif</code> statements under hinanden.  \r\n",
    "I dette tilfælde vil koden altid køre præcis én kodebid: Koden checker først `Statement` og hvis denne er sand vil den __kun__ køre den tilhørende del af koden uanset om `Second_statement` også er sand. Hvis `Statement` er falskt, vil den tjekke <code>elif</code>-statementerne i rækkefølge og eksekverer, den første som er sand. Hvis ingen af de givne betingelser er opfyldt, vil den køre koden der følger efter <code>else</code>."
   ],
   "metadata": {}
  },
  {
   "cell_type": "markdown",
   "source": [
    "## Løkker/loops"
   ],
   "metadata": {}
  },
  {
   "cell_type": "markdown",
   "source": [
    "Ofte bruger vi computeren til at gentage opgaver mange gange. Dette gør vi ved brug af løkker, som ofte kaldes loops. Der er to typer: en <code>for</code>-løkke og en <code>while</code>-løkke. I denne Notebook vil vi dog kun vise for-løkker, som bruges ved at sætte følgende struktur op:\r\n",
    "```python\r\n",
    "for variabel in liste:\r\n",
    "    ~ gør det her ~\r\n",
    "```\r\n",
    "Løkken tildeler den variabel værdier fra listen (i listens rækkefølge) og gør for denne værdi hvad det indrykkede stykke kodetekst specificerer. Det er normal praksis at kalde den variabel i løkke-definitionen for <code>i</code> hvis der ikke er nogen særlig grund til at bruge et andet navn. Hvis vi eksempelvis vil beregne og udskrive kvadratet på 2, 3, 5 og 7, kan vi skrive det som:"
   ],
   "metadata": {}
  },
  {
   "cell_type": "code",
   "execution_count": 1,
   "source": [
    "tal = [2, 3, 5, 7]\r\n",
    "\r\n",
    "for i in tal: # Variablen hedder 'i' og vil antage værdierne i listen 'tal'.\r\n",
    "    print(i ** 2) # Print kvadratet på tallet `i`"
   ],
   "outputs": [
    {
     "output_type": "stream",
     "name": "stdout",
     "text": [
      "4\n",
      "9\n",
      "25\n",
      "49\n"
     ]
    }
   ],
   "metadata": {
    "ExecuteTime": {
     "end_time": "2020-07-23T14:38:13.635849Z",
     "start_time": "2020-07-23T14:38:13.622572Z"
    }
   }
  },
  {
   "cell_type": "markdown",
   "source": [
    "Hvis vi er interreseret i at gøre noget et bestemt antal gange, kan vi benytte <code>range(antal)</code> til at generere en liste med tallene fra <code>0</code> og op til <code>antal - 1</code> (på grund af nulindekseringen så er der stadig `antal` tal i listen). Lad os prøve at gange et tal med 10, printe det og så gentage dette 5 gange:"
   ],
   "metadata": {}
  },
  {
   "cell_type": "code",
   "execution_count": 21,
   "source": [
    "a = 3\r\n",
    "for i in range(5): # Vi har denne gang ikke tænkt os at benytte 'i' til noget, men det skal stadig være der\r\n",
    "    a *= 10 # redefiner a ved at gange det med 10\r\n",
    "    print(a)\r\n"
   ],
   "outputs": [
    {
     "output_type": "stream",
     "name": "stdout",
     "text": [
      "30\n",
      "300\n",
      "3000\n",
      "30000\n",
      "300000\n"
     ]
    }
   ],
   "metadata": {
    "ExecuteTime": {
     "end_time": "2020-07-17T15:07:29.995712Z",
     "start_time": "2020-07-17T15:07:29.982024Z"
    }
   }
  },
  {
   "cell_type": "markdown",
   "source": [
    "Vi kan også give <code>range()</code> flere argumenter. Kaldesekvensen er <code>range(start, stop, skridtstørrelse)</code> hvor alle tallene er heltal. Det er vigtigt at notere sig, at værdien 'stop' ikke kommer med i listen, så hvis vi ønsker at finde summen af alle tal i 5-tabellen fra 0 til 40, kan vi skrive:"
   ],
   "metadata": {}
  },
  {
   "cell_type": "code",
   "execution_count": 56,
   "source": [
    "summen = 0\r\n",
    "for i in range(0, 45, 5): # For at nå op til 40 skal 'range' have et helt tal mellem 41 og 45 som værdien for 'stop'\r\n",
    "    print(f\"Vi lægger {i} til {summen}\")\r\n",
    "    summen += i\r\n",
    "    \r\n",
    "print(f\"Og summen er {summen}\")"
   ],
   "outputs": [
    {
     "output_type": "stream",
     "name": "stdout",
     "text": [
      "Vi lægger 0 til 0\n",
      "Vi lægger 5 til 0\n",
      "Vi lægger 10 til 5\n",
      "Vi lægger 15 til 15\n",
      "Vi lægger 20 til 30\n",
      "Vi lægger 25 til 50\n",
      "Vi lægger 30 til 75\n",
      "Vi lægger 35 til 105\n",
      "Vi lægger 40 til 140\n",
      "Og summen er 180\n"
     ]
    }
   ],
   "metadata": {
    "ExecuteTime": {
     "end_time": "2020-07-23T14:41:34.550809Z",
     "start_time": "2020-07-23T14:41:34.536126Z"
    },
    "scrolled": true
   }
  },
  {
   "cell_type": "markdown",
   "source": [
    "Vi havde fået samme resultat, hvis vi i stedet for 45 havde skrevet 41, da range forsætter indtil i'et er større eller lig med vores <code>stop</code>."
   ],
   "metadata": {}
  }
 ],
 "metadata": {
  "kernelspec": {
   "display_name": "Python 3",
   "language": "python",
   "name": "python3"
  },
  "language_info": {
   "codemirror_mode": {
    "name": "ipython",
    "version": 3
   },
   "file_extension": ".py",
   "mimetype": "text/x-python",
   "name": "python",
   "nbconvert_exporter": "python",
   "pygments_lexer": "ipython3",
   "version": "3.8.5"
  }
 },
 "nbformat": 4,
 "nbformat_minor": 4
}