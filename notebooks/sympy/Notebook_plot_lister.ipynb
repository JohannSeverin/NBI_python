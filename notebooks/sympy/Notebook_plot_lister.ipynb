{
 "cells": [
  {
   "cell_type": "markdown",
   "metadata": {
    "toc": true
   },
   "source": [
    "<h1>Table of Contents<span class=\"tocSkip\"></span></h1>\n",
    "<div class=\"toc\"><ul class=\"toc-item\"><li><span><a href=\"#Eksempel-på-plot-af-række\" data-toc-modified-id=\"Eksempel-på-plot-af-række-1\"><span class=\"toc-item-num\">1&nbsp;&nbsp;</span>Eksempel på plot af række</a></span></li></ul></div>"
   ]
  },
  {
   "cell_type": "markdown",
   "metadata": {},
   "source": [
    "# Hvordan plotter man?\n",
    "Kort note, består dog primært af eksempler på at plotte. \n",
    "\n",
    "Vi skal have eksempler på at plotte:\n",
    "- SymPY udtryk vha. sympy.plotting\n",
    "- Numerisk udtryks vha. math, matplotlib og for loops."
   ]
  },
  {
   "cell_type": "markdown",
   "metadata": {},
   "source": [
    "## Eksempel på plot af række"
   ]
  },
  {
   "cell_type": "code",
   "execution_count": 1,
   "metadata": {
    "ExecuteTime": {
     "end_time": "2020-08-01T13:57:28.926477Z",
     "start_time": "2020-08-01T13:57:27.970223Z"
    }
   },
   "outputs": [],
   "source": [
    "# Vi importerer matplotlib.pyplot som bruges til at plotte med i Python\n",
    "import matplotlib.pyplot as plt\n",
    "\n",
    "# Vi importerer også numpy for at kunne regne med arrays\n",
    "import numpy as np"
   ]
  },
  {
   "cell_type": "code",
   "execution_count": 2,
   "metadata": {
    "ExecuteTime": {
     "end_time": "2020-08-01T13:57:28.958183Z",
     "start_time": "2020-08-01T13:57:28.936287Z"
    }
   },
   "outputs": [
    {
     "name": "stdout",
     "output_type": "stream",
     "text": [
      "0.55\n",
      "0.775\n",
      "0.8875\n",
      "0.94375\n",
      "0.971875\n",
      "0.9859375\n",
      "0.99296875\n",
      "0.996484375\n",
      "0.9982421875\n",
      "0.99912109375\n",
      "0.999560546875\n",
      "0.9997802734375\n",
      "0.99989013671875\n",
      "0.999945068359375\n",
      "0.9999725341796875\n"
     ]
    }
   ],
   "source": [
    "# Vi kan nu generere en række for at se, hvordan den udvikler sig:\n",
    "# Vi starter med at definere et x_0\n",
    "x_0 = 0.1\n",
    "a = 1\n",
    "\n",
    "# Vi laver nu en liste med de værdier vi vil have til sidst\n",
    "x = x_0\n",
    "værdier_1 = [x]\n",
    "\n",
    "# Vi kan nu loope over 25 værdier og indsæt udtrykket i et udtryk\n",
    "for i in range(15):         # Dette looper 25 gange\n",
    "    x = 1/2 * (a + x)       # Vi definere x_n+1 = (x_n + a)/2\n",
    "    print(x)                # Printer nuværende værdi\n",
    "    værdier_1.append(x)       # Tilføjer nuværende værdi til vores liste"
   ]
  },
  {
   "cell_type": "code",
   "execution_count": 3,
   "metadata": {
    "ExecuteTime": {
     "end_time": "2020-08-01T13:57:29.578600Z",
     "start_time": "2020-08-01T13:57:28.969759Z"
    }
   },
   "outputs": [
    {
     "data": {
      "text/plain": [
       "[<matplotlib.lines.Line2D at 0x7f4968efaa10>]"
      ]
     },
     "execution_count": 3,
     "metadata": {},
     "output_type": "execute_result"
    },
    {
     "data": {
      "image/png": "[encoded data removed]",
      "text/plain": [
       "<Figure size 432x288 with 1 Axes>"
      ]
     },
     "metadata": {
      "needs_background": "light"
     },
     "output_type": "display_data"
    }
   ],
   "source": [
    "plt.plot(værdier_1) # Hvis vi kun giver en liste bliver den blot plottet med indeks langs x aksen"
   ]
  },
  {
   "cell_type": "code",
   "execution_count": 4,
   "metadata": {
    "ExecuteTime": {
     "end_time": "2020-08-01T13:57:29.612544Z",
     "start_time": "2020-08-01T13:57:29.584689Z"
    }
   },
   "outputs": [
    {
     "name": "stdout",
     "output_type": "stream",
     "text": [
      "0.8\n",
      "1.15\n",
      "1.325\n",
      "1.4125\n",
      "1.45625\n",
      "1.478125\n",
      "1.4890625\n",
      "1.49453125\n",
      "1.497265625\n",
      "1.4986328125\n",
      "1.49931640625\n",
      "1.499658203125\n",
      "1.4998291015625\n",
      "1.49991455078125\n",
      "1.499957275390625\n"
     ]
    }
   ],
   "source": [
    "# Vi kan tilføje flere plots ved eksempelvis at ændre værdien for a:\n",
    "# Vi kan nu generere en række for at se, hvordan den udvikler sig:\n",
    "# Vi starter med at definere et x_0\n",
    "x_0 = 0.1\n",
    "a = 1.5\n",
    "\n",
    "# Vi laver nu en liste med de værdier vi vil have til sidst\n",
    "x = x_0\n",
    "værdier_1_5 = [x]\n",
    "\n",
    "# Vi kan nu loope over 25 værdier og indsæt udtrykket i et udtryk\n",
    "for i in range(15):         # Dette looper 25 gange\n",
    "    x = 1/2 * (a + x)       # Vi definere x_n+1 = (x_n + a)/2\n",
    "    print(x)                # Printer nuværende værdi\n",
    "    værdier_1_5.append(x)       # Tilføjer nuværende værdi til vores liste"
   ]
  },
  {
   "cell_type": "code",
   "execution_count": 5,
   "metadata": {
    "ExecuteTime": {
     "end_time": "2020-08-01T13:57:30.209399Z",
     "start_time": "2020-08-01T13:57:29.619052Z"
    }
   },
   "outputs": [
    {
     "data": {
      "text/plain": [
       "[<matplotlib.lines.Line2D at 0x7f4968e2be90>]"
      ]
     },
     "execution_count": 5,
     "metadata": {},
     "output_type": "execute_result"
    },
    {
     "data": {
      "image/png": "[encoded data removed]",
      "text/plain": [
       "<Figure size 432x288 with 1 Axes>"
      ]
     },
     "metadata": {
      "needs_background": "light"
     },
     "output_type": "display_data"
    }
   ],
   "source": [
    "plt.plot(værdier_1)\n",
    "plt.plot(værdier_1_5)"
   ]
  },
  {
   "cell_type": "code",
   "execution_count": null,
   "metadata": {},
   "outputs": [],
   "source": []
  }
 ],
 "metadata": {
  "kernelspec": {
   "display_name": "Python 3",
   "language": "python",
   "name": "python3"
  },
  "language_info": {
   "codemirror_mode": {
    "name": "ipython",
    "version": 3
   },
   "file_extension": ".py",
   "mimetype": "text/x-python",
   "name": "python",
   "nbconvert_exporter": "python",
   "pygments_lexer": "ipython3",
   "version": "3.7.6"
  },
  "latex_envs": {
   "LaTeX_envs_menu_present": true,
   "autoclose": false,
   "autocomplete": true,
   "bibliofile": "biblio.bib",
   "cite_by": "apalike",
   "current_citInitial": 1,
   "eqLabelWithNumbers": true,
   "eqNumInitial": 1,
   "hotkeys": {
    "equation": "Ctrl-E",
    "itemize": "Ctrl-I"
   },
   "labels_anchors": false,
   "latex_user_defs": false,
   "report_style_numbering": false,
   "user_envs_cfg": false
  },
  "toc": {
   "base_numbering": 1,
   "nav_menu": {},
   "number_sections": true,
   "sideBar": true,
   "skip_h1_title": true,
   "title_cell": "Table of Contents",
   "title_sidebar": "Contents",
   "toc_cell": true,
   "toc_position": {},
   "toc_section_display": true,
   "toc_window_display": true
  }
 },
 "nbformat": 4,
 "nbformat_minor": 4
}
