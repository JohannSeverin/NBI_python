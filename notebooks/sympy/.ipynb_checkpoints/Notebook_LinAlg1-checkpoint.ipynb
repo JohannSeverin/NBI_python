{
 "cells": [
  {
   "cell_type": "markdown",
   "metadata": {},
   "source": [
    "**Foreslået ændringer**  \n",
    "    I denne notebook skal der nok kun foretages småændringer, så den er konsistent med resten. Vi skal lige overveje, om det giver mening at have disse kapitler sammen, eller om det skal splittes yderligere. Jeg tænker primært på, at man skal kunne finde rundt i Notebooks, så vi skal nok have en bedre titel end indledende og avanceret, så man kan finde ud af, om eksempelvis en invers matrix er i den ene eller i den anden. "
   ]
  },
  {
   "cell_type": "markdown",
   "metadata": {},
   "source": [
    "# Indledende Lineær Algebra"
   ]
  },
  {
   "cell_type": "markdown",
   "metadata": {},
   "source": [
    "I denne notebook vil vi have fokus på hvordan man definerer, manipulerer og foretager forskellige udregninger med matricer og vektorer. Som altid starter vi med at importere de relevante moduler og aktiverer funktionen til visning af matematiske udtryk:"
   ]
  },
  {
   "cell_type": "code",
   "execution_count": 1,
   "metadata": {
    "ExecuteTime": {
     "end_time": "2020-08-14T08:58:42.867403Z",
     "start_time": "2020-08-14T08:58:41.930675Z"
    }
   },
   "outputs": [],
   "source": [
    "import sympy as sp                    # Importer sympy\n",
    "from sympy import oo, pi, I           # Vi importerer uendelig, pi og den imaginære konstant I \n",
    "sp.init_printing()                    # Aktiver pretty-printing\n",
    "from IPython.display import display   # Hent vores printer til matematiske udtryk"
   ]
  },
  {
   "cell_type": "markdown",
   "metadata": {},
   "source": [
    "## Vektorer og matricer"
   ]
  },
  {
   "cell_type": "markdown",
   "metadata": {},
   "source": [
    "Det grundlæggende er at definere matricer og vektorer på den nemmeste måde. Dette gøres ved at benytte den funktion, der hedder <code>Matrix()</code> fra SymPy. Da man oftest skal bruge denne mange gange, kan det være praktisk at importere den særskilt ved at skrive <code>from sympy import Matrix</code>, men det er lige så fint at skrive <code>sp.Matrix()</code>.\n",
    "\n",
    "### Vektorer - definition og regneoperationer\n",
    "Vektorer defineres ved at give en liste til Matrix funktionen. Vi kan altså skrive <code>Matrix([1, 1, 0])</code> for at få vektoren: \n",
    "$$\\displaystyle \\left[\\begin{matrix}1\\\\1\\\\0\\end{matrix}\\right]$$\n",
    "\n"
   ]
  },
  {
   "cell_type": "markdown",
   "metadata": {},
   "source": [
    "Vi kan angive de enkelte indgange som tal eller bruge symbolske variable som vi i forvejen har importeret fra _sympy.abc_ ligesom vi tidligere har gjort med $x$. \n",
    "\n",
    "Eksempel:"
   ]
  },
  {
   "cell_type": "code",
   "execution_count": 2,
   "metadata": {
    "ExecuteTime": {
     "end_time": "2020-08-14T08:58:44.575002Z",
     "start_time": "2020-08-14T08:58:44.090860Z"
    }
   },
   "outputs": [
    {
     "data": {
      "image/png": "[encoded data removed]",
      "text/latex": [
       "$\\displaystyle \\left[\\begin{matrix}a\\\\b\\\\c\\end{matrix}\\right]$"
      ],
      "text/plain": [
       "⎡a⎤\n",
       "⎢ ⎥\n",
       "⎢b⎥\n",
       "⎢ ⎥\n",
       "⎣c⎦"
      ]
     },
     "metadata": {},
     "output_type": "display_data"
    }
   ],
   "source": [
    "from sympy import Matrix\n",
    "from sympy.abc import a, b, c\n",
    "\n",
    "vektor1 = Matrix([a, b, c])\n",
    "display(vektor1)"
   ]
  },
  {
   "cell_type": "markdown",
   "metadata": {},
   "source": [
    "Det ligger os selvfølgelig også frit for at kombinere tal og variable:"
   ]
  },
  {
   "cell_type": "code",
   "execution_count": 3,
   "metadata": {
    "ExecuteTime": {
     "end_time": "2020-08-14T08:58:45.668761Z",
     "start_time": "2020-08-14T08:58:45.595015Z"
    }
   },
   "outputs": [
    {
     "data": {
      "image/png": "[encoded data removed]",
      "text/latex": [
       "$\\displaystyle \\left[\\begin{matrix}a\\\\\\frac{3}{4}\\\\\\frac{b^{2}}{2}\\end{matrix}\\right]$"
      ],
      "text/plain": [
       "⎡ a ⎤\n",
       "⎢   ⎥\n",
       "⎢3/4⎥\n",
       "⎢   ⎥\n",
       "⎢ 2 ⎥\n",
       "⎢b  ⎥\n",
       "⎢── ⎥\n",
       "⎣2  ⎦"
      ]
     },
     "metadata": {},
     "output_type": "display_data"
    }
   ],
   "source": [
    "vektor2 = Matrix([a, sp.Rational(3, 4), b ** 2 / 2])   # Husk at bruge sp.Rational() til at definere brøker\n",
    "display(vektor2)"
   ]
  },
  {
   "cell_type": "markdown",
   "metadata": {},
   "source": [
    "De to vektorer <code>vektor</code> og <code>vektor2</code> kan nu kombineres på sædvanlig vis ved addition, subtraktion og skalarmultiplikation:"
   ]
  },
  {
   "cell_type": "code",
   "execution_count": 4,
   "metadata": {
    "ExecuteTime": {
     "end_time": "2020-08-14T09:00:44.553840Z",
     "start_time": "2020-08-14T09:00:44.460055Z"
    }
   },
   "outputs": [
    {
     "data": {
      "image/png": "[encoded data removed]",
      "text/latex": [
       "$\\displaystyle \\left[\\begin{matrix}2 a\\\\b + \\frac{3}{4}\\\\\\frac{b^{2}}{2} + c\\end{matrix}\\right]$"
      ],
      "text/plain": [
       "⎡  2⋅a  ⎤\n",
       "⎢       ⎥\n",
       "⎢b + 3/4⎥\n",
       "⎢       ⎥\n",
       "⎢ 2     ⎥\n",
       "⎢b      ⎥\n",
       "⎢── + c ⎥\n",
       "⎣2      ⎦"
      ]
     },
     "execution_count": 4,
     "metadata": {},
     "output_type": "execute_result"
    }
   ],
   "source": [
    "vektor1 + vektor2   # Blot læg de to vektorer sammen med et almindeligt +"
   ]
  },
  {
   "cell_type": "code",
   "execution_count": 5,
   "metadata": {
    "ExecuteTime": {
     "end_time": "2020-08-14T09:01:03.335652Z",
     "start_time": "2020-08-14T09:01:03.259118Z"
    }
   },
   "outputs": [
    {
     "data": {
      "image/png": "[encoded data removed]",
      "text/latex": [
       "$\\displaystyle \\left[\\begin{matrix}a^{2}\\\\\\frac{3 a}{4}\\\\\\frac{a b^{2}}{2}\\end{matrix}\\right]$"
      ],
      "text/plain": [
       "⎡  2 ⎤\n",
       "⎢ a  ⎥\n",
       "⎢    ⎥\n",
       "⎢3⋅a ⎥\n",
       "⎢─── ⎥\n",
       "⎢ 4  ⎥\n",
       "⎢    ⎥\n",
       "⎢   2⎥\n",
       "⎢a⋅b ⎥\n",
       "⎢────⎥\n",
       "⎣ 2  ⎦"
      ]
     },
     "execution_count": 5,
     "metadata": {},
     "output_type": "execute_result"
    }
   ],
   "source": [
    "a * vektor2       # a er importeret som et symbol, så vi kan bruge det som en skalar"
   ]
  },
  {
   "cell_type": "markdown",
   "metadata": {},
   "source": [
    "Hvis vi til gengæld forsøger at multiplicere de to vektorer får vi en fejl, da <code>*</code> mellem to Matrix-elementer er matrix-multiplikation, som ikke er defineret for to 3 x 1 matricer. Vi vender tilbage til matrixmultiplikation nedenfor, mens krydsprodukter (også kendt som vektor-produkter) må vente til den næste notebook om lineær algebra.\n",
    "\n",
    "Et produkt, der derimod _er_ defineret for vektorer, er det fra gymnasiet velkendte skalarprodukt eller prikprodukt $\\mathbf{v_1} \\cdot \\mathbf{v_2}$ som er et eksempel på et indre produkt (i Messers notation $\\langle \\mathbf{v_1}, \\mathbf{v_2}\\rangle$).\n",
    "\n",
    "Et indre produkt mellem to vektorer <code>vektor1</code> og <code>vektor2</code> beregnes med <code>vektor1.dot(vektor2)</code>:"
   ]
  },
  {
   "cell_type": "code",
   "execution_count": 6,
   "metadata": {
    "ExecuteTime": {
     "end_time": "2020-08-14T09:09:10.777600Z",
     "start_time": "2020-08-14T09:09:10.683520Z"
    }
   },
   "outputs": [
    {
     "data": {
      "image/png": "[encoded data removed]",
      "text/latex": [
       "$\\displaystyle a^{2} + \\frac{b^{2} c}{2} + \\frac{3 b}{4}$"
      ],
      "text/plain": [
       "      2        \n",
       " 2   b ⋅c   3⋅b\n",
       "a  + ──── + ───\n",
       "      2      4 "
      ]
     },
     "execution_count": 6,
     "metadata": {},
     "output_type": "execute_result"
    }
   ],
   "source": [
    "vektor1.dot(vektor2)"
   ]
  },
  {
   "cell_type": "markdown",
   "metadata": {},
   "source": [
    "Som forventet får vi summen af produkterne af vektorens indgange, dog i en anden rækkefølge end vi normalt ville vælge ved udregning i hånden."
   ]
  },
  {
   "cell_type": "markdown",
   "metadata": {},
   "source": [
    "### Matricer - definition og regneoperationer"
   ]
  },
  {
   "cell_type": "markdown",
   "metadata": {},
   "source": [
    "Matricer defineres på samme måde, som vi har gjort det med vektorer, altså ved at benytte <code>Matrix()</code>-funktionen. Når vi laver en matrix, så skal vi dog give en liste af rækker, der hver især selv er lister. Formatet er det samme, som man bruger til at lave arrays i numpy. Hvis man eksempelvis blot vil lave en tabel med indgange fra 1 til 9, skal man angive det som:"
   ]
  },
  {
   "cell_type": "code",
   "execution_count": 7,
   "metadata": {
    "ExecuteTime": {
     "end_time": "2020-08-14T10:13:46.423694Z",
     "start_time": "2020-08-14T10:13:46.343483Z"
    }
   },
   "outputs": [
    {
     "data": {
      "image/png": "[encoded data removed]",
      "text/latex": [
       "$\\displaystyle \\left[\\begin{matrix}1 & 2 & 3\\\\4 & 5 & 6\\\\7 & 8 & 9\\end{matrix}\\right]$"
      ],
      "text/plain": [
       "⎡1  2  3⎤\n",
       "⎢       ⎥\n",
       "⎢4  5  6⎥\n",
       "⎢       ⎥\n",
       "⎣7  8  9⎦"
      ]
     },
     "metadata": {},
     "output_type": "display_data"
    }
   ],
   "source": [
    "A = Matrix([[1, 2, 3], [4, 5, 6], [7, 8, 9]])\n",
    "display(A)"
   ]
  },
  {
   "cell_type": "markdown",
   "metadata": {},
   "source": [
    "Det er naturligvis en forudsætning, at alle rækkerne har lige mange elementer. \n",
    "\n",
    "Som for vektorer, kan vi benytte symboler i matricer:"
   ]
  },
  {
   "cell_type": "code",
   "execution_count": 8,
   "metadata": {
    "ExecuteTime": {
     "end_time": "2020-08-14T10:21:42.403640Z",
     "start_time": "2020-08-14T10:21:42.322213Z"
    }
   },
   "outputs": [
    {
     "data": {
      "image/png": "[encoded data removed]",
      "text/latex": [
       "$\\displaystyle \\left[\\begin{matrix}a & b & c\\\\b & c & b\\\\c & b & a\\end{matrix}\\right]$"
      ],
      "text/plain": [
       "⎡a  b  c⎤\n",
       "⎢       ⎥\n",
       "⎢b  c  b⎥\n",
       "⎢       ⎥\n",
       "⎣c  b  a⎦"
      ]
     },
     "metadata": {},
     "output_type": "display_data"
    }
   ],
   "source": [
    "B = Matrix([[a, b, c], [b, c, b], [c, b, a]])\n",
    "display(B)"
   ]
  },
  {
   "cell_type": "markdown",
   "metadata": {},
   "source": [
    "Også addition og skalarmultiplikation fungerer som for vektorer:"
   ]
  },
  {
   "cell_type": "code",
   "execution_count": 9,
   "metadata": {
    "ExecuteTime": {
     "end_time": "2020-08-14T10:23:07.470679Z",
     "start_time": "2020-08-14T10:23:07.378608Z"
    }
   },
   "outputs": [
    {
     "data": {
      "image/png": "[encoded data removed]",
      "text/latex": [
       "$\\displaystyle \\left[\\begin{matrix}3 a + 1 & 3 b + 2 & 3 c + 3\\\\3 b + 4 & 3 c + 5 & 3 b + 6\\\\3 c + 7 & 3 b + 8 & 3 a + 9\\end{matrix}\\right]$"
      ],
      "text/plain": [
       "⎡3⋅a + 1  3⋅b + 2  3⋅c + 3⎤\n",
       "⎢                         ⎥\n",
       "⎢3⋅b + 4  3⋅c + 5  3⋅b + 6⎥\n",
       "⎢                         ⎥\n",
       "⎣3⋅c + 7  3⋅b + 8  3⋅a + 9⎦"
      ]
     },
     "execution_count": 9,
     "metadata": {},
     "output_type": "execute_result"
    }
   ],
   "source": [
    "A + 3 * B"
   ]
  },
  {
   "cell_type": "code",
   "execution_count": 10,
   "metadata": {},
   "outputs": [
    {
     "data": {
      "image/png": "[encoded data removed]",
      "text/latex": [
       "$\\displaystyle \\left[\\begin{matrix}42 a & 42 b & 42 c\\\\42 b & 42 c & 42 b\\\\42 c & 42 b & 42 a\\end{matrix}\\right]$"
      ],
      "text/plain": [
       "⎡42⋅a  42⋅b  42⋅c⎤\n",
       "⎢                ⎥\n",
       "⎢42⋅b  42⋅c  42⋅b⎥\n",
       "⎢                ⎥\n",
       "⎣42⋅c  42⋅b  42⋅a⎦"
      ]
     },
     "execution_count": 10,
     "metadata": {},
     "output_type": "execute_result"
    }
   ],
   "source": [
    "42*B"
   ]
  },
  {
   "cell_type": "markdown",
   "metadata": {},
   "source": [
    "Matricer kan også multipliceres med hinanden (se Messer afsnit 5.1) så længe de har passende dimensioner. Man kan opfatte indgangen på plads (i,j) i produktet AB som prikproduktet af den i'te række i A med den j'te søjle i B, og for at dette kan lade sig gøre, skal antallet af søjler i A være det samme som antallet af rækker i B. Vi kan også skrive betingelsen som at hvis A er en matrix af dimension $m \\times n$, skal B have dimension $n \\times p$). I dette tilfælde kan vi gange dem sammen ved at benytte <code>*</code>:"
   ]
  },
  {
   "cell_type": "code",
   "execution_count": 11,
   "metadata": {
    "ExecuteTime": {
     "end_time": "2020-08-14T10:25:47.770532Z",
     "start_time": "2020-08-14T10:25:47.651002Z"
    }
   },
   "outputs": [
    {
     "data": {
      "image/png": "[encoded data removed]",
      "text/latex": [
       "$\\displaystyle \\left[\\begin{matrix}a + 2 b + 3 c & 4 b + 2 c & 3 a + 2 b + c\\\\4 a + 5 b + 6 c & 10 b + 5 c & 6 a + 5 b + 4 c\\\\7 a + 8 b + 9 c & 16 b + 8 c & 9 a + 8 b + 7 c\\end{matrix}\\right]$"
      ],
      "text/plain": [
       "⎡ a + 2⋅b + 3⋅c   4⋅b + 2⋅c    3⋅a + 2⋅b + c ⎤\n",
       "⎢                                            ⎥\n",
       "⎢4⋅a + 5⋅b + 6⋅c  10⋅b + 5⋅c  6⋅a + 5⋅b + 4⋅c⎥\n",
       "⎢                                            ⎥\n",
       "⎣7⋅a + 8⋅b + 9⋅c  16⋅b + 8⋅c  9⋅a + 8⋅b + 7⋅c⎦"
      ]
     },
     "execution_count": 11,
     "metadata": {},
     "output_type": "execute_result"
    }
   ],
   "source": [
    "A * B"
   ]
  },
  {
   "cell_type": "markdown",
   "metadata": {},
   "source": [
    "### Nogle indbyggede matricer: Identitets-, nul-, et- og diagonalmatricer\n",
    "Til at definere en række meget almindeligt forekommende matricer er der indbygget smutveje.\n",
    "\n",
    "Disse matricer skal importeres fra <code>sympy.matrices</code>.\n",
    "\n",
    "__Identitetsmatricer:__ findes ved funktionen <code>eye(dimension)</code>. Navnet skyldes at \"eye\" udtales omtrent som \"I\", der ofte anvendes som symbol for identitetsmatricen, men allerede er reserveret til den imaginære enhed for komplekse tal. Da identitetsmatricen pr. definition er kvadratisk, angiver man blot dimensionen $n$ og får en $n\\times n$ matrix med $1$ i diagonalen og $0$ alle andre steder:"
   ]
  },
  {
   "cell_type": "code",
   "execution_count": 12,
   "metadata": {
    "ExecuteTime": {
     "end_time": "2020-08-14T10:32:24.177587Z",
     "start_time": "2020-08-14T10:32:24.096810Z"
    }
   },
   "outputs": [
    {
     "data": {
      "image/png": "[encoded data removed]",
      "text/latex": [
       "$\\displaystyle \\left[\\begin{matrix}1 & 0 & 0 & 0\\\\0 & 1 & 0 & 0\\\\0 & 0 & 1 & 0\\\\0 & 0 & 0 & 1\\end{matrix}\\right]$"
      ],
      "text/plain": [
       "⎡1  0  0  0⎤\n",
       "⎢          ⎥\n",
       "⎢0  1  0  0⎥\n",
       "⎢          ⎥\n",
       "⎢0  0  1  0⎥\n",
       "⎢          ⎥\n",
       "⎣0  0  0  1⎦"
      ]
     },
     "metadata": {},
     "output_type": "display_data"
    }
   ],
   "source": [
    "from sympy.matrices import eye\n",
    "\n",
    "Id4 = eye(4)\n",
    "display(Id4)"
   ]
  },
  {
   "cell_type": "markdown",
   "metadata": {},
   "source": [
    "__0- og 1-matricer:__ Funktionerne <code>zeros(dimension)</code> og <code>ones(dimension)</code> giver en matrix af den ønskede størrelse fyldt med hhv. 0 eller 1-taller. Her kan <code>dimension</code> være to tal <code>n, m</code> eller et enkelt tal <code>n</code>, hvilket resulterer i en $n \\times n$ matrix:"
   ]
  },
  {
   "cell_type": "code",
   "execution_count": 13,
   "metadata": {
    "ExecuteTime": {
     "end_time": "2020-08-14T10:36:43.465788Z",
     "start_time": "2020-08-14T10:36:43.387428Z"
    }
   },
   "outputs": [
    {
     "data": {
      "image/png": "[encoded data removed]",
      "text/latex": [
       "$\\displaystyle \\left[\\begin{matrix}0 & 0 & 0 & 0\\\\0 & 0 & 0 & 0\\\\0 & 0 & 0 & 0\\\\0 & 0 & 0 & 0\\end{matrix}\\right]$"
      ],
      "text/plain": [
       "⎡0  0  0  0⎤\n",
       "⎢          ⎥\n",
       "⎢0  0  0  0⎥\n",
       "⎢          ⎥\n",
       "⎢0  0  0  0⎥\n",
       "⎢          ⎥\n",
       "⎣0  0  0  0⎦"
      ]
     },
     "metadata": {},
     "output_type": "display_data"
    }
   ],
   "source": [
    "from sympy.matrices import zeros, ones\n",
    "\n",
    "nul_matrix = zeros(4)\n",
    "display(nul_matrix)"
   ]
  },
  {
   "cell_type": "code",
   "execution_count": 14,
   "metadata": {
    "ExecuteTime": {
     "end_time": "2020-08-14T10:37:21.374632Z",
     "start_time": "2020-08-14T10:37:21.295076Z"
    }
   },
   "outputs": [
    {
     "data": {
      "image/png": "[encoded data removed]",
      "text/latex": [
       "$\\displaystyle \\left[\\begin{matrix}4 & 4 & 4 & 4\\\\4 & 4 & 4 & 4\\\\4 & 4 & 4 & 4\\end{matrix}\\right]$"
      ],
      "text/plain": [
       "⎡4  4  4  4⎤\n",
       "⎢          ⎥\n",
       "⎢4  4  4  4⎥\n",
       "⎢          ⎥\n",
       "⎣4  4  4  4⎦"
      ]
     },
     "metadata": {},
     "output_type": "display_data"
    }
   ],
   "source": [
    "fire_matrix = 4 * ones(3, 4)\n",
    "display(fire_matrix)"
   ]
  },
  {
   "cell_type": "markdown",
   "metadata": {},
   "source": [
    "__Diagonalmatricer:__ laves med funktionen <code>diag(liste)</code>. Denne funktion giver man som input blot en liste med de ønskede diagonalelementer. Alle andre indgange er $0$:"
   ]
  },
  {
   "cell_type": "code",
   "execution_count": 15,
   "metadata": {
    "ExecuteTime": {
     "end_time": "2020-08-14T10:57:08.040396Z",
     "start_time": "2020-08-14T10:57:07.960120Z"
    }
   },
   "outputs": [
    {
     "data": {
      "image/png": "[encoded data removed]",
      "text/latex": [
       "$\\displaystyle \\left[\\begin{matrix}1 & 0 & 0 & 0\\\\0 & 2 & 0 & 0\\\\0 & 0 & 3 & 0\\\\0 & 0 & 0 & 4\\end{matrix}\\right]$"
      ],
      "text/plain": [
       "⎡1  0  0  0⎤\n",
       "⎢          ⎥\n",
       "⎢0  2  0  0⎥\n",
       "⎢          ⎥\n",
       "⎢0  0  3  0⎥\n",
       "⎢          ⎥\n",
       "⎣0  0  0  4⎦"
      ]
     },
     "metadata": {},
     "output_type": "display_data"
    }
   ],
   "source": [
    "from sympy.matrices import diag\n",
    "\n",
    "D = diag(1, 2, 3, 4)\n",
    "display(D)"
   ]
  },
  {
   "cell_type": "markdown",
   "metadata": {},
   "source": [
    "Man kan også indsætte matricer langs diagonalen i større maricer, således at man får en blok-diagonal-matrix. Man kan f.eks. indsætte en matrix, der beskriver en rotation i planen, i en større matrix, der beskriver samme rotation i $(x,y)$-planen indlejret i et tredimensionalt rum:"
   ]
  },
  {
   "cell_type": "code",
   "execution_count": 16,
   "metadata": {
    "ExecuteTime": {
     "end_time": "2020-08-14T11:00:41.580644Z",
     "start_time": "2020-08-14T11:00:41.502098Z"
    }
   },
   "outputs": [
    {
     "data": {
      "image/png": "[encoded data removed]",
      "text/latex": [
       "$\\displaystyle \\left[\\begin{matrix}\\cos{\\left(\\theta \\right)} & - \\sin{\\left(\\theta \\right)}\\\\\\sin{\\left(\\theta \\right)} & \\cos{\\left(\\theta \\right)}\\end{matrix}\\right]$"
      ],
      "text/plain": [
       "⎡cos(θ)  -sin(θ)⎤\n",
       "⎢               ⎥\n",
       "⎣sin(θ)  cos(θ) ⎦"
      ]
     },
     "execution_count": 16,
     "metadata": {},
     "output_type": "execute_result"
    }
   ],
   "source": [
    "from sympy.abc import theta   # Importer theta\n",
    "\n",
    "# Definer matrix\n",
    "plan_rot = Matrix([[sp.cos(theta), sp.sin(-theta)], [sp.sin(theta), sp.cos(theta)]])\n",
    "plan_rot"
   ]
  },
  {
   "cell_type": "code",
   "execution_count": 17,
   "metadata": {
    "ExecuteTime": {
     "end_time": "2020-08-14T11:01:00.038367Z",
     "start_time": "2020-08-14T11:00:59.964283Z"
    }
   },
   "outputs": [
    {
     "data": {
      "image/png": "[encoded data removed]",
      "text/latex": [
       "$\\displaystyle \\left[\\begin{matrix}\\cos{\\left(\\theta \\right)} & - \\sin{\\left(\\theta \\right)} & 0\\\\\\sin{\\left(\\theta \\right)} & \\cos{\\left(\\theta \\right)} & 0\\\\0 & 0 & 1\\end{matrix}\\right]$"
      ],
      "text/plain": [
       "⎡cos(θ)  -sin(θ)  0⎤\n",
       "⎢                  ⎥\n",
       "⎢sin(θ)  cos(θ)   0⎥\n",
       "⎢                  ⎥\n",
       "⎣  0        0     1⎦"
      ]
     },
     "execution_count": 17,
     "metadata": {},
     "output_type": "execute_result"
    }
   ],
   "source": [
    "# Lav diagonal med et 1-tal og så en matrice. diag fylder nu 0 ud alle andre steder.\n",
    "rum_rot = diag(plan_rot, 1)\n",
    "rum_rot"
   ]
  },
  {
   "cell_type": "markdown",
   "metadata": {},
   "source": [
    "Det er desuden muligt at sætte matricer sammen og definere matricer hvor hver indgang er resulatet af en beregning eller logisk test. [Disse metoder kan findes i dokumentationen her](https://docs.sympy.org/latest/modules/matrices/matrices.html) med vil sjældent være nødvendige i LinALys-kurset."
   ]
  },
  {
   "cell_type": "markdown",
   "metadata": {},
   "source": [
    "## Matrix-reduktion\n",
    "Python/SymPy indeholder en række indbyggede metoder til at reducere matricer. Særligt brugbart i LinALys er funktionen, der bringer en matrix på reduceret række-echelonform. For en matrix $A$ kan vi finde den ækvivalente matrix på reduceret række-echelonform ved <code>.rref()</code>:"
   ]
  },
  {
   "cell_type": "code",
   "execution_count": 18,
   "metadata": {},
   "outputs": [
    {
     "data": {
      "image/png": "[encoded data removed]",
      "text/latex": [
       "$\\displaystyle \\left[\\begin{matrix}1 & 1 & -2 & 1\\\\3 & 2 & 1 & -5\\\\2 & 1 & 3 & -6\\end{matrix}\\right]$"
      ],
      "text/plain": [
       "⎡1  1  -2  1 ⎤\n",
       "⎢            ⎥\n",
       "⎢3  2  1   -5⎥\n",
       "⎢            ⎥\n",
       "⎣2  1  3   -6⎦"
      ]
     },
     "metadata": {},
     "output_type": "display_data"
    },
    {
     "data": {
      "image/png": "[encoded data removed]",
      "text/latex": [
       "$\\displaystyle \\left( \\left[\\begin{matrix}1 & 0 & 5 & -7\\\\0 & 1 & -7 & 8\\\\0 & 0 & 0 & 0\\end{matrix}\\right], \\  \\left( 0, \\  1\\right)\\right)$"
      ],
      "text/plain": [
       "⎛⎡1  0  5   -7⎤        ⎞\n",
       "⎜⎢            ⎥        ⎟\n",
       "⎜⎢0  1  -7  8 ⎥, (0, 1)⎟\n",
       "⎜⎢            ⎥        ⎟\n",
       "⎝⎣0  0  0   0 ⎦        ⎠"
      ]
     },
     "execution_count": 18,
     "metadata": {},
     "output_type": "execute_result"
    }
   ],
   "source": [
    "A = Matrix([[1, 1, -2, 1], [3, 2, 1, -5], [2, 1, 3, -6]])\n",
    "display(A)\n",
    "A.rref()"
   ]
  },
  {
   "cell_type": "markdown",
   "metadata": {},
   "source": [
    "Resultatet er den reducerede række-echelonform og en liste over nummeret på de kolonner, der har en ledende indgang. Hvis man vil udelade denne liste, kan man i stedet skrive <code>.rref(pivots = False)</code>."
   ]
  },
  {
   "cell_type": "markdown",
   "metadata": {},
   "source": [
    "## Ligningssystemer med een løsning"
   ]
  },
  {
   "cell_type": "markdown",
   "metadata": {},
   "source": [
    "Som det nok er gået op for de fleste, anviser lineær algebra en effektiv måde til at bestemme løsningerne til lineære ligningssystemer ved hjælpe af matrixregning. Vi kan f.eks. omskrive:"
   ]
  },
  {
   "cell_type": "markdown",
   "metadata": {},
   "source": [
    "\\begin{align*} \n",
    "    x_1 + 3 x_3 &= 20 \\\\ 4x_2 + 6 x_3 &= 74 \\\\ 3 x_1 + 6x_2 + 11 x_3 &= 136\n",
    "\\end{align*}"
   ]
  },
  {
   "cell_type": "markdown",
   "metadata": {},
   "source": [
    "til:"
   ]
  },
  {
   "cell_type": "markdown",
   "metadata": {},
   "source": [
    "\\begin{equation*}\n",
    "    \\displaystyle \\left[\\begin{matrix}1 & 0 & 3\\\\0 & 4 & 6\\\\3 & 6 & 11\\end{matrix}\\right] \\displaystyle \\left[\\begin{matrix}x_{1}\\\\x_{2}\\\\x_{3}\\end{matrix}\\right] = \\displaystyle \\left[\\begin{matrix}20\\\\74\\\\136\\end{matrix}\\right]\n",
    "\\end{equation*}"
   ]
  },
  {
   "cell_type": "markdown",
   "metadata": {},
   "source": [
    "Når vi har et ligningssystem på denne form, og der findes en entydig løsning, kan vi uden videre beregne løsningen med SymPy. Vi benytter blot <code>LUsolve</code>-metoden på en matrix, og giver den højre side af vores ligningssystem som inputparameter:"
   ]
  },
  {
   "cell_type": "code",
   "execution_count": 19,
   "metadata": {},
   "outputs": [
    {
     "data": {
      "image/png": "[encoded data removed]",
      "text/latex": [
       "$\\displaystyle \\left[\\begin{matrix}5\\\\11\\\\5\\end{matrix}\\right]$"
      ],
      "text/plain": [
       "⎡5 ⎤\n",
       "⎢  ⎥\n",
       "⎢11⎥\n",
       "⎢  ⎥\n",
       "⎣5 ⎦"
      ]
     },
     "metadata": {},
     "output_type": "display_data"
    }
   ],
   "source": [
    "#Definerer her matrix A og vektor b\n",
    "A = Matrix([[1, 0, 3], [0, 4, 6], [3, 6, 11]])\n",
    "b = Matrix([20, 74, 136])\n",
    "\n",
    "#Løsningen findes nu blot ved:\n",
    "sol = A.LUsolve(b)\n",
    "display(sol)"
   ]
  },
  {
   "cell_type": "markdown",
   "metadata": {},
   "source": [
    "Skulle vi være mistroiske overfor moderne datamater, kan vi nu verificere at \n",
    "\n",
    "\\begin{equation*}\n",
    "    \\displaystyle \\left[\\begin{matrix}x_{1}\\\\x_{2}\\\\x_{3}\\end{matrix}\\right] = \\displaystyle \\left[\\begin{matrix}5 \\\\11\\\\5\\end{matrix}\\right]\n",
    "\\end{equation*}\n",
    "\n",
    "virkelig er en løsning ved at multiplicere matricen $A$ med løsningsvektoren:"
   ]
  },
  {
   "cell_type": "code",
   "execution_count": 20,
   "metadata": {},
   "outputs": [
    {
     "data": {
      "image/png": "[encoded data removed]",
      "text/latex": [
       "$\\displaystyle \\left[\\begin{matrix}20\\\\74\\\\136\\end{matrix}\\right]$"
      ],
      "text/plain": [
       "⎡20 ⎤\n",
       "⎢   ⎥\n",
       "⎢74 ⎥\n",
       "⎢   ⎥\n",
       "⎣136⎦"
      ]
     },
     "execution_count": 20,
     "metadata": {},
     "output_type": "execute_result"
    }
   ],
   "source": [
    "A * sol"
   ]
  },
  {
   "cell_type": "markdown",
   "metadata": {},
   "source": [
    "Vi kan lave tilsvarende operationer med symbolske variable. Lad $A$ være matricen angivet ovenfor, men i stedet ønsker vi nu at finde en generel løsning til \n",
    "\n",
    "\\begin{equation*}\n",
    "    \\displaystyle \\left[\\begin{matrix}1 & 0 & 3\\\\0 & 4 & 6\\\\3 & 6 & 11\\end{matrix}\\right] \\displaystyle \\left[\\begin{matrix}x_{1}\\\\x_{2}\\\\x_{3}\\end{matrix}\\right] = \\displaystyle \\left[\\begin{matrix}d\\\\e\\\\f\\end{matrix}\\right]\n",
    "\\end{equation*}"
   ]
  },
  {
   "cell_type": "markdown",
   "metadata": {},
   "source": [
    "## Omvendte/inverse matricer\n",
    "Som beskrevet i Messer afsnit 5.2 kan matricer inverteres. Dette gøres meget simpelt for en matrix $A$ med syntaksen <code>A.inv()</code>:"
   ]
  },
  {
   "cell_type": "code",
   "execution_count": 21,
   "metadata": {},
   "outputs": [
    {
     "data": {
      "image/png": "[encoded data removed]",
      "text/latex": [
       "$\\displaystyle \\left[\\begin{matrix}- \\frac{2}{7} & - \\frac{9}{14} & \\frac{3}{7}\\\\- \\frac{9}{14} & - \\frac{1}{14} & \\frac{3}{14}\\\\\\frac{3}{7} & \\frac{3}{14} & - \\frac{1}{7}\\end{matrix}\\right]$"
      ],
      "text/plain": [
       "⎡-2/7   -9/14  3/7 ⎤\n",
       "⎢                  ⎥\n",
       "⎢-9/14  -1/14  3/14⎥\n",
       "⎢                  ⎥\n",
       "⎣ 3/7   3/14   -1/7⎦"
      ]
     },
     "execution_count": 21,
     "metadata": {},
     "output_type": "execute_result"
    }
   ],
   "source": [
    "A.inv()"
   ]
  },
  {
   "cell_type": "markdown",
   "metadata": {},
   "source": [
    "Såfremt den omvendte/inverse matrix for $A$ eksisterer, kan vi derfor også løse det ovenstående ligningssystem som\n",
    "\n",
    "\\begin{equation*}\n",
    "    \\displaystyle \\left[\\begin{matrix}x_{1}\\\\x_{2}\\\\x_{3}\\end{matrix}\\right] = \n",
    "    \\displaystyle \\left[\\begin{matrix}1 & 0 & 3\\\\0 & 4 & 6\\\\3 & 6 & 11\\end{matrix}\\right]^{-1}\n",
    "    \\displaystyle \\left[\\begin{matrix}d\\\\e\\\\f\\end{matrix}\\right]\n",
    "\\end{equation*}\n",
    "\n",
    "hvilket i Python-syntax gøres ved"
   ]
  },
  {
   "cell_type": "code",
   "execution_count": 22,
   "metadata": {},
   "outputs": [
    {
     "data": {
      "image/png": "[encoded data removed]",
      "text/latex": [
       "$\\displaystyle \\left[\\begin{matrix}5\\\\11\\\\5\\end{matrix}\\right]$"
      ],
      "text/plain": [
       "⎡5 ⎤\n",
       "⎢  ⎥\n",
       "⎢11⎥\n",
       "⎢  ⎥\n",
       "⎣5 ⎦"
      ]
     },
     "execution_count": 22,
     "metadata": {},
     "output_type": "execute_result"
    }
   ],
   "source": [
    "A.inv()*b"
   ]
  },
  {
   "cell_type": "markdown",
   "metadata": {},
   "source": [
    "## Matrixrang \n",
    "Bemærk at hverken man hverken kan finde løsninger med <code>LUsolve</code> eller ved at beregne den inverse matrix hvis  ikke ligningssystemet har netop én løsning (dvs. hvis ligningerne i ligningssystemet har indbygget en modstrid eller løsningen har en eller flere frie variable). I disse tilfælde vil begge metoder give fejlmeddelelser.\n",
    "\n",
    "Årsagen hertil er at koefficientmatricen ikke har fuld rang. Rangen for en matrix $A$ kan findes ved <code>A.rank()</code>, og angiver antallet af ledende et-taller i den matrix, der fremkommer ved at føre $A$ på reduceret række-echelonform.\n",
    "\n",
    "Af denne grund, og i overensstemmelse med Messer sætning 5.12, er det derfor ingen overraskelse at se at $A$ fra overfor, der repræsenterer 3 lineært uafgængige ligninger med 3 ubekendte, har rang 3:"
   ]
  },
  {
   "cell_type": "code",
   "execution_count": 23,
   "metadata": {},
   "outputs": [
    {
     "data": {
      "image/png": "[encoded data removed]",
      "text/latex": [
       "$\\displaystyle 3$"
      ],
      "text/plain": [
       "3"
      ]
     },
     "execution_count": 23,
     "metadata": {},
     "output_type": "execute_result"
    }
   ],
   "source": [
    "A.rank()"
   ]
  },
  {
   "cell_type": "markdown",
   "metadata": {},
   "source": [
    "## Ligningssystemer med flere løsninger: frie parametre\n",
    "Vi kommer dog ofte ud for ligningssystemer med flere ubekendte end der er lineært uafhængige ligninger, svarende til at løsningen kan parametriseres med et antal fri variable/parametre. Dette svarer til at rangen af den tilsvarende koefficientmatrix $A$ er mindre end antallet af variable i ligningssystemet.\n",
    "I sådanne tilfælde er A ikke invertibel og <code>LU-solve</code> vil derfor ikke virke.\n",
    "\n",
    "Eksempel: Vi vil gerne finde den fuldstændige løsning til \n",
    "\\begin{equation*}\n",
    "    \\displaystyle \\left[\\begin{matrix}1 & 0 & 3 & 1\\\\0 & 4 & 6 & 1\\\\-1 & 4 & 3 & 0\\end{matrix}\\right] \\displaystyle \\left[\\begin{matrix}x_{1}\\\\x_{2}\\\\x_{3}\\end{matrix}\\right] = \\displaystyle \\left[\\begin{matrix}0\\\\0\\\\0\\end{matrix}\\right]\n",
    "\\end{equation*}\n",
    "\n",
    "En mulighed er at føre $A$ på reduceret række-echelonform:"
   ]
  },
  {
   "cell_type": "code",
   "execution_count": 25,
   "metadata": {},
   "outputs": [
    {
     "data": {
      "image/png": "[encoded data removed]",
      "text/latex": [
       "$\\displaystyle \\left( \\left[\\begin{matrix}1 & 0 & 3 & 1\\\\0 & 1 & \\frac{3}{2} & \\frac{1}{4}\\\\0 & 0 & 0 & 0\\end{matrix}\\right], \\  \\left( 0, \\  1\\right)\\right)$"
      ],
      "text/plain": [
       "⎛⎡1  0   3    1 ⎤        ⎞\n",
       "⎜⎢              ⎥        ⎟\n",
       "⎜⎢0  1  3/2  1/4⎥, (0, 1)⎟\n",
       "⎜⎢              ⎥        ⎟\n",
       "⎝⎣0  0   0    0 ⎦        ⎠"
      ]
     },
     "execution_count": 25,
     "metadata": {},
     "output_type": "execute_result"
    }
   ],
   "source": [
    "A = Matrix([[1, 0, 3, 1], [0, 4, 6, 1], [-1, 4, 3, 0]])\n",
    "A.rref()"
   ]
  },
  {
   "cell_type": "markdown",
   "metadata": {},
   "source": [
    "Vi sætter $x_3 = r$ og $x_4 = s$ da der ikke er ledende indgange i 3. og 4. kolonne. Herefter opskriver vi løsningen som\n",
    "\\begin{equation*}\n",
    "    \\displaystyle \\left[\\begin{matrix}x_{1}\\\\x_{2}\\\\x_{3}\\\\x_4\\end{matrix}\\right] = \n",
    "    \\displaystyle \\left[\\begin{matrix}-3\\\\-\\frac32\\\\1\\\\0\\end{matrix}\\right]\\cdot r +\n",
    "    \\displaystyle \\left[\\begin{matrix}-1\\\\-\\frac14\\\\0\\\\1\\end{matrix}\\right]\\cdot s, \\hspace{1cm}r,s\\in {\\rm I\\!R}\n",
    "\\end{equation*}\n",
    "\n",
    "Men vi kan også benytte metoden <code>.gauss_jordan_solve()</code> som efterligner denne metode, blot med en lidt anden typografi:"
   ]
  },
  {
   "cell_type": "code",
   "execution_count": 27,
   "metadata": {},
   "outputs": [
    {
     "data": {
      "image/png": "[encoded data removed]",
      "text/latex": [
       "$\\displaystyle \\left( \\left[\\begin{matrix}- 3 \\tau_{0} - \\tau_{1}\\\\- \\frac{3 \\tau_{0}}{2} - \\frac{\\tau_{1}}{4}\\\\\\tau_{0}\\\\\\tau_{1}\\end{matrix}\\right], \\  \\left[\\begin{matrix}\\tau_{0}\\\\\\tau_{1}\\end{matrix}\\right]\\right)$"
      ],
      "text/plain": [
       "⎛⎡-3⋅τ₀ - τ₁ ⎤      ⎞\n",
       "⎜⎢           ⎥      ⎟\n",
       "⎜⎢  3⋅τ₀   τ₁⎥      ⎟\n",
       "⎜⎢- ──── - ──⎥  ⎡τ₀⎤⎟\n",
       "⎜⎢   2     4 ⎥, ⎢  ⎥⎟\n",
       "⎜⎢           ⎥  ⎣τ₁⎦⎟\n",
       "⎜⎢    τ₀     ⎥      ⎟\n",
       "⎜⎢           ⎥      ⎟\n",
       "⎝⎣    τ₁     ⎦      ⎠"
      ]
     },
     "execution_count": 27,
     "metadata": {},
     "output_type": "execute_result"
    }
   ],
   "source": [
    "b = Matrix([0, 0, 0])\n",
    "A.gauss_jordan_solve(b)"
   ]
  }
 ],
 "metadata": {
  "kernelspec": {
   "display_name": "Python 3",
   "language": "python",
   "name": "python3"
  },
  "language_info": {
   "codemirror_mode": {
    "name": "ipython",
    "version": 3
   },
   "file_extension": ".py",
   "mimetype": "text/x-python",
   "name": "python",
   "nbconvert_exporter": "python",
   "pygments_lexer": "ipython3",
   "version": "3.8.5"
  },
  "latex_envs": {
   "LaTeX_envs_menu_present": true,
   "autoclose": false,
   "autocomplete": true,
   "bibliofile": "biblio.bib",
   "cite_by": "apalike",
   "current_citInitial": 1,
   "eqLabelWithNumbers": true,
   "eqNumInitial": 1,
   "hotkeys": {
    "equation": "Ctrl-E",
    "itemize": "Ctrl-I"
   },
   "labels_anchors": false,
   "latex_user_defs": false,
   "report_style_numbering": false,
   "user_envs_cfg": false
  },
  "toc": {
   "base_numbering": 1,
   "nav_menu": {},
   "number_sections": true,
   "sideBar": true,
   "skip_h1_title": true,
   "title_cell": "Indholdsfortegnelse",
   "title_sidebar": "Contents",
   "toc_cell": true,
   "toc_position": {},
   "toc_section_display": true,
   "toc_window_display": true
  }
 },
 "nbformat": 4,
 "nbformat_minor": 4
}
