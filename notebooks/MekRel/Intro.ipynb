{
 "cells": [
  {
   "cell_type": "markdown",
   "source": [
    "# Python i MekRel"
   ],
   "metadata": {}
  },
  {
   "cell_type": "markdown",
   "source": [
    "Når i arbejder i laboratoriet skal i bruge Python til at analysere jeres data og lave graffer til jeres rapport. Dette ville for det meste ske i laboratoriet og husk at skifte så alle for prøvet af skrive noget kode. Det er vigtigt da i også skal lave 4 individuelle Python afleveringer. Disse vil komme løbende igennem kurset. Derudover skal i også bruge python i jeres næste fag Data og Projekt hvor i skal lære endnu mere om dataanalyse i Python. Altså er det vigtigt at alle for prøvet krafter med Python tideligt. \r\n",
    "\r\n",
    "\r\n",
    "Derudover er det vigtigt at understrege at i **ikke** skal bruge Notebooks som logbøger til labafleveringer. Logbøger eller rapporter skal ikke indeholde kode, kun resultatet af jeres kode (ex. plots, resultater), og kan med fordel skrives i Word, LaTeX el.lign. og **skal** afleveres i .pdf-format. Senere i kurset vil i blive stillet særlige opgaver i Python i form af såkaldt Pythonafleveringer, nogle af disse __må__ *godt* afleveres som Notebooks, men det hører i mere om senere.\r\n",
    "\r\n",
    "\r\n",
    "Et typisk arbejds mønster i når Python bliver brugt i MekRel er at importere noget data og behandle det med `numpy` operationer, derefter måske lave et fit med `scipy` også bygge et plot med `matplotlib`. Det anbefales derfor også at du først læsser `numpy` noten og derefter `matplotlib` noten. `Scipy` noten er lidt mere teknisk og giver bedst mening til sidst.\r\n"
   ],
   "metadata": {}
  }
 ],
 "metadata": {
  "kernelspec": {
   "display_name": "Python 3",
   "language": "python",
   "name": "python3"
  },
  "language_info": {
   "codemirror_mode": {
    "name": "ipython",
    "version": 3
   },
   "file_extension": ".py",
   "mimetype": "text/x-python",
   "name": "python",
   "nbconvert_exporter": "python",
   "pygments_lexer": "ipython3",
   "version": "3.8.5"
  }
 },
 "nbformat": 4,
 "nbformat_minor": 4
}