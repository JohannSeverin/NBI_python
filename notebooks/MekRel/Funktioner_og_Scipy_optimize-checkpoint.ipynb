{
 "cells": [
  {
   "cell_type": "markdown",
   "source": [
    "# Functioner, fits og usikkerheder i python\n"
   ],
   "metadata": {}
  },
  {
   "cell_type": "markdown",
   "source": [
    "I denne note vil vi introducere jer til funktioner, hvordan man fitter en model til data og behandler usikkerheder i Python. "
   ],
   "metadata": {}
  },
  {
   "cell_type": "markdown",
   "source": [
    "## Funktioner"
   ],
   "metadata": {}
  },
  {
   "cell_type": "markdown",
   "source": [
    "Før vi kan fitte en funktion med Python skal vi kunne definere en funktion. En funktion er et meget bredt begreb i Python og man kan rigtig meget med dem, og når I kommer lidt længere i jeres uddannelse er det hovedsageligt dem I skal bruge når I programmerer, men lige nu skal vi bare kunne bruge dem til at fitte. \r\n",
    "\r\n",
    "Man definerer en funktion ved at skrive 'def', skrive det funktionen skal gøre, og så skrive 'return', hvor man skriver det funktionen skal levere. Et eksempel ses under."
   ],
   "metadata": {}
  },
  {
   "cell_type": "code",
   "execution_count": 2,
   "source": [
    "def E_kin(m,v):\r\n",
    "    return 1/2 * m * v**2"
   ],
   "outputs": [],
   "metadata": {}
  },
  {
   "cell_type": "markdown",
   "source": [
    "Her har jeg defineret en funktion som jeg kalder E_kin, den tager 2 argumenter, m og v, og returnerer $ \\frac{1}{2}  m v^2$. Den kan vi så prøve af for m = 80 og v = 5"
   ],
   "metadata": {
    "tags": []
   }
  },
  {
   "cell_type": "code",
   "execution_count": 3,
   "source": [
    "print(E_kin(80,5))"
   ],
   "outputs": [
    {
     "output_type": "stream",
     "name": "stdout",
     "text": [
      "1000.0\n"
     ]
    }
   ],
   "metadata": {
    "tags": []
   }
  },
  {
   "cell_type": "markdown",
   "source": [
    "Funktioner kan også bruges til at gøre kode mere overskuelig og nemmere at debugge. Her er der fx defineret en funktion som laver et plot. Den tager ingen værdier og retunerer heller ikke noget, men er nem at debugge og man kan lade være med at kalde den når man har fået sit plot."
   ],
   "metadata": {}
  },
  {
   "cell_type": "code",
   "execution_count": 4,
   "source": [
    "import numpy as np\r\n",
    "\r\n",
    "v_data = np.linspace(0,100,1000)\r\n",
    "E_data = E_kin(80,v_data)\r\n",
    "\r\n",
    "def plot_E_kin():\r\n",
    "    import matplotlib.pyplot as plt\r\n",
    "    plt.plot(v_data,E_data, label = 'Energi')\r\n",
    "    plt.xlabel('Fart [m/s]')\r\n",
    "    plt.ylabel('Energi [J]')\r\n",
    "    plt.legend()\r\n",
    "    plt.show()\r\n",
    "    plt.close('all')\r\n",
    "\r\n",
    "plot_E_kin()"
   ],
   "outputs": [],
   "metadata": {
    "tags": []
   }
  },
  {
   "cell_type": "markdown",
   "source": [
    "## Fitting"
   ],
   "metadata": {}
  },
  {
   "cell_type": "markdown",
   "source": [
    "Vi skal nu bruge funktioner til at fitte en model til data. Her bruger vi optimize.curve_fit. Denne kommer fra pakken SciPy og importeres således:"
   ],
   "metadata": {}
  },
  {
   "cell_type": "code",
   "execution_count": null,
   "source": [
    "from scipy.optimize import curve_fit"
   ],
   "outputs": [],
   "metadata": {}
  },
  {
   "cell_type": "markdown",
   "source": [
    "For at fitte en model skal man have noget data at fitte til. Her bruger jeg den data der lå på jeres første Python aflevering."
   ],
   "metadata": {}
  },
  {
   "cell_type": "code",
   "execution_count": null,
   "source": [
    "data = np.array([\r\n",
    "    [0.19,1.98,2.05,2.16,2.16,2.07],\r\n",
    "    [0.3,2.61,2.6,2.58,2.81,2.68],\r\n",
    "    [0.36,3,3,3,2.87,2.97],\r\n",
    "    [0.53,3.47,3.83,3.54,3.6,3.5],])\r\n",
    "print(data)"
   ],
   "outputs": [
    {
     "output_type": "stream",
     "name": "stdout",
     "text": [
      "[[0.19 1.98 2.05 2.16 2.16 2.07]\n",
      " [0.3  2.61 2.6  2.58 2.81 2.68]\n",
      " [0.36 3.   3.   3.   2.87 2.97]\n",
      " [0.53 3.47 3.83 3.54 3.6  3.5 ]]\n"
     ]
    }
   ],
   "metadata": {
    "tags": []
   }
  },
  {
   "cell_type": "markdown",
   "source": [
    "For at fitte en model til data, skal man have ét datapunkt for hver varieret måling. Her har vi 5 målinger per pendullængde, derfor skal vi altså tage gennemsnit af vores svingningstider."
   ],
   "metadata": {}
  },
  {
   "cell_type": "code",
   "execution_count": null,
   "source": [
    "L = data[: , 0] #udvælger kolonnen med pendullængde\r\n",
    "svingningstider = data[:,1:5] #her udvælger vi de fire kolonner  med svingningstider\r\n",
    "\r\n",
    "gns_svingning = np.mean(svingningstider, axis = 1) #tager gennemsnit af svingningstiderne, \"axis\" angiver om vi går vandret eller lodret i datasættet\r\n",
    "\r\n",
    "print(L)\r\n",
    "print(gns_svingning)"
   ],
   "outputs": [
    {
     "output_type": "stream",
     "name": "stdout",
     "text": [
      "[0.19 0.3  0.36 0.53]\n",
      "[2.0875 2.65   2.9675 3.61  ]\n"
     ]
    }
   ],
   "metadata": {
    "tags": []
   }
  },
  {
   "cell_type": "markdown",
   "source": [
    "Nu har vi to lister med datapunkter der hænger sammen, og vi kan begynde at undersøge hvilket fit vi skal bruge. Vi regner med at skulle bruge en lineær funktion, så vi skal have defineret det i vores kode. Vi kalder funktionen \"linfunc\", og angiver så variabel og parametre i parentes. I return skriver vi hvad funktionen skal give som resultat når vi bruger den."
   ],
   "metadata": {}
  },
  {
   "cell_type": "code",
   "execution_count": null,
   "source": [
    "def linfunc(x,a,b):\r\n",
    "    y = a*x + b\r\n",
    "    return y"
   ],
   "outputs": [],
   "metadata": {}
  },
  {
   "cell_type": "markdown",
   "source": [
    "Når man fitter er det meget **vigtigt** at det første argument i ens funktion, her x, er det som man har data på og vil have python til at fitte efter, ellers fungerer fittet ikke. Dette er en fejl som ofte opstår, så hvis I får en fejl så tjek lige om i har det rigtige stående som det første I jeres parentes.\r\n",
    "\r\n",
    "Når man så har en funktion defineret rigtigt, kan man fitte vores funktion til dataen med kommandoen optimize_curvefit. Funktionen optimize.curve_fit skal bruge funktionen der ønskes at fitte efter, også de tilhørende x- og y-værdier, i dette tilfælde pendullængde og svingningstid. Funktionen giver to outputs, først giver den fitte-parametrene, det vil sige fittets bedste bud på hvad parametrene i fit-funktionen bør være. Dernæst giver den covariansen. Er der flere parametre angives covariansen som en matrix med flere værdier. Covariance-matrixen kan bruges til at finde ussikkerheder på fit parametre, men mere om det til sidst."
   ],
   "metadata": {}
  },
  {
   "cell_type": "code",
   "execution_count": null,
   "source": [
    "par, cov = curve_fit(linfunc, L , gns_svingning)\r\n",
    "print(par) #printer parametrene\r\n",
    "print(cov) #printer covariansen"
   ],
   "outputs": [
    {
     "output_type": "stream",
     "name": "stdout",
     "text": [
      "[4.4553719  1.29164669]\n",
      "[[ 0.08314673 -0.02868562]\n",
      " [-0.02868562  0.01115413]]\n"
     ]
    }
   ],
   "metadata": {
    "tags": []
   }
  },
  {
   "cell_type": "markdown",
   "source": [
    "Nu kan vi plotte vores data sammen med vores fit, og vurdere hvor god vores model er. Vi skal selvfølgelig også have plottet vores usikkerheder, og da vi arbejder med gennemsnit vil vi plotte usikkerheden ved hjælp af standardafvigelsen på vores data. Man kan bruge NumPy funktionen np.std() til at bestemme standardafvigelse.\r\n",
    "\r\n",
    "For at plotte vores fit laver vi et array af værdier i det interval vi gerne vil plotte med np.linspace funktionen. Vi bruger så disse værdier i vores lineære funktion, hvor vi bruger de parametre vores fit bestemte med optimize.curve-fit."
   ],
   "metadata": {}
  },
  {
   "cell_type": "code",
   "execution_count": null,
   "source": [
    "import matplotlib.pyplot as plt\r\n",
    "\r\n",
    "afvigelse = np.std(svingningstider, axis = 1)/np.sqrt(len(svingningstider))\r\n",
    "\r\n",
    "X = np.linspace(0.1,0.6,1000) #laver et array af 1000 jævnt fordelte tal mellem 0.1 og 0.6\r\n",
    "Y = linfunc(X,par[0],par[1])  #laver et array af vores lineære fit på det ovenstående array\r\n",
    "\r\n",
    "plt.plot(L , gns_svingning, '.', label = 'Data')\r\n",
    "plt.plot(X,Y , label = 'Fit')\r\n",
    "plt.errorbar(L , gns_svingning , yerr=afvigelse , fmt='none' , label = 'Usikkerhed')\r\n",
    "plt.xlabel('Snorlængden [m]')\r\n",
    "plt.ylabel('Sviningstid [s]')\r\n",
    "plt.title(\"Svingningstid som funktion af snorlængde\")\r\n",
    "plt.legend()\r\n",
    "plt.show()"
   ],
   "outputs": [
    {
     "output_type": "display_data",
     "data": {
      "text/plain": [
       "<Figure size 432x288 with 1 Axes>"
      ],
      "image/png": "[encoded data removed]"
     },
     "metadata": {
      "needs_background": "light"
     }
    }
   ],
   "metadata": {}
  },
  {
   "cell_type": "markdown",
   "source": [
    "Man kan også lave et fit, hvor der tages højde for usikkerheden på datapunkterne. Det gør man ved at angive et sigma når man bruger curve_fit."
   ],
   "metadata": {}
  },
  {
   "cell_type": "code",
   "execution_count": null,
   "source": [
    "par_with_error, cov_new = curve_fit(linfunc, L , gns_svingning, sigma = afvigelse)\r\n",
    "print(par_with_error)"
   ],
   "outputs": [
    {
     "output_type": "stream",
     "name": "stdout",
     "text": [
      "[4.71061446 1.23176413]\n"
     ]
    }
   ],
   "metadata": {
    "tags": []
   }
  },
  {
   "cell_type": "markdown",
   "source": [
    "Paremeterne er ikke ændret så meget da fejlen på punkterne er meget ens, men hvis der havde været stor forskel på usikkerhederne ville det have en større effekt. Endeligt kan man så plotte punkter med usikkerheder og fit som tager højde for usikkerheden."
   ],
   "metadata": {}
  },
  {
   "cell_type": "code",
   "execution_count": null,
   "source": [
    "Y_2 = linfunc(X,par_with_error[0],par_with_error[1])\r\n",
    "\r\n",
    "plt.errorbar(L , gns_svingning,yerr= afvigelse, fmt='.', label = 'Data')\r\n",
    "plt.plot(X,Y_2 , label = 'Fit')\r\n",
    "plt.xlabel('Snorlængden [m]')\r\n",
    "plt.ylabel('Sviningstid [s]')\r\n",
    "plt.legend()\r\n",
    "plt.title(\"Svingningstid som funktion af snorlængde\")\r\n",
    "plt.show()"
   ],
   "outputs": [
    {
     "output_type": "display_data",
     "data": {
      "text/plain": [
       "<Figure size 432x288 with 1 Axes>"
      ],
      "image/png": "[encoded data removed]"
     },
     "metadata": {
      "needs_background": "light"
     }
    }
   ],
   "metadata": {}
  },
  {
   "cell_type": "markdown",
   "source": [
    "For at finde usikkerheden på de fittede parametre som er fundet her, kan man bruge covariance-matrixen. På dens diagonal er nemlig variansen for de fittede parametre. Når man har variansen kan man finde usikkerheden, da kvadratroden af variansen er ussikerheden. I python kan det gøres med et for-loop"
   ],
   "metadata": {}
  },
  {
   "cell_type": "code",
   "execution_count": null,
   "source": [
    "for i in range(len(cov_new)):\r\n",
    "    sigma = np.sqrt(cov_new[i,i])\r\n",
    "    print(par[i], ' +/-' , sigma)\r\n",
    "    "
   ],
   "outputs": [
    {
     "output_type": "stream",
     "name": "stdout",
     "text": [
      "4.455371899695233  +/- 0.3624954078593303\n",
      "1.2916466946051461  +/- 0.120762382852016\n"
     ]
    }
   ],
   "metadata": {}
  },
  {
   "cell_type": "markdown",
   "source": [
    "Her er fit-værdierne for a og b printet med usikkerheder fundet fra covariance-matrixen."
   ],
   "metadata": {}
  }
 ],
 "metadata": {
  "kernelspec": {
   "name": "python3",
   "display_name": "Python 3.8.2 64-bit"
  },
  "language_info": {
   "codemirror_mode": {
    "name": "ipython",
    "version": 3
   },
   "file_extension": ".py",
   "mimetype": "text/x-python",
   "name": "python",
   "nbconvert_exporter": "python",
   "pygments_lexer": "ipython3",
   "version": "3.8.2"
  },
  "toc": {
   "base_numbering": 1,
   "nav_menu": {},
   "number_sections": true,
   "sideBar": true,
   "skip_h1_title": true,
   "title_cell": "Indholdsfortegnelse",
   "title_sidebar": "Indhold",
   "toc_cell": true,
   "toc_position": {},
   "toc_section_display": true,
   "toc_window_display": false
  },
  "varInspector": {
   "cols": {
    "lenName": 16,
    "lenType": 16,
    "lenVar": 40
   },
   "kernels_config": {
    "python": {
     "delete_cmd_postfix": "",
     "delete_cmd_prefix": "del ",
     "library": "var_list.py",
     "varRefreshCmd": "print(var_dic_list())"
    },
    "r": {
     "delete_cmd_postfix": ") ",
     "delete_cmd_prefix": "rm(",
     "library": "var_list.r",
     "varRefreshCmd": "cat(var_dic_list()) "
    }
   },
   "types_to_exclude": [
    "module",
    "function",
    "builtin_function_or_method",
    "instance",
    "_Feature"
   ],
   "window_display": false
  },
  "interpreter": {
   "hash": "e7066df799e5b7dce5dbb01d2b6be2de046d6380833e4d9e2d97cb4bb87a58f7"
  }
 },
 "nbformat": 4,
 "nbformat_minor": 2
}