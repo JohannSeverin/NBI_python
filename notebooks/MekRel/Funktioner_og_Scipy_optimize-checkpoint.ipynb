{
 "cells": [
  {
   "cell_type": "markdown",
   "metadata": {
    "toc": true
   },
   "source": [
    "<h1>Indholdsfortegnelse<span class=\"tocSkip\"></span></h1>\n",
    "<div class=\"toc\"><ul class=\"toc-item\"><li><span><a href=\"#Funktioner\" data-toc-modified-id=\"Funktioner-1\"><span class=\"toc-item-num\">1&nbsp;&nbsp;</span>Funktioner</a></span></li><li><span><a href=\"#Fitting\" data-toc-modified-id=\"Fitting-2\"><span class=\"toc-item-num\">2&nbsp;&nbsp;</span>Fitting</a></span></li></ul></div>"
   ]
  },
  {
   "cell_type": "markdown",
   "metadata": {},
   "source": [
    "# Functioner, fits og usikkerheder i python\n"
   ]
  },
  {
   "cell_type": "markdown",
   "metadata": {},
   "source": [
    "I denne note vil vi introducere jer til funktioner, hvordan man fitter en model til data og behandler usikkerheder i Python. "
   ]
  },
  {
   "cell_type": "markdown",
   "metadata": {},
   "source": [
    "## Funktioner"
   ]
  },
  {
   "cell_type": "markdown",
   "metadata": {},
   "source": [
    "Før vi kan fitte en funktion med Python skal vi kunne definere en funktion. En funktion er et meget bredt begreb i Python og man kan rigtig meget med dem, og når I kommer lidt længere i jeres udannelse er det hovedsageligt dem I skal bruge når I programmerer, men lige nu skal vi bare kunne bruge dem til at fitte. \n",
    "\n",
    "Man definerer en funktion ved at skrive 'def', skrive det funktionen skal gøre, også skrive 'return', hvor man skriver det funktionen skal levere. Et eksempel ses under."
   ]
  },
  {
   "cell_type": "code",
   "execution_count": 1,
   "metadata": {},
   "outputs": [],
   "source": [
    "def funktion(m,v):\n",
    "    return 1/2 * m * v**2"
   ]
  },
  {
   "cell_type": "markdown",
   "metadata": {
    "tags": []
   },
   "source": [
    "Her har jeg defineret en funktion som jeg kalder funktion, den tager 2 argumenter, m og v, og returnerer $ \\frac{1}{2}  m v^2$. Den kan vi så prøve af for m = 80 og v = 5"
   ]
  },
  {
   "cell_type": "code",
   "execution_count": 2,
   "metadata": {
    "tags": []
   },
   "outputs": [
    {
     "name": "stdout",
     "output_type": "stream",
     "text": [
      "1000.0\n"
     ]
    }
   ],
   "source": [
    "print(funktion(80,5))"
   ]
  },
  {
   "cell_type": "markdown",
   "metadata": {},
   "source": [
    "Funktioner kan også bruges til at gøre kode mere overskuelig og nemmere at debugge, her er der fx defineret en funktion som laver et plot. Den tager ingen værdier og retunere heller ikke noget, men er nem at debugge og man kan lade være med at kalde den når man har fået sit plot."
   ]
  },
  {
   "cell_type": "code",
   "execution_count": 3,
   "metadata": {
    "tags": []
   },
   "outputs": [
    {
     "data": {
      "image/png": "[encoded data removed]",
      "text/plain": [
       "<Figure size 432x288 with 1 Axes>"
      ]
     },
     "metadata": {
      "needs_background": "light"
     },
     "output_type": "display_data"
    }
   ],
   "source": [
    "import numpy as np\n",
    "\n",
    "v_data = np.linspace(0,100,1000)\n",
    "E_data = funktion(80,v_data)\n",
    "\n",
    "def plot_E_kin():\n",
    "    import matplotlib.pyplot as plt\n",
    "    plt.plot(v_data,E_data, label = 'Energi')\n",
    "    plt.xlabel('Fart [m/s]')\n",
    "    plt.ylabel('Energi [J]')\n",
    "    plt.legend()\n",
    "    plt.show()\n",
    "    plt.close('all')\n",
    "\n",
    "plot_E_kin()"
   ]
  },
  {
   "cell_type": "markdown",
   "metadata": {},
   "source": [
    "## Fitting"
   ]
  },
  {
   "cell_type": "markdown",
   "metadata": {},
   "source": [
    "Vi skal nu bruge funktioner til at fitte en model til data. Her bruger vi optimize.curve_fit, denne kommer fra pakken SciPy og importeres således."
   ]
  },
  {
   "cell_type": "code",
   "execution_count": 4,
   "metadata": {},
   "outputs": [],
   "source": [
    "from scipy.optimize import curve_fit"
   ]
  },
  {
   "cell_type": "markdown",
   "metadata": {},
   "source": [
    "For at fitte en model skal man have noget data at fitte til, her bruger jeg den data der lå på jeres første Python aflevering."
   ]
  },
  {
   "cell_type": "code",
   "execution_count": 5,
   "metadata": {
    "tags": []
   },
   "outputs": [
    {
     "name": "stdout",
     "output_type": "stream",
     "text": [
      "[[0.19 1.98 2.05 2.16 2.16 2.07]\n",
      " [0.3  2.61 2.6  2.58 2.81 2.68]\n",
      " [0.36 3.   3.   3.   2.87 2.97]\n",
      " [0.53 3.47 3.83 3.54 3.6  3.5 ]]\n"
     ]
    }
   ],
   "source": [
    "data = np.array([\n",
    "    [0.19,1.98,2.05,2.16,2.16,2.07],\n",
    "    [0.3,2.61,2.6,2.58,2.81,2.68],\n",
    "    [0.36,3,3,3,2.87,2.97],\n",
    "    [0.53,3.47,3.83,3.54,3.6,3.5],])\n",
    "print(data)"
   ]
  },
  {
   "cell_type": "markdown",
   "metadata": {},
   "source": [
    "For at fitte en model til data, skal man have ét datapunkt for hver varieret måling, her har vi 5 målinger per pendullængde, derfor skal vi altså tage gennemsnit af vores svingningstider."
   ]
  },
  {
   "cell_type": "code",
   "execution_count": 6,
   "metadata": {
    "tags": []
   },
   "outputs": [
    {
     "name": "stdout",
     "output_type": "stream",
     "text": [
      "[0.19 0.3  0.36 0.53]\n",
      "[2.0875 2.65   2.9675 3.61  ]\n"
     ]
    }
   ],
   "source": [
    "L = data[: , 0] #udvælger kolonnen med pendullængde\n",
    "svingningstider = data[:,1:5] #her udvælger vi de fire kolonner  med svingningstider\n",
    "\n",
    "gns_svingning = np.mean(svingningstider, axis = 1) #tager gennemsnit af svingningstiderne, \"axis\" angiver om vi går vandret eller lodret i datasættet\n",
    "\n",
    "print(L)\n",
    "print(gns_svingning)"
   ]
  },
  {
   "cell_type": "markdown",
   "metadata": {},
   "source": [
    "Nu har vi to lister med data punkter der hænger sammen, nu kan vi begynde at undersøge hvilket fit vi skal bruge. Vi regner med at skulle bruge en lineær funktion, så vi skal have defineret det i vores kode. Vi kalder funktionen \"linfunc\", og angiver så variabel og parametre i parentes. I return skriver vi hvad funktionen skal give som resultat når vi bruger den."
   ]
  },
  {
   "cell_type": "code",
   "execution_count": 7,
   "metadata": {},
   "outputs": [],
   "source": [
    "def linfunc(x,a,b):\n",
    "    y = a*x + b\n",
    "    return y"
   ]
  },
  {
   "cell_type": "markdown",
   "metadata": {},
   "source": [
    "Når man fitter er det meget **vigtigt** at det første argument i ens funktion, her x, er det som man har data på og vil have python til at fitte efter, ellers fungerer fittet ikke. Dette er en fejl som ofte opstår, så hvis I får en fejl så tjek lige om i har det rigtige stående som det første i jeres parentes.\n",
    "\n",
    "Når man så har en funktion defineret rigtigt, kan man fitte vores funktion til dataen med kommandoen optimize_curvefit. Funktionen optimize.curve_fit skal bruge funktionen der ønskes at fitte efter, også de tilhørende x- og y-værdier, i dette tilfælde pendullængde og svingningstid. Funktionen giver to outputs, først giver den fitte-paramterene, det vil sige fittets bedste bud på hvad parametrene i fit-funktionen bør være. Dernæst giver den covariansen. Er der flere parametre angives covariansen som en matrix med flere værdier. Covariance matrixen kan bruges til at finde ussikerheder på fit parametre, men mere om det til sidst."
   ]
  },
  {
   "cell_type": "code",
   "execution_count": 8,
   "metadata": {
    "tags": []
   },
   "outputs": [
    {
     "name": "stdout",
     "output_type": "stream",
     "text": [
      "[4.4553719  1.29164669]\n",
      "[[ 0.08314673 -0.02868562]\n",
      " [-0.02868562  0.01115413]]\n"
     ]
    }
   ],
   "source": [
    "par, cov = curve_fit(linfunc, L , gns_svingning)\n",
    "print(par) #printer parametrene\n",
    "print(cov) #printer covariansen"
   ]
  },
  {
   "cell_type": "markdown",
   "metadata": {},
   "source": [
    "Nu kan vi plotte vores data sammen med vores fit, og vurdere hvor god vores model er. Vi skal selvfølgelig også have plottet vores usikkerheder, og da vi arbejder med gennemsnit vil vi plotte usikkerheden ved hjælp af standardafvigelsen på vores data. Man kan bruge NumPy funktionen np.std() til at bestemme standardafvigelse.\n",
    "\n",
    "For at plotte vores fit laver vi et array af værdier i det interval vi gerne vil plotte med np.linspace funktionen. Vi bruger så disse værdier i vores lineære-funktion, hvor vi bruger de parametre vores fit bestemte med optimize.curve-fit."
   ]
  },
  {
   "cell_type": "code",
   "execution_count": 9,
   "metadata": {},
   "outputs": [
    {
     "data": {
      "image/png": "[encoded data removed]",
      "text/plain": [
       "<Figure size 432x288 with 1 Axes>"
      ]
     },
     "metadata": {
      "needs_background": "light"
     },
     "output_type": "display_data"
    }
   ],
   "source": [
    "import matplotlib.pyplot as plt\n",
    "\n",
    "afvigelse = np.std(svingningstider, axis = 1)/np.sqrt(len(svingningstider))\n",
    "\n",
    "X = np.linspace(0.1,0.6,1000) #laver et array af 1000 jævnt fordelte tal mellem 0.1 og 0.6\n",
    "Y = linfunc(X,par[0],par[1])  #laver et array af vores lineære fit på det ovenstående array\n",
    "\n",
    "plt.plot(L , gns_svingning, '.', label = 'Data')\n",
    "plt.plot(X,Y , label = 'Fit')\n",
    "plt.errorbar(L , gns_svingning , yerr=afvigelse , fmt='none' , label = 'Usikkerhed')\n",
    "plt.xlabel('Snorlængden [m]')\n",
    "plt.ylabel('Sviningstid [s]')\n",
    "plt.title(\"Svingningstid som funktion af snorlængde\")\n",
    "plt.legend()\n",
    "plt.show()"
   ]
  },
  {
   "cell_type": "markdown",
   "metadata": {},
   "source": [
    "Man kan også lave et fit, hvor der tages højde for usikkerheden på datapunkterne. Det gør man ved at angive et sigma når man bruger curve_fit."
   ]
  },
  {
   "cell_type": "code",
   "execution_count": 10,
   "metadata": {
    "tags": []
   },
   "outputs": [
    {
     "name": "stdout",
     "output_type": "stream",
     "text": [
      "[4.71061446 1.23176413]\n"
     ]
    }
   ],
   "source": [
    "par_with_error, cov_new = curve_fit(linfunc, L , gns_svingning, sigma = afvigelse)\n",
    "print(par_with_error)"
   ]
  },
  {
   "cell_type": "markdown",
   "metadata": {},
   "source": [
    "Paremeterne er ikke ændret så meget da fejlen på punkterne er meget ens, men hvis der havde været stor forskel på usikkerhederne ville det have en større effekt. Endeligt kan man så plotte punkter med usikkerheder og fit som tager højde for usikkerheden."
   ]
  },
  {
   "cell_type": "code",
   "execution_count": 11,
   "metadata": {},
   "outputs": [
    {
     "data": {
      "image/png": "[encoded data removed]",
      "text/plain": [
       "<Figure size 432x288 with 1 Axes>"
      ]
     },
     "metadata": {
      "needs_background": "light"
     },
     "output_type": "display_data"
    }
   ],
   "source": [
    "Y_2 = linfunc(X,par_with_error[0],par_with_error[1])\n",
    "\n",
    "plt.errorbar(L , gns_svingning,yerr= afvigelse, fmt='.', label = 'Data')\n",
    "plt.plot(X,Y_2 , label = 'Fit')\n",
    "plt.xlabel('Snorlængden [m]')\n",
    "plt.ylabel('Sviningstid [s]')\n",
    "plt.legend()\n",
    "plt.title(\"Svingningstid som funktion af snorlængde\")\n",
    "plt.show()"
   ]
  },
  {
   "cell_type": "markdown",
   "metadata": {},
   "source": [
    "For at finde ussikerheden på de fit parametre som er fundet her kan man bruge covariance matrixen. På dens diagonal er nemlig variancen for de fittede parametre. Når man har variancen kan man finde ussikerheden da kvadratroden af variancen er ussikerheden. I python kan det gøres med et for loop"
   ]
  },
  {
   "cell_type": "code",
   "execution_count": 12,
   "metadata": {},
   "outputs": [
    {
     "name": "stdout",
     "output_type": "stream",
     "text": [
      "4.455371899695233  +/- 0.3624954078593303\n",
      "1.2916466946051461  +/- 0.120762382852016\n"
     ]
    }
   ],
   "source": [
    "for i in range(len(cov_new)):\n",
    "    sigma = np.sqrt(cov_new[i,i])\n",
    "    print(par[i], ' +/-' , sigma)\n",
    "    "
   ]
  },
  {
   "cell_type": "markdown",
   "metadata": {},
   "source": [
    "Her er fit værdierne for a og b printet med ussikerheder fundet fra covariance matrixen."
   ]
  }
 ],
 "metadata": {
  "kernelspec": {
   "display_name": "Python 3",
   "language": "python",
   "name": "python3"
  },
  "language_info": {
   "codemirror_mode": {
    "name": "ipython",
    "version": 3
   },
   "file_extension": ".py",
   "mimetype": "text/x-python",
   "name": "python",
   "nbconvert_exporter": "python",
   "pygments_lexer": "ipython3",
   "version": "3.8.5"
  },
  "toc": {
   "base_numbering": 1,
   "nav_menu": {},
   "number_sections": true,
   "sideBar": true,
   "skip_h1_title": true,
   "title_cell": "Indholdsfortegnelse",
   "title_sidebar": "Indhold",
   "toc_cell": true,
   "toc_position": {},
   "toc_section_display": true,
   "toc_window_display": false
  },
  "varInspector": {
   "cols": {
    "lenName": 16,
    "lenType": 16,
    "lenVar": 40
   },
   "kernels_config": {
    "python": {
     "delete_cmd_postfix": "",
     "delete_cmd_prefix": "del ",
     "library": "var_list.py",
     "varRefreshCmd": "print(var_dic_list())"
    },
    "r": {
     "delete_cmd_postfix": ") ",
     "delete_cmd_prefix": "rm(",
     "library": "var_list.r",
     "varRefreshCmd": "cat(var_dic_list()) "
    }
   },
   "types_to_exclude": [
    "module",
    "function",
    "builtin_function_or_method",
    "instance",
    "_Feature"
   ],
   "window_display": false
  }
 },
 "nbformat": 4,
 "nbformat_minor": 2
}