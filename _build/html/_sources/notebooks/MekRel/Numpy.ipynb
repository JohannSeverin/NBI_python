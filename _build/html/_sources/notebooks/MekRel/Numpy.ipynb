{
 "cells": [
  {
   "cell_type": "markdown",
   "metadata": {},
   "source": [
    "# Numpy\n",
    "\n",
    "Numpy bruges til at lave numeriske beregninger og vil være jeres primære værktøj i laboratoriet. Det skyldes at man kan bruge `numpy arrays`. Det er en data type som gør operationer på mange tal hurtigt og forhåbenligt intuitivt når I har arbejdet lidt med det.\n",
    "\n",
    "**Tip:** Hvis du gerne vil downloade og køre denne notebook skal du også bruge filen `Testdata.csv` som kan hentes her [link til host](https://github.com/JohannSeverin/NBI_python/tree/main/notebooks/pakker)\n"
   ]
  },
  {
   "cell_type": "markdown",
   "metadata": {},
   "source": [
    "\n",
    "## Numpy arrays\n",
    "\n",
    "For at lave et numpy array kan man skrive forskellige ting. Her er nogle eksempler,\n"
   ]
  },
  {
   "cell_type": "code",
   "execution_count": 2,
   "metadata": {},
   "outputs": [],
   "source": [
    "import numpy as np # Husk at importere numpy ellers virker det ikke."
   ]
  },
  {
   "cell_type": "code",
   "execution_count": 3,
   "metadata": {},
   "outputs": [
    {
     "name": "stdout",
     "output_type": "stream",
     "text": [
      "[3 4 5 1]\n",
      "[0.  0.5 1.  1.5 2.  2.5]\n",
      "[0. 2. 4. 6. 8.]\n"
     ]
    }
   ],
   "source": [
    "array1 = np.array([3,4,5,1]) #manuelt indtastede værdier\n",
    "array2 = np.arange(0,3,0.5) #et array med tallene fra 0 til 3 (ekslusiv 3) i 0.5 skridtstørrelse\n",
    "array3 = np.linspace(0,8,5) #et array med tallene fra 0 til 8 (inklusiv 8) i 5 skridt\n",
    "\n",
    "print(array1) #ønsker du at se noget af det du har defineret så \"print\" det således\n",
    "print(array2)\n",
    "print(array3)"
   ]
  },
  {
   "cell_type": "markdown",
   "metadata": {},
   "source": [
    "Læg mærke til at NumPy funktionen `arange` tæller efter skridtstørrelse, altså hvor stort mellemrum der skal være mellem hver værdi i intervallet man angiver, og `linspace` tæller efter, hvor mange skridt der skal være i alt, og giver så en jævn fordeling af værdier i det interval, man angiver.\n",
    "\n",
    "Vil man gerne trække tal ud af sine arrays, gøres det ved at skrive indekset på det man gerne vil have ud,"
   ]
  },
  {
   "cell_type": "code",
   "execution_count": 4,
   "metadata": {},
   "outputs": [
    {
     "name": "stdout",
     "output_type": "stream",
     "text": [
      "[3 4 5 1 6 8]\n",
      "3 5\n",
      "[4 5 1 6]\n",
      "8\n"
     ]
    }
   ],
   "source": [
    "array4 = np.array([3,4,5,1,6,8]) #Definerer et array\n",
    "print(array4)\n",
    "\n",
    "print( array4[0], array4[2]) #vælger den første og tredje værdi i arrayet\n",
    "\n",
    "print(array4[1:5]) #vælger værdien fra indeks 1 til og uden 5 (husk at Python indekserer fra 0)\n",
    "\n",
    "print(array4[-1]) #man kan også vælge den sidste værdi ved at tælle baglæns"
   ]
  },
  {
   "cell_type": "markdown",
   "metadata": {},
   "source": [
    "Man kan også lave arrays i 2D, og trække værdier ud på samme måde,"
   ]
  },
  {
   "cell_type": "code",
   "execution_count": 3,
   "metadata": {},
   "outputs": [
    {
     "name": "stdout",
     "output_type": "stream",
     "text": [
      "[[1 2 3]\n",
      " [4 5 6]\n",
      " [7 8 9]]\n",
      "5\n",
      "[1 4 7]\n",
      "45\n",
      "[12 15 18]\n"
     ]
    }
   ],
   "source": [
    "array5 = np.array([[1,2,3],[4,5,6],[7,8,9]])\n",
    "print(array5) #viser hele arrayet\n",
    "\n",
    "print(array5[1,1]) #udskriver indeks (1,1)\n",
    "\n",
    "print(array5[:,0]) #udskriver første kolonne i matricen\n",
    "\n",
    "print(np.sum(array5)) #bestemmer summen af alle tallene\n",
    "print(np.sum(array5,axis=0)) #bestemmer summen af kolonnerne"
   ]
  },
  {
   "cell_type": "markdown",
   "metadata": {},
   "source": [
    "En af grundene til at vi bruger NumPy arrays er, at vi nemt kan bruge NumPy funktioner til at lave regneoperationer på arrays. Her følger et par eksempler,"
   ]
  },
  {
   "cell_type": "code",
   "execution_count": 5,
   "metadata": {},
   "outputs": [
    {
     "name": "stdout",
     "output_type": "stream",
     "text": [
      "[0 1 2 3 4 5 6 7 8 9]\n",
      "[ 1  2  5 10 17 26 37 50 65 82]\n",
      "[1.00000000e+00 2.71828183e+00 7.38905610e+00 2.00855369e+01\n",
      " 5.45981500e+01 1.48413159e+02 4.03428793e+02 1.09663316e+03\n",
      " 2.98095799e+03 8.10308393e+03]\n"
     ]
    }
   ],
   "source": [
    "tal = np.arange(0,10) #heltal fra 0 til 9\n",
    "\n",
    "kvadrat = tal**2 + 1 #tager kvadratet plus 1 for alle tal i arrayet\n",
    "\n",
    "Exp = np.exp(tal) #tager exp til alle tal i arrayet\n",
    "\n",
    "#printer array, og de to resultater\n",
    "print(tal)\n",
    "print(kvadrat)\n",
    "print(Exp)"
   ]
  },
  {
   "cell_type": "markdown",
   "metadata": {},
   "source": [
    "## Funktioner til statistik\n",
    "\n",
    "Når vi laver databehandling i lab, skal vi ofte bruge gennemsnit og spredning på vores data, og det kan vi gøre nemt med et par `numpy`-funktioner. Arbejder man med 2D-datasæt, f.eks. ved gentagne målinger for skiftende variable, hvor vi vil have gennemsnittet for hver opstilling, skal man være opmærksom på at indikere akse i datasættet. Aksen sættes enten til 0 eller 1, afhængig af om man vil tage gennemsnittet lodret gennem kolonner eller vandret gennem rækker."
   ]
  },
  {
   "cell_type": "code",
   "execution_count": 9,
   "metadata": {},
   "outputs": [
    {
     "name": "stdout",
     "output_type": "stream",
     "text": [
      "Gennemsnit:  3.72 \n",
      "Spredning:  0.43081318457076023\n",
      "Det her er et 2D-array, \n",
      " [[1.  2.  3. ]\n",
      " [1.2 1.9 3.2]\n",
      " [0.8 2.1 3.4]]\n",
      "Gennemsnit:  [1.  2.  3.2] \n",
      "Spredning:  [0.16329932 0.08164966 0.16329932]\n"
     ]
    }
   ],
   "source": [
    "data1 = np.array([3.2,4.1,3.7,4.3,3.3]) #indtaster et datasæt\n",
    "gennemsnit1 = np.mean(data1) #tager gennemsnit\n",
    "spredning1 = np.std(data1) #finder spredningen\n",
    "print(\"Gennemsnit: \", gennemsnit1,\"\\nSpredning: \", spredning1) #\\n sætter blot det efterfølgende printet på ny linje\n",
    "\n",
    "data2 = np.array([[1,2,3], [1.2,1.9,3.2], [0.8,2.1,3.4]]) #indtaster et 2D datasæt\n",
    "gennemsnit2 = np.mean(data2, axis = 0) #vi ønsker at tage gennemsnittet gennem kolonner. \n",
    "spredning2 = np.std(data2, axis = 0)\n",
    "\n",
    "print(\"Det her er et 2D-array, \\n\", data2)\n",
    "print(\"Gennemsnit: \",gennemsnit2, \"\\nSpredning: \", spredning2)\n"
   ]
  },
  {
   "cell_type": "markdown",
   "metadata": {},
   "source": [
    "## Importering af datafiler\n",
    "Når vi arbejder i lab har vi ofte et måleinstrument der tager målingerne, så det både er mere præcist og man kan tage flere målinger hurtigt.\n",
    "Men når man gør det får man store mængder data og det gider vi ikke sidde og taste ind manuelt. Derfor vil vi bruge Python til det i stedet. For at gøre dette bruger vi igen NumPy pakken. Vi skal bruge kommandoen np.genfromtxt, syntaxen af denne er;\n",
    "\n",
    "```python\n",
    "np.genfromtxt(fname, delimiter = None, skip_header = 0, skip_footer = 0) \n",
    "```\n",
    "\n",
    "hvor fname er filnavnet, delimiter er hvordan dataen er opdelt i filen (mere om det om lidt), skip_header er hvor mange linjer af toppen af filen der skal springes over og skip_footer er det samme bare fra bunden af. Dette er en forsimplet syntax. Den hele findes her hvis du gerne vil læse lidt mere [np.genfromtxt syntax](https://numpy.org/doc/stable/reference/generated/numpy.genfromtxt.html). Den måde '=0' skal forstås er at hvis du ikke skriver skip_header='noget' så antager Python at du mener 0.\n",
    "\n",
    "**Tip**: Det er vigtigt at datafilen som hedder fname ligger i den samme mappe som koden. Så sørg for at gemme jeres Notebook og datafil i samme mappe.\n",
    "\n",
    "Her følger et eksempel, med datafilen \"Testdata.csv\" som kan hentes [her](https://github.com/JohannSeverin/NBI_python/tree/main/notebooks/pakker)."
   ]
  },
  {
   "cell_type": "code",
   "execution_count": 10,
   "metadata": {},
   "outputs": [
    {
     "name": "stdout",
     "output_type": "stream",
     "text": [
      "[[ 1.2  2.5]\n",
      " [ 5.  10.3]\n",
      " [ 7.5 14.8]]\n"
     ]
    }
   ],
   "source": [
    "data = np.genfromtxt('Testdata.csv', delimiter = ';', skip_header=2) #vores data er adskilt med semi-kolon, og vi springer 2 linjer over\n",
    "\n",
    "\n",
    "print(data)"
   ]
  },
  {
   "cell_type": "markdown",
   "metadata": {},
   "source": [
    "Inden man importerer datafilen er det vigtigt at kigge lidt på filen først. Det gør I ved at åbne jeres datafil i jeres foretrukne filredigeringsprogram. Hent den fil der hedder Testdata.csv som ligger [her](https://github.com/JohannSeverin/NBI_python/tree/main/notebooks/pakker), for at kunne kigge lidt på den og forstå importeringen. Hvis du åbner Testdata.csv, så kan du se at der er noget tekst allerøverst, derfor sætter vi skip_header=2, da der er to linjer af tekst vi ikke vil have importeret i vores kode.\n",
    "Videre ser vi at tallene er adskilt med semikolon. Det betyder at vi skal sætte delimiter = ';'. Udover det ser vi at vi får et todimensionelt array af data. Vi vil i dette tilfælde helst have kolonnerne hver for sig. En kolonne kan importeres således,"
   ]
  },
  {
   "cell_type": "code",
   "execution_count": 11,
   "metadata": {},
   "outputs": [
    {
     "name": "stdout",
     "output_type": "stream",
     "text": [
      "[1.2 5.  7.5]\n"
     ]
    }
   ],
   "source": [
    "kolonne1 = data[:,0]\n",
    "print(kolonne1)"
   ]
  },
  {
   "cell_type": "markdown",
   "metadata": {},
   "source": [
    "Nu bør du kunne hente data fra en fil og begynde at lave små data behandlinger som at tage gennemsnittet af alle kolonnerne, under ses et eksempel på dette."
   ]
  },
  {
   "cell_type": "code",
   "execution_count": 9,
   "metadata": {},
   "outputs": [
    {
     "name": "stdout",
     "output_type": "stream",
     "text": [
      "[[ 1.2  2.5]\n",
      " [ 5.  10.3]\n",
      " [ 7.5 14.8]]\n",
      "[4.56666667 9.2       ]\n"
     ]
    }
   ],
   "source": [
    "data = np.genfromtxt('Testdata.csv', delimiter = ';', skip_header=2)\n",
    "print(data)\n",
    "\n",
    "Gns_Row = np.mean(data, axis = 0)\n",
    "print(Gns_Row)\n"
   ]
  }
 ],
 "metadata": {
  "interpreter": {
   "hash": "e7066df799e5b7dce5dbb01d2b6be2de046d6380833e4d9e2d97cb4bb87a58f7"
  },
  "kernelspec": {
   "display_name": "Python 3",
   "language": "python",
   "name": "python3"
  },
  "language_info": {
   "codemirror_mode": {
    "name": "ipython",
    "version": 3
   },
   "file_extension": ".py",
   "mimetype": "text/x-python",
   "name": "python",
   "nbconvert_exporter": "python",
   "pygments_lexer": "ipython3",
   "version": "3.8.5"
  }
 },
 "nbformat": 4,
 "nbformat_minor": 2
}
