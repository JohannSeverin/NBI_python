{
 "cells": [
  {
   "cell_type": "markdown",
   "metadata": {},
   "source": [
    "# Hvad er SymPy?"
   ]
  },
  {
   "cell_type": "markdown",
   "metadata": {},
   "source": [
    "I denne sektion vil vi kigge på, hvordan vi benytter SymPy. Selve SymPy er en pakke i Python, der lader os arbejde med symbolske udtryk. Vi starter med at importere SymPy på samme måde. Derfor vil vi starte alle notebooks med at importere SymPy og benytte forkortelsen \"sp\" for pakken: <code>import sympy as sp</code>.  \n",
    "SymPy har flere indbyggeret printe-værktøjer, der gør det muligt at vise symbolske udtryk i LaTeX, som er et _typesetting_-system der er særligt velegnet til matematisk notation (du kender måske LaTeX fra Words Wordmat-plugin). Den normale <code>print()</code> i Python skriver output i \"string\"-format, mens funktionen <code>display()</code> (som er indbygget i Jupyter) vil være vores foretrukne valg til at vise SymPy-udtryk som LaTeX. Når vi skriver et udtryk til sidst i en celle, vil Jupyter oftest skrive resultatet og vil automatisk bruge `display`."
   ]
  },
  {
   "cell_type": "code",
   "execution_count": 5,
   "metadata": {
    "ExecuteTime": {
     "end_time": "2020-08-01T11:48:49.828305Z",
     "start_time": "2020-08-01T11:48:49.118541Z"
    }
   },
   "outputs": [],
   "source": [
    "import sympy as sp                    # Importer SymPy"
   ]
  },
  {
   "cell_type": "markdown",
   "metadata": {},
   "source": [
    "## Symboler og tal"
   ]
  },
  {
   "cell_type": "markdown",
   "metadata": {},
   "source": [
    "På samme måde som vi kan have variable i Python som _strings_, logiske booleans eller talværdier, så tilføjer SymPy muligheden for symbolske variable, svarende til hvad vi f.eks. kalder en ubekendt i ligningsløsning eller den (uafhængige) variabel i en funktion. Vi ønsker således at have muligheden for angive en variabel som $x$ i $f(x) = x^2+3x-2$ og opfatte den som et abstrakt objekt i modsætning til at tildele $x$ en værdi. Den nemmeste måde at definere symboler på er at importere dem fra underbiblioteket <code>sympy.abc</code>, som indeholder de fleste symboler, som vi til dagligt bruger. Vi kan definere f.eks. $x, a, b$ og $\\phi$ som symboler ved at skrive:"
   ]
  },
  {
   "cell_type": "code",
   "execution_count": 6,
   "metadata": {
    "ExecuteTime": {
     "end_time": "2020-08-01T11:48:49.839463Z",
     "start_time": "2020-08-01T11:48:49.830630Z"
    }
   },
   "outputs": [],
   "source": [
    "from sympy.abc import x, a, b, phi"
   ]
  },
  {
   "cell_type": "markdown",
   "metadata": {},
   "source": [
    "Nu kan vi benytte disse variable i beregninger:"
   ]
  },
  {
   "cell_type": "code",
   "execution_count": 7,
   "metadata": {
    "ExecuteTime": {
     "end_time": "2020-08-01T11:48:50.455252Z",
     "start_time": "2020-08-01T11:48:49.843413Z"
    }
   },
   "outputs": [
    {
     "data": {
      "text/latex": [
       "$\\displaystyle a + b + \\phi$"
      ],
      "text/plain": [
       "a + b + phi"
      ]
     },
     "execution_count": 7,
     "metadata": {},
     "output_type": "execute_result"
    }
   ],
   "source": [
    "a + b + phi # Vi kan lægge dem sammen"
   ]
  },
  {
   "cell_type": "markdown",
   "metadata": {},
   "source": [
    "Vi kan også danne nye udtryk med symbolske værdier. Udtrykkene kan sættes sammen ved at benytte normale Python-operationer såsom: <code>+</code>, <code>-</code>, <code>*</code>,<code>/</code> eller <code>**</code>. Derudover kan vi benytte en del andre regneoperationer ved at skrive <code>sp.</code> foran operationen. \n",
    "Her er samlet de typiske regneoperationer, som man kan finde i SymPy\n",
    "- Kvadratrødder: <code>sp.sqrt(x)</code> (benyt `sp.root(x, n)` til at beregne $\\sqrt[n]{x}$, altså den n'te rod af x)\n",
    "- Trigonometriske funktioner: <code>sp.cos(x), sp.sin(x), sp.tan(x)</code>. De inverse trigonometriske funktioner findes ved eksempelvis <code>acos(x)</code>\n",
    "- Exponentialfunktion <code>sp.exp(x)</code>\n",
    "- Logaritmer: <code>sp.log(x)</code>. For at få 10-tals-logaritmefunktionen skrives <code>log(x, 10)</code>\n",
    "\n",
    "En mere omfattende [liste over regneoperationer kan findes her.](https://docs.sympy.org/latest/modules/functions/elementary.html)\n",
    "\n",
    "Så eksempelvis kan vi sammensætte et udtryk ved at benytte exponentialfunktionen <code>sp.exp</code> sammen med vores symboler:  "
   ]
  },
  {
   "cell_type": "code",
   "execution_count": 8,
   "metadata": {
    "ExecuteTime": {
     "end_time": "2020-08-01T11:48:50.555035Z",
     "start_time": "2020-08-01T11:48:50.457867Z"
    }
   },
   "outputs": [
    {
     "data": {
      "text/latex": [
       "$\\displaystyle a e^{\\phi + 2 x}$"
      ],
      "text/plain": [
       "a*exp(phi + 2*x)"
      ]
     },
     "execution_count": 8,
     "metadata": {},
     "output_type": "execute_result"
    }
   ],
   "source": [
    "a * sp.exp(2*x + phi)"
   ]
  },
  {
   "cell_type": "markdown",
   "metadata": {},
   "source": [
    "Vi kan også danne nye symbolske variable ud fra eksisterende variable. Vi kan f.eks. definere en funktion $f$ baseret på tal og eksisterende symbolske variable:"
   ]
  },
  {
   "cell_type": "code",
   "execution_count": 9,
   "metadata": {
    "ExecuteTime": {
     "end_time": "2020-08-01T11:48:50.562096Z",
     "start_time": "2020-08-01T11:48:50.557743Z"
    }
   },
   "outputs": [],
   "source": [
    "f = a * sp.exp(2*x + phi)"
   ]
  },
  {
   "cell_type": "markdown",
   "metadata": {},
   "source": [
    "Bemærk at vi ikke behøver at definere $f$ som symbolsk variabel. Python/SymPy kan godt regne ud at f bliver en symbolsk variabel idet den er opbygget af andre symbolske variable. Resultatet kan vises med <code>display()</code>-funktionen:"
   ]
  },
  {
   "cell_type": "code",
   "execution_count": 10,
   "metadata": {
    "ExecuteTime": {
     "end_time": "2020-08-01T11:48:50.659625Z",
     "start_time": "2020-08-01T11:48:50.565212Z"
    }
   },
   "outputs": [
    {
     "data": {
      "text/latex": [
       "$\\displaystyle a e^{\\phi + 2 x}$"
      ],
      "text/plain": [
       "a*exp(phi + 2*x)"
      ]
     },
     "metadata": {},
     "output_type": "display_data"
    }
   ],
   "source": [
    "display(f)"
   ]
  },
  {
   "cell_type": "markdown",
   "metadata": {},
   "source": [
    "## Eksakt repræsentation af tal"
   ]
  },
  {
   "cell_type": "markdown",
   "metadata": {},
   "source": [
    "Python opfatter <code>/</code> som en numerisk operation, og når vi vil have eksakte tal-brøker, må vi eksplicit bede SymPy om at opfatte dem som sådan ved hjælp af <code>Rational(a, b)</code>"
   ]
  },
  {
   "cell_type": "code",
   "execution_count": 11,
   "metadata": {
    "ExecuteTime": {
     "end_time": "2020-08-01T11:48:50.746985Z",
     "start_time": "2020-08-01T11:48:50.661905Z"
    }
   },
   "outputs": [
    {
     "data": {
      "text/latex": [
       "$\\displaystyle \\frac{1}{3}$"
      ],
      "text/plain": [
       "1/3"
      ]
     },
     "metadata": {},
     "output_type": "display_data"
    }
   ],
   "source": [
    "brøk = sp.Rational(1, 3)\n",
    "display(brøk)"
   ]
  },
  {
   "cell_type": "markdown",
   "metadata": {},
   "source": [
    "En brøk bestående bestående af symboler lider ikke under samme problem, så der kan vi bare bruge almindelig division. "
   ]
  },
  {
   "cell_type": "code",
   "execution_count": 12,
   "metadata": {},
   "outputs": [
    {
     "data": {
      "text/latex": [
       "$\\displaystyle \\frac{a}{b}$"
      ],
      "text/plain": [
       "a/b"
      ]
     },
     "metadata": {},
     "output_type": "display_data"
    }
   ],
   "source": [
    "c = a/b\n",
    "display(c)"
   ]
  },
  {
   "cell_type": "markdown",
   "metadata": {},
   "source": [
    "Vi kan regne med brøkerne ved hjælp af de almindelige regnearter:"
   ]
  },
  {
   "cell_type": "code",
   "execution_count": 13,
   "metadata": {
    "ExecuteTime": {
     "end_time": "2020-08-01T11:48:50.848841Z",
     "start_time": "2020-08-01T11:48:50.751659Z"
    }
   },
   "outputs": [
    {
     "data": {
      "text/latex": [
       "$\\displaystyle - \\frac{1}{15}$"
      ],
      "text/plain": [
       "-1/15"
      ]
     },
     "metadata": {},
     "output_type": "display_data"
    },
    {
     "data": {
      "text/latex": [
       "$\\displaystyle \\frac{a}{3 b} - \\frac{2}{5}$"
      ],
      "text/plain": [
       "a/(3*b) - 2/5"
      ]
     },
     "metadata": {},
     "output_type": "display_data"
    }
   ],
   "source": [
    "p = sp.Rational(1, 3)\n",
    "q = sp.Rational(2, 5)\n",
    "display(p - q)\n",
    "\n",
    "p = sp.Rational(1, 3)\n",
    "q = sp.Rational(2, 5)\n",
    "display(p*a/b - q)"
   ]
  },
  {
   "cell_type": "markdown",
   "metadata": {},
   "source": [
    "Vi får ofte brug for eksakte værdier af $\\pi$ og evt. andre særlige tal. En eksakt værdi af $\\pi$ får vi ved at skrive <code>from sympy import pi</code>. Når vi sammensætter symbolske variable og $\\pi$ med tal i brøker, kan vi som nævnt ovenfor godt bruge almindelige division istedet for <code>sp.Rational(tæller, nævner)</code>, da Python på grund af symbolerne ikke kan behandle udtrykkene som numerisk repræsenterede decimaltal (_floats_):"
   ]
  },
  {
   "cell_type": "code",
   "execution_count": 14,
   "metadata": {
    "ExecuteTime": {
     "end_time": "2020-08-01T11:48:50.960165Z",
     "start_time": "2020-08-01T11:48:50.854579Z"
    }
   },
   "outputs": [
    {
     "data": {
      "text/latex": [
       "$\\displaystyle \\frac{\\sqrt{3} \\pi}{2}$"
      ],
      "text/plain": [
       "sqrt(3)*pi/2"
      ]
     },
     "metadata": {},
     "output_type": "display_data"
    }
   ],
   "source": [
    "from sympy import pi\n",
    "value = sp.sqrt(3) * pi / 2\n",
    "display(value)"
   ]
  },
  {
   "cell_type": "markdown",
   "metadata": {},
   "source": [
    "Desuden kan vi hente nogle andre brugbare symboler fra SymPy, som eksempelvis uendelig, <code>oo</code> (der skrives som to små o'er og ligner et uendelighedstegn, hvis man har lidt fantasi)."
   ]
  },
  {
   "cell_type": "code",
   "execution_count": 15,
   "metadata": {
    "ExecuteTime": {
     "end_time": "2020-08-01T11:48:51.050352Z",
     "start_time": "2020-08-01T11:48:50.962632Z"
    }
   },
   "outputs": [
    {
     "data": {
      "text/latex": [
       "$\\displaystyle 0$"
      ],
      "text/plain": [
       "0"
      ]
     },
     "execution_count": 15,
     "metadata": {},
     "output_type": "execute_result"
    }
   ],
   "source": [
    "from sympy import oo # Importer værdien uendelig\n",
    "1 / oo               # 1 divideret med uendelig giver 0, i hvert tilfælde for fysikere :o)"
   ]
  },
  {
   "cell_type": "markdown",
   "metadata": {},
   "source": [
    "På samme måde kan vi også importere den imaginære enhed $i = \\sqrt{-1}$, som i SymPy er angivet ved et stort <code>I</code>. Hvis man hellere vil lave numeriske beregninger med komplekse tal, benytter man i stedet <code>j</code> og kan f.eks. skrive <code>2 + 3j</code>. _Hvis du ikke kender til de komplekse tal, så gå ikke i panik. De bliver introduceret i slutningen af blok 1_"
   ]
  },
  {
   "cell_type": "code",
   "execution_count": 16,
   "metadata": {
    "ExecuteTime": {
     "end_time": "2020-08-01T11:48:51.247787Z",
     "start_time": "2020-08-01T11:48:51.052987Z"
    }
   },
   "outputs": [
    {
     "data": {
      "text/latex": [
       "$\\displaystyle 3 + 3 i$"
      ],
      "text/plain": [
       "3 + 3*I"
      ]
     },
     "metadata": {},
     "output_type": "display_data"
    },
    {
     "data": {
      "text/latex": [
       "$\\displaystyle 1 - 2 i$"
      ],
      "text/plain": [
       "1 - 2*I"
      ]
     },
     "metadata": {},
     "output_type": "display_data"
    }
   ],
   "source": [
    "from sympy import I # Importer I\n",
    "z = 3 + 3 * I       # definer to tal\n",
    "q = 1 - 2 * I\n",
    "display(z, q)       # Vi viser dem med display()"
   ]
  },
  {
   "cell_type": "markdown",
   "metadata": {},
   "source": [
    "Vi vil vende tilbage til imaginære tal i SymPy i en senere notebook."
   ]
  },
  {
   "cell_type": "markdown",
   "metadata": {},
   "source": [
    "## Evaluer udtryk"
   ]
  },
  {
   "cell_type": "markdown",
   "metadata": {},
   "source": [
    "Forestil dig at vi har et symbolsk udtryk, der indeholder den variable $a$, og vi ønsker at indsætte værdien $a = 2$. Til dette vil vi nu indføre de to metoder <code>.subs()</code> og <code>.evalf()</code>. For et udtryk $f$, som eksempelvis kunne være <code>f = a ** 2 + b</code>, kan vi indsætte $a = 2$ ved at skrive <code>f.subs(a, 2)</code>."
   ]
  },
  {
   "cell_type": "markdown",
   "metadata": {},
   "source": [
    "__Symbolsk substituering__:  \n",
    "\n",
    "\n",
    "Vi kunne for eksempel for et funktion $f(x) = cos(x \\cdot \\pi / 4)$ ønske at finde værdien af $f$ for forskellige værdier af x:"
   ]
  },
  {
   "cell_type": "code",
   "execution_count": 18,
   "metadata": {
    "ExecuteTime": {
     "end_time": "2020-08-01T11:48:51.454987Z",
     "start_time": "2020-08-01T11:48:51.250280Z"
    }
   },
   "outputs": [
    {
     "data": {
      "text/latex": [
       "$\\displaystyle \\cos{\\left(\\frac{\\pi x}{4} \\right)}$"
      ],
      "text/plain": [
       "cos(pi*x/4)"
      ]
     },
     "metadata": {},
     "output_type": "display_data"
    },
    {
     "data": {
      "text/latex": [
       "$\\displaystyle \\frac{\\sqrt{2}}{2}$"
      ],
      "text/plain": [
       "sqrt(2)/2"
      ]
     },
     "metadata": {},
     "output_type": "display_data"
    }
   ],
   "source": [
    "# Vi definerer funktionen f:\n",
    "f = sp.cos(x * pi / 4)\n",
    "display(f)\n",
    "\n",
    "# Vi kan nu finde værdien for x = 1 ved at skrive:\n",
    "display(f.subs(x, 1))"
   ]
  },
  {
   "cell_type": "markdown",
   "metadata": {},
   "source": [
    "Vi kan også indsætte et udtryk ind i et andet:"
   ]
  },
  {
   "cell_type": "code",
   "execution_count": 19,
   "metadata": {
    "ExecuteTime": {
     "end_time": "2020-08-01T11:48:51.834873Z",
     "start_time": "2020-08-01T11:48:51.457657Z"
    }
   },
   "outputs": [
    {
     "data": {
      "text/latex": [
       "$\\displaystyle a b x + x$"
      ],
      "text/plain": [
       "a*b*x + x"
      ]
     },
     "metadata": {},
     "output_type": "display_data"
    },
    {
     "data": {
      "text/latex": [
       "$\\displaystyle b^{2} + c^{2}$"
      ],
      "text/plain": [
       "b**2 + c**2"
      ]
     },
     "metadata": {},
     "output_type": "display_data"
    },
    {
     "data": {
      "text/latex": [
       "$\\displaystyle a b \\left(b^{2} + c^{2}\\right) + b^{2} + c^{2}$"
      ],
      "text/plain": [
       "a*b*(b**2 + c**2) + b**2 + c**2"
      ]
     },
     "execution_count": 19,
     "metadata": {},
     "output_type": "execute_result"
    }
   ],
   "source": [
    "from sympy.abc import x, a, b, c    # Vi har allerede x, a, og b til rådighed fra ovenfor, men skal have c med.\n",
    "f = a * b * x + x\n",
    "display(f)\n",
    "\n",
    "g = b ** 2 + c ** 2\n",
    "display(g)\n",
    "\n",
    "f.subs(x, g)"
   ]
  },
  {
   "cell_type": "markdown",
   "metadata": {},
   "source": [
    "Her har vi altså defineret to udtryk og erstattet alle forekomster af x i det første udtryk med $g = a^2 + b^2$. Vi kunne have opået det samme (nemmere, men mindre generelt) ved at skrive:"
   ]
  },
  {
   "cell_type": "code",
   "execution_count": 15,
   "metadata": {
    "ExecuteTime": {
     "end_time": "2020-08-01T11:48:51.940073Z",
     "start_time": "2020-08-01T11:48:51.837110Z"
    }
   },
   "outputs": [
    {
     "data": {
      "text/latex": [
       "$\\displaystyle a b \\left(b^{2} + c^{2}\\right) + b^{2} + c^{2}$"
      ],
      "text/plain": [
       "a*b*(b**2 + c**2) + b**2 + c**2"
      ]
     },
     "metadata": {},
     "output_type": "display_data"
    }
   ],
   "source": [
    "g = b ** 2 + c ** 2\n",
    "f = a * b * g + g\n",
    "\n",
    "display(f)"
   ]
  },
  {
   "cell_type": "markdown",
   "metadata": {},
   "source": [
    "__Numerisk evaluering:__   "
   ]
  },
  {
   "cell_type": "markdown",
   "metadata": {},
   "source": [
    "Når vi har et matematisk udtryk, er det en fordel også at kunne finde en numerisk approksimation. Til at gøre dette benytter vi metoden <code>.evalf(cifre)</code>, som giver en approksimation med det angivne antal cifre. Det simpleste eksempel er, hvis vi ønsker at finde det første 10 cifre af pi:"
   ]
  },
  {
   "cell_type": "code",
   "execution_count": 20,
   "metadata": {
    "ExecuteTime": {
     "end_time": "2020-08-01T11:48:52.035608Z",
     "start_time": "2020-08-01T11:48:51.942178Z"
    }
   },
   "outputs": [
    {
     "data": {
      "text/latex": [
       "$\\displaystyle 3.141592654$"
      ],
      "text/plain": [
       "3.141592654"
      ]
     },
     "execution_count": 20,
     "metadata": {},
     "output_type": "execute_result"
    }
   ],
   "source": [
    "pi.evalf(10)         # evalf(10), giver os de første 10 cifre"
   ]
  },
  {
   "cell_type": "markdown",
   "metadata": {},
   "source": [
    "Vi kan benytte de to metoder i kombination, hvis vi eksempelvis vil finde værdien af et udtryk og så approksimere det."
   ]
  },
  {
   "cell_type": "code",
   "execution_count": 22,
   "metadata": {
    "ExecuteTime": {
     "end_time": "2020-08-01T11:48:52.306146Z",
     "start_time": "2020-08-01T11:48:52.038155Z"
    },
    "scrolled": true
   },
   "outputs": [
    {
     "data": {
      "text/latex": [
       "$\\displaystyle e^{\\frac{x}{5}}$"
      ],
      "text/plain": [
       "exp(x/5)"
      ]
     },
     "metadata": {},
     "output_type": "display_data"
    },
    {
     "data": {
      "text/latex": [
       "$\\displaystyle e^{\\frac{3}{5}}$"
      ],
      "text/plain": [
       "exp(3/5)"
      ]
     },
     "metadata": {},
     "output_type": "display_data"
    },
    {
     "data": {
      "text/latex": [
       "$\\displaystyle 1.82$"
      ],
      "text/plain": [
       "1.82"
      ]
     },
     "execution_count": 22,
     "metadata": {},
     "output_type": "execute_result"
    }
   ],
   "source": [
    "f = sp.exp(x / 5)\n",
    "display(f)\n",
    "\n",
    "f_3 = f.subs(x, 3) # Substituerer x med 3 og gemmer det i en variabel, der hedder f_3.\n",
    "# Det er sådan vi gerne vil have svaret skrevet i opgaverne i LinALys: så simpelt som muligt men stadig eksakt.\n",
    "display(f_3)\n",
    "\n",
    "f_3.evalf(3) # Lad os finde værdien som decimaltal med 3 cifre.\n",
    "# ... hvilket er praktisk f.eks. hvis vi skulle tegne resultatet ind i en illustration"
   ]
  },
  {
   "cell_type": "code",
   "execution_count": null,
   "metadata": {},
   "outputs": [],
   "source": []
  },
  {
   "cell_type": "code",
   "execution_count": null,
   "metadata": {},
   "outputs": [],
   "source": []
  }
 ],
 "metadata": {
  "kernelspec": {
   "display_name": "Python 3",
   "language": "python",
   "name": "python3"
  },
  "language_info": {
   "codemirror_mode": {
    "name": "ipython",
    "version": 3
   },
   "file_extension": ".py",
   "mimetype": "text/x-python",
   "name": "python",
   "nbconvert_exporter": "python",
   "pygments_lexer": "ipython3",
   "version": "3.7.9"
  },
  "latex_envs": {
   "LaTeX_envs_menu_present": true,
   "autoclose": false,
   "autocomplete": true,
   "bibliofile": "biblio.bib",
   "cite_by": "apalike",
   "current_citInitial": 1,
   "eqLabelWithNumbers": true,
   "eqNumInitial": 1,
   "hotkeys": {
    "equation": "Ctrl-E",
    "itemize": "Ctrl-I"
   },
   "labels_anchors": false,
   "latex_user_defs": false,
   "report_style_numbering": false,
   "user_envs_cfg": false
  },
  "toc": {
   "base_numbering": 1,
   "nav_menu": {},
   "number_sections": true,
   "sideBar": true,
   "skip_h1_title": true,
   "title_cell": "Indholdsfortegnelse",
   "title_sidebar": "Contents",
   "toc_cell": false,
   "toc_position": {},
   "toc_section_display": true,
   "toc_window_display": true
  }
 },
 "nbformat": 4,
 "nbformat_minor": 4
}
