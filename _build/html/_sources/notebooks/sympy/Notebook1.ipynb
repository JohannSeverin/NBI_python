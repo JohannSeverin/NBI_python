{
 "cells": [
  {
   "cell_type": "markdown",
   "metadata": {},
   "source": [
    "__Foreslået ændringer__  \n",
    "Denne note book bliver skrevet om til et fælles dokument med MekRel\n",
    "\n",
    "Se derfor ændringer under _introduktion til python_. \n",
    "\n",
    "Overordnet er dokumentet kogt ned, så den blot indeholder det mest vigtige. Da det er skrevet sammen med MekRel har vi valgt stadig at beholde if/else statements og løkker, da de også er vigtige for en programmerings tankegang. \n"
   ]
  },
  {
   "cell_type": "markdown",
   "metadata": {},
   "source": [
    "# Python i LinAlys\n",
    "\n",
    "LinALys-kurset indeholder to spor (analyse og lineær algebra) og har fokus på \"blyantsregning\" og forståelse af den bagvedliggende teori. Ind imellem får vi brug for et værktøj til at tegne funktioner og foretage både numeriske og symbolske beregninger for at illustrere en problemstilling og/eller støtte eller kontrollere beregningerne i hånden. I år har vi valgt at bruge Python-modulet SymPy som CAS-værktøj (Computer Algebra System). Python og SymPy er ikke nødvendigvis det optimale værktøj til alle de opgaver, vi løser med Python i kurset, men vi har valgt Python fordi det er standardprogrammeringssproget på fysikstudiets førstedel, så de kræfter, du kommer til at bruge på Python, får du forhåbentlig gavn af andre steder (f.eks. i MekRel-kurset). Dette dokument er det første af en række notebooks, der introducerer de nødvendige koncepter.\n",
    "\n",
    "Det er vigtigt at være opmærksom på, at modsat CAS-værktøjer som Maple, TI_Nspire og WordMat, så er Python ikke lavet specifikt til symbolske udregninger, men er et generelt anvendeligt programmeringssprog. Man skal derfor vænne sig til både Pythons syntaks og programmering som helhed for at få det maksimale ud af SymPy. Når det til gengæld er klaret, er det muligt at benytte SymPy i en lang række sammenhænge, og f.eks. nemt skifte mellem numeriske og symbolske anvendelser. Dette vil vi vende tilbage til, når vi har forudsætningerne på plads.\n",
    "\n",
    "Dette er ikke en grundig indføring i Python, men vi vil i stedet med eksempler vise hvordan man benytter SymPy til at løse typiske opgaver og tegne funktioner. I nogle tilfælde stilles der i kurset opgaver, hvor man skal arbejde  videre med disse eksempler. Hvis man ønsker en dybere forståelse for Python, kan vi anbefale det online (gratis) kursus i Python på https://www.kaggle.com/learn/python, hvorefter man kan prøve kræfter med nogle udfordringer på https://projecteuler.net/.\n",
    "\n",
    "___Studerende, der allerede er bekendt med Python anbefales at springe let hen over teksterne men at kigge kode-eksemplerne igennem for at bekræfte, at man har forstået dem.___"
   ]
  },
  {
   "cell_type": "markdown",
   "metadata": {},
   "source": [
    "## Hvordan virker en Jupyter notebook?"
   ]
  },
  {
   "cell_type": "markdown",
   "metadata": {},
   "source": [
    "I en Notebook skriver man Python-kode i forskellige celler (felter), og man kører derefter koden i den celle, man befinder sig i. Koden bliver læst linje fra linje i den enkelte celle fra top til bund, og efter cellens kode er blivet kørt, vil notebooken huske de variable man har indlæst, og man kan forsætte med kode, der bruger disse variable i en celle længere nede. Hvis man ønsker at køre en enkelt celle, er det smart at benytte genvejen <code>shift</code> + <code>enter</code>.\n",
    "\n",
    "Felterne i en notebook kommer i to typer: markdowns og kode. Det felt, du læser nu, er eksempelvis et Markdowns-felt, hvor resultatet er formatteret tekst. Derudover er der kodefelter, som vi vil se snart, hvor vi skriver selve koden og kan køre/afvikle den. "
   ]
  },
  {
   "cell_type": "markdown",
   "metadata": {},
   "source": [
    "## I Python er alt en variabel\n",
    "Noget, som man skal vende sig til i Python er, at alt er variable. Det vil sige, at hvis vi skriver <code> a = 5 </code>, så vil vi kunne indsætte <code>a</code> i et udtryk, som så vil returnere <code>5</code>.\n",
    "\n",
    "En god måde at se en værdi på, er ved at bede Python om at printe den, dette gøres ved at skrive <code>print(X)</code>, hvor X kan være et hvilket som helst variabelnavn.\n",
    "\n",
    "Eksempelvis kan vi definere variablen <code>hello</code> og printe den. \n",
    "_Længere forklaringer vil oftest stå i et Markdowns-felt, mens vi makerer kommentarer inde i koden med et hashtag #. Hvis en linje starter med #, bliver det ikke læst og afviklet som kode_"
   ]
  },
  {
   "cell_type": "code",
   "execution_count": 11,
   "metadata": {
    "ExecuteTime": {
     "end_time": "2020-08-11T10:46:39.635598Z",
     "start_time": "2020-08-11T10:46:39.625417Z"
    },
    "scrolled": true
   },
   "outputs": [
    {
     "name": "stdout",
     "output_type": "stream",
     "text": [
      "Hello World\n"
     ]
    }
   ],
   "source": [
    "hello = \"Hello World\" # Anførselstegnene (eller \"gåseøjnene\") indikerer at variablen tildeles et tekstudtryk, en såkaldt \"string\"\n",
    "print(hello)"
   ]
  },
  {
   "cell_type": "markdown",
   "metadata": {},
   "source": [
    "Vi ser altså, at konsollen returnerer <i>Hello World</i>, der er værdien af den variable <code>hello</code>.\n",
    "\n",
    "De forskellige typer af variable, som vi oftest vil møde, er:\n",
    "- Integers (heltal): her skriver vi blot et helt tal, som eksempelvis <code>a = 6</code>\n",
    "- Float (decimaltal): indgår der et decimalpunktum, '.', får vi automatisk en float variabel, som eksempelvis <code> pi = 3.14</code>. Bemærk at <code>a = 6</code> og <code>a = 6.</code> derfor ikke er det samme, selvom værdien er det.\n",
    "- String (tekststræng): Når vi vil have en variabel til at indeholde tekst, markeres det med anførselstegn/gåseøjne, f.eks. som ovenfor <code> hello = \"Hello World\"</code>\n",
    "- Boolean (sandt/falsk): Hvis vi skal angive en værdi som enten sand eller falsk, bruger vi en \"boolean variable\" og skriver <code>switch = True</code>. Falsk skal gives ved <code>False</code>, og bemærk igen at der er forskel på <code>Svar = True</code> og <code>Svar = \"True\"</code>, idet <code>Svar</code> i sidstnævnte tilfælde istedet bliver en string indeholdende ordet True, og ikke et logisk udtryk.\n",
    "\n",
    "Vi kan sammensætte lister af flere værdier, eksempelvis en samling af tal. Dette gøres mest almindeligt ved at lave en liste.:\n",
    "<code>tal = [4, 7, 10]</code>. Nu vil <code>tal</code> altså indeholde værdierne 4, 7 og 10. Hvis vi ønsker et enkelt element fra vores liste kan vi hente dem ved at skrive <code>tal[index]</code>, hvor værdien af index angiver placeringen i listen vi ønsker at få ud. __Bemærk at Python starter ved nul (nul-indeksering), så det første element er altså <code>tal[0]</code>.__\n",
    "Eksempel:"
   ]
  },
  {
   "cell_type": "code",
   "execution_count": 19,
   "metadata": {},
   "outputs": [
    {
     "data": {
      "text/plain": [
       "7"
      ]
     },
     "execution_count": 19,
     "metadata": {},
     "output_type": "execute_result"
    }
   ],
   "source": [
    "tal = [4, 7, 10]\n",
    "tal[1]"
   ]
  },
  {
   "cell_type": "markdown",
   "metadata": {},
   "source": [
    "_Vi benytter her at Jupyter Notebook printer det sidste element, vi har beregnet. Altså kan vi i den nederste linje i en celle undlade at skrive <code>print(...)</code> for at se resultatet af beregningen. Vi skal dog fortsat bruge <code>print(...)</code> hvis vi vil have en mellemregning printet. Hvis vi gerne vil undgå at få udskrevet sidste linje, tilføjes et semikolon._  \n",
    "Vi ser altså, at når vi kalder <code>tal[1]</code> får vi det andet element ud, som i definitionen var givet ved 7. Dette er et resultat af nul-indeksering, og er noget, der ofte kan give fejl indtil man vænner sig til Python, så tjek det, hvis koden ikke virker eller giver uventede resultater.  \n",
    "Vi vil introducere andre typer af lister senere hvis de bliver nødvendige."
   ]
  },
  {
   "cell_type": "markdown",
   "metadata": {},
   "source": [
    "Vi kan tilføje et element til listen ved at benytte notationen <code>.append(element)</code>. Dette tilføjer elementet til den pågældende variabel i slutningen af listen. Eksempelvis, hvis vi ønsker at udvide vores tal-liste, kan vi skrive:"
   ]
  },
  {
   "cell_type": "code",
   "execution_count": 20,
   "metadata": {
    "ExecuteTime": {
     "end_time": "2020-08-11T10:46:44.374393Z",
     "start_time": "2020-08-11T10:46:44.358820Z"
    }
   },
   "outputs": [
    {
     "data": {
      "text/plain": [
       "[4, 7, 10, 6]"
      ]
     },
     "execution_count": 20,
     "metadata": {},
     "output_type": "execute_result"
    }
   ],
   "source": [
    "tal.append(6)\n",
    "tal"
   ]
  },
  {
   "cell_type": "markdown",
   "metadata": {},
   "source": [
    "Og vi har nu tilføjet 6 til vores liste. "
   ]
  },
  {
   "cell_type": "markdown",
   "metadata": {},
   "source": [
    "## Basale regneoperationer"
   ]
  },
  {
   "cell_type": "markdown",
   "metadata": {},
   "source": [
    "Python indeholder som udgangspunkt de mest basale regne-operationer, som man kender fra sin lommeregner. Eksempelvis kan vi lægge til, trække fra, gange og divdere ved blot at skrive udtrykket op med '+', '-', '*' og '/'. På sædvanligvis  kan vi også benytte parenteser til at give rækkefølgen for operationerne. Nogle enkelte eksempler er givet nedenunder:"
   ]
  },
  {
   "cell_type": "code",
   "execution_count": 21,
   "metadata": {
    "ExecuteTime": {
     "end_time": "2020-07-17T15:07:12.900047Z",
     "start_time": "2020-07-17T15:07:12.888597Z"
    }
   },
   "outputs": [
    {
     "data": {
      "text/plain": [
       "4"
      ]
     },
     "execution_count": 21,
     "metadata": {},
     "output_type": "execute_result"
    }
   ],
   "source": [
    "# Vi adderer blot to tal\n",
    "2 + 2"
   ]
  },
  {
   "cell_type": "code",
   "execution_count": 22,
   "metadata": {
    "ExecuteTime": {
     "end_time": "2020-07-17T15:07:13.008529Z",
     "start_time": "2020-07-17T15:07:12.996113Z"
    }
   },
   "outputs": [
    {
     "data": {
      "text/plain": [
       "3"
      ]
     },
     "execution_count": 22,
     "metadata": {},
     "output_type": "execute_result"
    }
   ],
   "source": [
    "# Angiver vi ikke parenteser, følger Python selv regne-hierakiet\n",
    "9 - 3 * 2"
   ]
  },
  {
   "cell_type": "code",
   "execution_count": 5,
   "metadata": {
    "ExecuteTime": {
     "end_time": "2020-07-17T15:07:13.117652Z",
     "start_time": "2020-07-17T15:07:13.104742Z"
    }
   },
   "outputs": [
    {
     "data": {
      "text/plain": [
       "12"
      ]
     },
     "execution_count": 5,
     "metadata": {},
     "output_type": "execute_result"
    }
   ],
   "source": [
    "# Men vi kan selvfølgelig ændre dette med parenteser\n",
    "(9 - 3) * 2"
   ]
  },
  {
   "cell_type": "code",
   "execution_count": 23,
   "metadata": {
    "ExecuteTime": {
     "end_time": "2020-07-17T15:07:13.437135Z",
     "start_time": "2020-07-17T15:07:13.214184Z"
    }
   },
   "outputs": [
    {
     "ename": "ZeroDivisionError",
     "evalue": "division by zero",
     "output_type": "error",
     "traceback": [
      "\u001b[1;31m---------------------------------------------------------------------------\u001b[0m",
      "\u001b[1;31mZeroDivisionError\u001b[0m                         Traceback (most recent call last)",
      "\u001b[1;32m<ipython-input-23-5e10904e16be>\u001b[0m in \u001b[0;36m<module>\u001b[1;34m\u001b[0m\n\u001b[0;32m      1\u001b[0m \u001b[1;31m# Og vi skal selvfølgelig ikke dividere med 0, hvis ikke vi ønsker en fejl\u001b[0m\u001b[1;33m\u001b[0m\u001b[1;33m\u001b[0m\u001b[1;33m\u001b[0m\u001b[0m\n\u001b[1;32m----> 2\u001b[1;33m \u001b[1;36m100\u001b[0m \u001b[1;33m/\u001b[0m \u001b[1;36m0\u001b[0m\u001b[1;33m\u001b[0m\u001b[1;33m\u001b[0m\u001b[0m\n\u001b[0m",
      "\u001b[1;31mZeroDivisionError\u001b[0m: division by zero"
     ]
    }
   ],
   "source": [
    "# Og vi skal selvfølgelig ikke dividere med 0, hvis ikke vi ønsker en fejl\n",
    "100 / 0"
   ]
  },
  {
   "cell_type": "markdown",
   "metadata": {},
   "source": [
    "Udover disse operationer, kan vi også opløfte i en potens ved at benytte <code>**</code>."
   ]
  },
  {
   "cell_type": "code",
   "execution_count": 26,
   "metadata": {
    "ExecuteTime": {
     "end_time": "2020-07-17T15:07:13.958341Z",
     "start_time": "2020-07-17T15:07:13.945933Z"
    }
   },
   "outputs": [
    {
     "name": "stdout",
     "output_type": "stream",
     "text": [
      "289\n",
      "9.0\n"
     ]
    }
   ],
   "source": [
    "print(17 ** 2) # Kvadratet på 17\n",
    "\n",
    "print(81 ** (1/2)) # Eller benytte at kvadratroden af x er x**(1/2) til at finde kvadratroden af 81"
   ]
  },
  {
   "cell_type": "code",
   "execution_count": 27,
   "metadata": {},
   "outputs": [
    {
     "name": "stdout",
     "output_type": "stream",
     "text": [
      "40.5\n"
     ]
    }
   ],
   "source": [
    "print(81 ** 1/2) # Bemærk at dette IKKE beregner kvadratroden af 81 ligesom ovenfor:forskellen er parentesen"
   ]
  },
  {
   "cell_type": "markdown",
   "metadata": {},
   "source": [
    "Man kan også komme ud for at skulle bruge integer-division: <code>//</code> eller modulo <code>%</code>. Som kan opfattes som hhv. division med efterfølgende nedrunding til nærmeste helttal og at bestemme resten af en division. Eksempelvis, hvis vi ønsker at kende den heltallige division og resten af 100 med 11, regnes det som:  \n",
    "_Jeg har her benyttet tekst-formatering, læs eventuelt [note om formatering her](https://realpython.com/python-f-strings/)_"
   ]
  },
  {
   "cell_type": "code",
   "execution_count": 28,
   "metadata": {
    "ExecuteTime": {
     "end_time": "2020-07-17T15:07:15.170382Z",
     "start_time": "2020-07-17T15:07:15.155887Z"
    }
   },
   "outputs": [
    {
     "name": "stdout",
     "output_type": "stream",
     "text": [
      "100 delt med 11 giver 9 med en rest på 1\n"
     ]
    }
   ],
   "source": [
    "division = 100 // 11    # // for integer-division\n",
    "rest = 100 % 11         # %  for rest\n",
    "\n",
    "# Vi printer nu ved at formatere strængen, så vi indsætter værdierne, der hvor det giver mening at se dem.\n",
    "print(f\"100 delt med 11 giver {division} med en rest på {rest}\")"
   ]
  },
  {
   "cell_type": "markdown",
   "metadata": {},
   "source": [
    "Ønsker man andre funktioner som logaritmer, eksponentialfunktioner, trigonometriske funktioner eller lignende importere man dem oftest fra et modul. Python har et indbygget Math modul, som man tit kan bruge. Hvis man for eksempel skal lave trigonometriske funktioner,  skriver man <code>from math import cos, sin, tan</code>, og man kan da bruge funktionerne blot ved at bruge <code>cos(x)</code>. I praksis bruger man sjældent math-modulet og bruger i stedet enten NumPy, som vil blive brugt i MekRel-lab til numeriske beregninger, eller som her SymPy, som indeholde disse funktioner som symbolske udtryk. Herunder er vist eksempler:\n"
   ]
  },
  {
   "cell_type": "code",
   "execution_count": 9,
   "metadata": {
    "ExecuteTime": {
     "end_time": "2020-07-17T15:07:16.196332Z",
     "start_time": "2020-07-17T15:07:16.180107Z"
    }
   },
   "outputs": [
    {
     "data": {
      "text/plain": [
       "0.866158094405463"
      ]
     },
     "execution_count": 9,
     "metadata": {},
     "output_type": "execute_result"
    }
   ],
   "source": [
    "from math import cos\n",
    "cos(3.14 / 6)"
   ]
  },
  {
   "cell_type": "code",
   "execution_count": 10,
   "metadata": {
    "ExecuteTime": {
     "end_time": "2020-07-17T15:07:16.552861Z",
     "start_time": "2020-07-17T15:07:16.289361Z"
    }
   },
   "outputs": [
    {
     "data": {
      "text/plain": [
       "0.866158094405463"
      ]
     },
     "execution_count": 10,
     "metadata": {},
     "output_type": "execute_result"
    }
   ],
   "source": [
    "from numpy import cos\n",
    "cos(3.14/6)"
   ]
  },
  {
   "cell_type": "code",
   "execution_count": 32,
   "metadata": {
    "ExecuteTime": {
     "end_time": "2020-07-17T15:07:17.666559Z",
     "start_time": "2020-07-17T15:07:16.558279Z"
    }
   },
   "outputs": [
    {
     "data": {
      "text/latex": [
       "$\\displaystyle 0.866158094405463$"
      ],
      "text/plain": [
       "0.866158094405463"
      ]
     },
     "execution_count": 32,
     "metadata": {},
     "output_type": "execute_result"
    }
   ],
   "source": [
    "from sympy import cos\n",
    "cos(3.14/6)"
   ]
  },
  {
   "cell_type": "markdown",
   "metadata": {},
   "source": [
    "### Redefinering af variable"
   ]
  },
  {
   "cell_type": "markdown",
   "metadata": {},
   "source": [
    "Ret ofte er det smart at kunne opdatere en variabel med en ny værdi, f.eks når man laver en simulation hvor f.eks. stedkoordinaterne ændres som tiden går. For at opdatere en variabel overskriver man den bare med en ny:"
   ]
  },
  {
   "cell_type": "code",
   "execution_count": 12,
   "metadata": {
    "ExecuteTime": {
     "end_time": "2020-07-17T15:07:18.400344Z",
     "start_time": "2020-07-17T15:07:18.387789Z"
    },
    "scrolled": true
   },
   "outputs": [
    {
     "name": "stdout",
     "output_type": "stream",
     "text": [
      "15\n",
      "20\n"
     ]
    }
   ],
   "source": [
    "vari = 15\n",
    "print(vari) # Her er variablen lig med 15\n",
    "vari = 20 \n",
    "print(vari) # Nu er den sat til 20"
   ]
  },
  {
   "cell_type": "markdown",
   "metadata": {},
   "source": [
    "Man kan også bruge en variabel til at redefinere sig selv. Eksempelvis, hvis man ønsker at gange sin variabel med 10."
   ]
  },
  {
   "cell_type": "code",
   "execution_count": 33,
   "metadata": {
    "ExecuteTime": {
     "end_time": "2020-07-17T15:07:19.239037Z",
     "start_time": "2020-07-17T15:07:19.221178Z"
    }
   },
   "outputs": [
    {
     "name": "stdout",
     "output_type": "stream",
     "text": [
      "7\n",
      "70\n"
     ]
    }
   ],
   "source": [
    "vari = 7\n",
    "print(vari) # Sat til 7\n",
    "vari = 10 * vari # vari bruges til at udregne en ny værdi for sig selv\n",
    "print(vari)"
   ]
  },
  {
   "cell_type": "markdown",
   "metadata": {},
   "source": [
    "Der er dog også nogle indbyggede smutveje til at ændre variables værdier i faste trin. Hvis man gere vil lade en variabel vokse i skridt af <code>increment = 2.5</code>, kan man benytte smutvejs-notationen <code>+=</code> til at ændre variablen i skridt af <code>increment</code>"
   ]
  },
  {
   "cell_type": "code",
   "execution_count": 34,
   "metadata": {
    "ExecuteTime": {
     "end_time": "2020-07-17T15:07:20.115927Z",
     "start_time": "2020-07-17T15:07:20.101953Z"
    },
    "scrolled": true
   },
   "outputs": [
    {
     "name": "stdout",
     "output_type": "stream",
     "text": [
      "5\n",
      "7.5\n"
     ]
    }
   ],
   "source": [
    "increment = 2.5\n",
    "value = 5\n",
    "print(value)\n",
    "\n",
    "value += increment # Vi øger value med værdien af vores increment\n",
    "print(value)"
   ]
  },
  {
   "cell_type": "markdown",
   "metadata": {},
   "source": [
    "Dette virker også for de andre basale operationer ved at skrive <code>-=, *=</code>, og man kan eksempelvis benytte <code>/= 2</code>, til at redefinere et tal til at være halvt så stort. \n"
   ]
  },
  {
   "cell_type": "markdown",
   "metadata": {},
   "source": [
    "## Lighedstegnets dobbelte betydning"
   ]
  },
  {
   "cell_type": "markdown",
   "metadata": {},
   "source": [
    "Når vi tildeler en variabel en værdi, bruger vi - som vi viste det ovenfor - et almindeligt lighedstegn. Er vi derimod interesserede i at undersøge om en variabel har en bestemt værdi (eller om to udtryk eller variable har den samme værdi), bruges to lighedstegn: vi skriver <code>if i == 10</code> og Python vil returnere <code>True</code> eller <code>False</code> afhængigt af værdien af i:"
   ]
  },
  {
   "cell_type": "code",
   "execution_count": 15,
   "metadata": {
    "ExecuteTime": {
     "end_time": "2020-07-17T15:07:22.995008Z",
     "start_time": "2020-07-17T15:07:22.985172Z"
    }
   },
   "outputs": [
    {
     "data": {
      "text/plain": [
       "True"
      ]
     },
     "execution_count": 15,
     "metadata": {},
     "output_type": "execute_result"
    }
   ],
   "source": [
    "i = 10 # Definer variabel\n",
    "i == 10 # Sammenlign variabel med værdi"
   ]
  },
  {
   "cell_type": "code",
   "execution_count": 16,
   "metadata": {
    "ExecuteTime": {
     "end_time": "2020-07-17T15:07:23.298858Z",
     "start_time": "2020-07-17T15:07:23.285501Z"
    },
    "scrolled": true
   },
   "outputs": [
    {
     "data": {
      "text/plain": [
       "False"
      ]
     },
     "execution_count": 16,
     "metadata": {},
     "output_type": "execute_result"
    }
   ],
   "source": [
    "i += 2 # Vi øger værdien med 2\n",
    "i == 10 # Og sammenligner igen"
   ]
  },
  {
   "cell_type": "markdown",
   "metadata": {},
   "source": [
    "## If-else-statements"
   ]
  },
  {
   "cell_type": "markdown",
   "metadata": {},
   "source": [
    "Når man skriver sin kode, vil man ret ofte kun udfører bestemte dele af koden hvis nogle bestemte betingelser er opfyldt. Dette kan man gøre ved et if-else statement. Syntaksen ser ud som:   \n",
    "``` python\n",
    "if Statement:\n",
    "    gør det her\n",
    "else:\n",
    "    gør noget andet\n",
    "```\n",
    "Hvad der sker, afhænger af sandhedsværdien af udtrykket \"Statement\" (altså om resultatet, der en en boolean, er <code>True</code> eller <code>False</code> ligesom i eksemplet med <code>i == 10</code> ovenfor). Hvis det logiske udsagn \"Statement\" er sandt, udføres første del af koden, ellers udføres den anden del. Man kan udelade <code>else</code>, og i dette tilfælde vil der kun ske noget såfremt \"Statement\" er sandt.\n",
    "Bemærk at indrykningen spiller en vigtig rolle i at afgrænse hvad der skal gøres i de enkele tilfælde. Der bruges ikke \"end\" i forbindelse med if-sætninger i Python."
   ]
  },
  {
   "cell_type": "markdown",
   "metadata": {},
   "source": [
    "Udover at benytte <code>==</code> kan vi benytte forskellige andre tegn til at danne udsagn, der kan være sande eller falske:\n",
    "- <code>&lt;</code> eller <code>&gt;</code> fortæller om en værdi er større eller mindre end en anden\n",
    "- <code>&lt;=</code> eller <code>&gt;=</code> er ligesom overstående men inkluderer også lig med\n",
    "- <code>!=</code> givet modsat tegn af <code>==</code>. Altså spørger om noget _er forskelligt fra_\n",
    "- <code>not</code> ændrer sandhedsværdien af et udtryk til det omvendte, eksempelvis er værdien af <code>not True</code> netop <code>False</code> og dermed er <code>not 1 == 2</code> sandt idet 1 og 2 jo ikke er ens.\n",
    "- <code>in</code> kan bruges til at spørge om et element er i en liste. Eksempelvis vil <code>7 in tal</code> give True i vores eksempel ovenfor."
   ]
  },
  {
   "cell_type": "markdown",
   "metadata": {},
   "source": [
    "Her er et eksempel, hvor vi vil tage absolutværdien af et tal:"
   ]
  },
  {
   "cell_type": "code",
   "execution_count": 40,
   "metadata": {
    "ExecuteTime": {
     "end_time": "2020-07-17T15:07:24.171639Z",
     "start_time": "2020-07-17T15:07:24.156170Z"
    }
   },
   "outputs": [
    {
     "name": "stdout",
     "output_type": "stream",
     "text": [
      "Bingo: Vi startede med et negativt tal, så if-betingelsen var opfyldt\n",
      "100\n"
     ]
    }
   ],
   "source": [
    "a = -100\n",
    "if a < 0: # Hvis a er negativt, så gør fælgende:\n",
    "    print(\"Bingo: Vi startede med et negativt tal, så if-betingelsen var opfyldt\") # Vi printer, hvis vi går ind i denne del af koden.\n",
    "    a = - a   # Sæt a lig med sig selv med omvendt fortegn\n",
    "print(a)"
   ]
  },
  {
   "cell_type": "markdown",
   "metadata": {},
   "source": [
    "Hvis vi gentager testen nu hvor a er blevet positiv, vil betingelsen i if-sætningen ikke være opfyldt, og der sker ikke noget i if-sætningen:"
   ]
  },
  {
   "cell_type": "code",
   "execution_count": 58,
   "metadata": {
    "ExecuteTime": {
     "end_time": "2020-07-23T14:28:13.431650Z",
     "start_time": "2020-07-23T14:28:13.420235Z"
    }
   },
   "outputs": [
    {
     "name": "stdout",
     "output_type": "stream",
     "text": [
      "100\n"
     ]
    }
   ],
   "source": [
    "if a < 0: # Hvis a er negativt, så gør følgende:\n",
    "    print(\"Bingo: Vi startede med et negativt tal, så if-betingelsen var opfyldt\") # Vi printer, hvis vi går ind i denne del af koden.\n",
    "    a = - a  \n",
    "print(a)"
   ]
  },
  {
   "cell_type": "markdown",
   "metadata": {},
   "source": [
    "Bemærk at <code>print(a)</code> ikke er indrykket og dermed ikke er en del af if-sætningen. Værdien af a udskrives derfor uanset fortegn."
   ]
  },
  {
   "cell_type": "markdown",
   "metadata": {},
   "source": [
    "Hvis vi nu ønsker at dividere et tal med et andet, men returne den tomme variabel <code>None</code>, hvis vi bliver bedt om at dividere med 0 (og dermed undgår en fejlmeddelelse),  kan vi benytte vores if-else:"
   ]
  },
  {
   "cell_type": "code",
   "execution_count": 1,
   "metadata": {
    "ExecuteTime": {
     "end_time": "2020-08-13T07:19:38.377744Z",
     "start_time": "2020-08-13T07:19:38.353644Z"
    }
   },
   "outputs": [
    {
     "name": "stdout",
     "output_type": "stream",
     "text": [
      "None\n"
     ]
    }
   ],
   "source": [
    "tæller = 10\n",
    "nævner = 0\n",
    "\n",
    "if nævner != 0: # Hvis nævneren er forskellige fra nul, kan brøken beregnes\n",
    "    resultat = tæller / nævner\n",
    "else: # Ellers kan vi ikke beregne resultatet\n",
    "    resultat = None   # None er et tomt element. Denne har ingen værdi\n",
    "\n",
    "print(resultat)"
   ]
  },
  {
   "cell_type": "markdown",
   "metadata": {},
   "source": [
    "Hvis der er brug for flere rangordnede betingelser for at afgøre hvilken handling, koden skal udføre, kan man benytte <code>elif second_statement</code> (elif er kort for else-if). Så opbygger man syntaksen som\n",
    "``` python\n",
    "if Statement:\n",
    "    gør det her\n",
    "elif Second_statement:\n",
    "    gør en andet ting\n",
    "else:\n",
    "    ellers gør det her\n",
    "```\n",
    "Hvis man vil tjekke flere ting, kan man blot tilføje flere <code>elif</code> statements under hinanden.  \n",
    "I dette tilfælde vil koden altid køre præcis én kodebid: Koden checker først \"Statement\", og hvis denne er sand vil den __kun__ køre den tilhørende del af koden uanset om \"Second_statement\" også er sand. Ellers vil den tjekke <code>elif</code>-statementerne i rækkefølge. Hvis ingen af de givne betingelser er opfyldt, vil den køre koden der følger efter <code>else</code>."
   ]
  },
  {
   "cell_type": "markdown",
   "metadata": {},
   "source": [
    "## Løkker/loops"
   ]
  },
  {
   "cell_type": "markdown",
   "metadata": {},
   "source": [
    "Ofte bruger vi computeren til at gentage opgaver mange gange. Dette gør vi ved brug af løkker, som ofte kaldes loops. Der er to typer: en <code>for</code>-løkke og en <code>while</code>-løkke. <code>For</code>-løkken benyttes som:\n",
    "```python\n",
    "for variabel in liste:\n",
    "    Gør det her\n",
    "```\n",
    "Løkken tildeler den variable værdier fra listen (i listens rækkefølge) og gør for denne værdi hvad det indrykkede stykke kodetekst specificerer. Det er normal praksis at kalde den variable i løkke-definitionen for <code>i</code> hvis der ikke er nogen særlig grund til at bruge et andet navn. Hvis vi eksempelvis vil beregne og udskrive kvadratet på 2, 3, 5 og 7, kan vi skrive det som:"
   ]
  },
  {
   "cell_type": "code",
   "execution_count": 45,
   "metadata": {
    "ExecuteTime": {
     "end_time": "2020-07-23T14:38:13.635849Z",
     "start_time": "2020-07-23T14:38:13.622572Z"
    }
   },
   "outputs": [
    {
     "name": "stdout",
     "output_type": "stream",
     "text": [
      "4\n",
      "9\n",
      "25\n",
      "49\n"
     ]
    }
   ],
   "source": [
    "tal = [2, 3, 5, 7]\n",
    "\n",
    "for i in tal: # Den variable hedder 'i' og vil antage værdierne i listen 'tal'.\n",
    "    print(i ** 2) # Print tallet i anden"
   ]
  },
  {
   "cell_type": "markdown",
   "metadata": {},
   "source": [
    "Hvis vi er interreseret i at gøre noget et bestemt antal gange, kan vi benytte <code>range(antal)</code> til at generere en liste med tallene fra <code>0</code> og op til <code>antal - 1</code> (på grund af nulindekseringen så er der stadig 'antal' tal i listen). Lad os prøve at gange et tal med 10 og printe det 5 gange:"
   ]
  },
  {
   "cell_type": "code",
   "execution_count": 21,
   "metadata": {
    "ExecuteTime": {
     "end_time": "2020-07-17T15:07:29.995712Z",
     "start_time": "2020-07-17T15:07:29.982024Z"
    }
   },
   "outputs": [
    {
     "name": "stdout",
     "output_type": "stream",
     "text": [
      "30\n",
      "300\n",
      "3000\n",
      "30000\n",
      "300000\n"
     ]
    }
   ],
   "source": [
    "a = 3\n",
    "for i in range(5): # Vi har denne gang ikke tænkt os at benytte 'i' til noget, men det skal stadig være der\n",
    "    a *= 10 # redefiner a ved at gange det med 10\n",
    "    print(a)\n"
   ]
  },
  {
   "cell_type": "markdown",
   "metadata": {},
   "source": [
    "Vi kan også give <code>range()</code> flere argumenter. Syntaksen er <code>range(start, stop, skridtstørrelse)</code> hvor alle tallene er heltal. Det er vigtigt at notere sig, at værdien 'stop' ikke kommer med i listen, så hvis vi ønsker at finde summen af alle tal i 5-tabellen fra 0 til 40, kan vi skrive:"
   ]
  },
  {
   "cell_type": "code",
   "execution_count": 56,
   "metadata": {
    "ExecuteTime": {
     "end_time": "2020-07-23T14:41:34.550809Z",
     "start_time": "2020-07-23T14:41:34.536126Z"
    },
    "scrolled": true
   },
   "outputs": [
    {
     "name": "stdout",
     "output_type": "stream",
     "text": [
      "Vi lægger 0 til 0\n",
      "Vi lægger 5 til 0\n",
      "Vi lægger 10 til 5\n",
      "Vi lægger 15 til 15\n",
      "Vi lægger 20 til 30\n",
      "Vi lægger 25 til 50\n",
      "Vi lægger 30 til 75\n",
      "Vi lægger 35 til 105\n",
      "Vi lægger 40 til 140\n",
      "Og summen er 180\n"
     ]
    }
   ],
   "source": [
    "summen = 0\n",
    "for i in range(0, 45, 5): # For at nå op til 40 skal 'range' have et helt tal mellem 41 og 45 som værdien for 'stop'\n",
    "    print(f\"Vi lægger {i} til {summen}\")\n",
    "    summen += i\n",
    "    \n",
    "print(f\"Og summen er {summen}\")"
   ]
  },
  {
   "cell_type": "markdown",
   "metadata": {},
   "source": [
    "Vi havde fået samme resultat, hvis vi i stedet for 45 havde skrevet 41, da range forsætter ind til i'et er større eller lig med vores <code>stop</code>. Det er til gengæld god skik, at sætte stop-argumentet til at være lig den værdi, som det næste skridt havde været. "
   ]
  },
  {
   "cell_type": "markdown",
   "metadata": {},
   "source": [
    "Vores anden type løkke er <code>while</code>-løkker, som kører så længe, en given betingelse er opfyldt. Det betyder også, at programmet kan blive fanget i en uendelig løkke, så pas på med while-løkker! Syntaksen er:\n",
    "```python\n",
    "while statement:\n",
    "    Gør noget\n",
    "```\n",
    "Hvor statement, er et udtryk ligesom for <code>if</code>-statements (en boolean variabel).\n",
    "\n",
    "Som eksempel vil vi bruge en <code>while</code>-løkke til at lave en beregning af n! for et tal n. Vi ganger n med n-1 som vi ganger med n-2 osv. indtil vi når 0, og er færdige:"
   ]
  },
  {
   "cell_type": "code",
   "execution_count": 57,
   "metadata": {
    "ExecuteTime": {
     "end_time": "2020-07-17T15:07:32.028941Z",
     "start_time": "2020-07-17T15:07:32.013242Z"
    }
   },
   "outputs": [
    {
     "name": "stdout",
     "output_type": "stream",
     "text": [
      "5040\n"
     ]
    }
   ],
   "source": [
    "x = 7 # Vi vil finde 7 fakultet\n",
    "\n",
    "# Vi definere foreløbigt resultatet som 1\n",
    "resultat = 1 \n",
    "\n",
    "while x > 0: # Løkken kører så længe x er over 0\n",
    "    resultat *= x # multiplicér resultat med x\n",
    "    x -= 1        # reducer x med 1\n",
    "\n",
    "print(resultat)"
   ]
  },
  {
   "cell_type": "markdown",
   "metadata": {},
   "source": [
    "Når koden advikles, vil der ske følgende:\n",
    "- x defineres til 7\n",
    "- Den variable 'resultat' defineres til 1 (fordi 1! = 1)\n",
    "- Da x = 7, og 7 > 0 går vi ind i <code>while</code>-løkken\n",
    "- 'resultat' ganges med x og 'resultat' opdateres til den nye værdi. Vi får altså at 'resultat' er lig med 1 * 7\n",
    "- Vi trækker nu 1 fra x, så x er nu 6. \n",
    "- Løkken er nu gennenløbet første gang, og vi starter igen\n",
    "- Da x = 6 er værdien af x således stadig over 0, og vi går igen ind i løkken\n",
    "- 'resultat' ganges med x og erstatter den tidligere værdi. Vi får at 'resultat' er lig med 7 * 6\n",
    "- Vi trækker en fra x og er færdig med andet gennemløb\n",
    "\n",
    "Dette forsætter indtil x = 0, nu vil <code>x > 0</code> være <code>False</code>, og vil derfor ikke gå ind i løkken og i stedet fortsætte i koden, hvor vi printer vores resultat."
   ]
  },
  {
   "cell_type": "markdown",
   "metadata": {},
   "source": [
    "Man kan eventuelt benytte et <code>break</code>-statement inde i en løkke for at bryde ud af løkken selvom betingelsen i løkken-definitionen stadig er opfyldt. Eksempelvis kan man skrive:\n",
    "```python\n",
    "while statement:\n",
    "    do_something\n",
    "    if andet_statement:\n",
    "        break\n",
    "\n",
    "```\n",
    "Her vil vi altså bryde ud af vores <code>while</code>-løkke, hvis <code>andet_statement</code> viser sig at være sandt, da vi så vil kører koden <code>break</code>. Dette bruges ofte som en slags nødudgang hvis der opstår et uønsket resultat eller en nødvendig betingelse for at beregningen kan foretages ikke længere er opfyldt."
   ]
  },
  {
   "cell_type": "markdown",
   "metadata": {},
   "source": [
    "## Import af biblioteker/libaries"
   ]
  },
  {
   "cell_type": "markdown",
   "metadata": {},
   "source": [
    "Python kan i sig selv ret meget, men det er oftest en fordel at basere sine udregninger på funktioner, som nogen (ret kvikke kodehaj(er)) har skrevet og testet allerede. Disse er samlet i biblioteker. Når man har installeret Anaconda, er der inkluderet mange Python biblioteker som umiddelbart kan importeres i et Python-script eller notebook. I LinALys og MekRel vil vi ofte bruge biliotekerne Matplotlib.pyplot til at plotte, Numpy til numeriske beregninger og SymPy til symbolske beregninger."
   ]
  },
  {
   "cell_type": "markdown",
   "metadata": {},
   "source": [
    "Der er forskellige måder at importere et bibliotek på. Hvis man bare vil importere et helt bibliotek benytter man simpelthen <code>import sympy</code> og så kan man benytte sympys funktioner ved at skrive f.eks. <code>sympy.cos</code>. Da det ofte er lidt bøvlet, kan man i stedet give SymPy et kælenavn. I materialet i LinALys betegner vi SymPy med <code>sp</code>, og alle følgende notebooks vil derfor starte med <code>import sympy as sp</code>. Herefter vil SymPys funktioner kunne anvendes ved f.eks. at skrive <code>sp.exp(x)</code>"
   ]
  },
  {
   "cell_type": "markdown",
   "metadata": {},
   "source": [
    "Endelig kan man importere enkelte funktioner fra et bibliotek. Hvis man eksempelvis vil have matrix-funktionen fra SymPy, kan man skrive: <code>from sympy import Matrix</code> (ligesom vi gjorde i eksemplet ovenfor, da vi benyttede cosinus fra forskellige biblioteker). I dette tilfælde vil man _ikke_ skulle skrive bibliotekets navn op, men blot f.eks. skrive <code>Matrix([[1, 2], [3, 4]])</code>. Man kan ovenikøbet give en enkelt funktion en forkortelse, hvis man skriver <code>from sympy import Matrix as M</code>, ville den tilsvarende funktion blot kaldes ved <code>M([[1, 2], [3, 4]])</code>."
   ]
  }
 ],
 "metadata": {
  "kernelspec": {
   "display_name": "Python 3",
   "language": "python",
   "name": "python3"
  },
  "language_info": {
   "codemirror_mode": {
    "name": "ipython",
    "version": 3
   },
   "file_extension": ".py",
   "mimetype": "text/x-python",
   "name": "python",
   "nbconvert_exporter": "python",
   "pygments_lexer": "ipython3",
   "version": "3.8.5"
  },
  "latex_envs": {
   "LaTeX_envs_menu_present": true,
   "autoclose": false,
   "autocomplete": true,
   "bibliofile": "biblio.bib",
   "cite_by": "apalike",
   "current_citInitial": 1,
   "eqLabelWithNumbers": true,
   "eqNumInitial": 1,
   "hotkeys": {
    "equation": "Ctrl-E",
    "itemize": "Ctrl-I"
   },
   "labels_anchors": false,
   "latex_user_defs": false,
   "report_style_numbering": false,
   "user_envs_cfg": false
  },
  "toc": {
   "base_numbering": 1,
   "nav_menu": {},
   "number_sections": true,
   "sideBar": true,
   "skip_h1_title": true,
   "title_cell": "Indholdsfortegnelse",
   "title_sidebar": "Indhold",
   "toc_cell": false,
   "toc_position": {},
   "toc_section_display": true,
   "toc_window_display": true
  }
 },
 "nbformat": 4,
 "nbformat_minor": 4
}
