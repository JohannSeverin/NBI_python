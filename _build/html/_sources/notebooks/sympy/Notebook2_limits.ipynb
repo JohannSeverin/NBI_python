{
 "cells": [
  {
   "cell_type": "markdown",
   "metadata": {},
   "source": [
    "# Grænser\n",
    "En anden anvendelse af symbolske udtryk er beregning af grænseværdier. Fokus i kurset er på beregning af grænseværdier med papir og blyant, men det er godt at kunne checke sine resultater eller lave mere avancerede beregninger med SymPy. Dette gøres relativt nemt ved at benytte <code>sp.limit</code>-funktionen. Kaldesekvensen for funktionen er \n",
    "<code>sp.limit(udtryk, variabel, grænse for variabel, retning)</code>. Efterlades retningen blank, beregnes grænseværdien oppefra / fra højre, og man får _ingen advarsel_ selvom grænseværdierne fra henholdsvis højre og venstre er forskellige.\n",
    "\n",
    "Hvis vi nu eksempelvis vil beregne $\\lim_{x\\to 0} e^{-x}$ skriver vi:"
   ]
  },
  {
   "cell_type": "code",
   "execution_count": 1,
   "metadata": {},
   "outputs": [],
   "source": [
    "import sympy as sp            # Hent sympy \n",
    "from sympy.abc import x       # Vi vil bruge `x`\n",
    "from sympy import oo          # Så kan vi tage grænserne i uendelig"
   ]
  },
  {
   "cell_type": "code",
   "execution_count": 2,
   "metadata": {
    "ExecuteTime": {
     "end_time": "2020-08-02T18:37:36.977594Z",
     "start_time": "2020-08-02T18:37:36.567383Z"
    }
   },
   "outputs": [
    {
     "data": {
      "text/latex": [
       "$\\displaystyle 1$"
      ],
      "text/plain": [
       "1"
      ]
     },
     "metadata": {},
     "output_type": "display_data"
    },
    {
     "data": {
      "text/latex": [
       "$\\displaystyle 1$"
      ],
      "text/plain": [
       "1"
      ]
     },
     "metadata": {},
     "output_type": "display_data"
    }
   ],
   "source": [
    "expr = sp.exp(-x)                    # Definer udtryk\n",
    "display(sp.limit(expr, x, 0, '+'))   # Beregn og vis grænseværdien af udtrykket for x gående mod 0 oppefra ...\n",
    "display(sp.limit(expr, x, 0, '-'))   # ... og nedenfra"
   ]
  },
  {
   "cell_type": "markdown",
   "metadata": {},
   "source": [
    "hvilket ikke er den store overraskelse, eftersom $e^{-x}$ er defineret i $x=0$, er kontinuert, og $e^0=1$.\n",
    "\n",
    "Vi kan også beregne grænseværdier for $x\\to\\infty$:"
   ]
  },
  {
   "cell_type": "code",
   "execution_count": 3,
   "metadata": {},
   "outputs": [
    {
     "data": {
      "text/latex": [
       "$\\displaystyle 0$"
      ],
      "text/plain": [
       "0"
      ]
     },
     "execution_count": 3,
     "metadata": {},
     "output_type": "execute_result"
    }
   ],
   "source": [
    "sp.limit(expr, x, oo)    # grænsen af udtrykket for x gående mod uendelig. Vi angiver ingen retning."
   ]
  },
  {
   "cell_type": "markdown",
   "metadata": {},
   "source": [
    "Vær særligt opmærksom på situationer, hvor grænseværdien kunne være forskellig oppefra og nedefra, hvilket oftest forkommer for udtryk på brøkform i det/de $x$-værdier, hvor nævneren antager værdien nul. Betragt f.eks. $\\displaystyle \\frac{x^{4} + x^{2} + 1}{3 x^{3} - 19 x^{2} - x}$ når $x \\to 0$:"
   ]
  },
  {
   "cell_type": "code",
   "execution_count": 4,
   "metadata": {
    "ExecuteTime": {
     "end_time": "2020-08-02T18:37:37.239187Z",
     "start_time": "2020-08-02T18:37:36.981963Z"
    }
   },
   "outputs": [
    {
     "data": {
      "text/latex": [
       "$\\displaystyle \\frac{x^{4} + x^{2} + 1}{3 x^{3} - 19 x^{2} - x}$"
      ],
      "text/plain": [
       "(x**4 + x**2 + 1)/(3*x**3 - 19*x**2 - x)"
      ]
     },
     "metadata": {},
     "output_type": "display_data"
    },
    {
     "data": {
      "text/latex": [
       "$\\displaystyle -\\infty$"
      ],
      "text/plain": [
       "-oo"
      ]
     },
     "execution_count": 4,
     "metadata": {},
     "output_type": "execute_result"
    }
   ],
   "source": [
    "# Definer tæller og nævner hver for sig\n",
    "poly1 = x ** 4 + x ** 2 + 1\n",
    "poly2 = 3* x ** 3 - 19 * x **2  - x\n",
    "\n",
    "# Kombiner dem til det ønskede udtryk og udskriv udtrykket til skærmen\n",
    "poly_div = poly1 / poly2\n",
    "display(poly_div)\n",
    "\n",
    "# Tag grænsen af udtrykket, når x går mod 0 først oppefra / fra højre \n",
    "sp.limit(poly_div, x, 0, '+')"
   ]
  },
  {
   "cell_type": "code",
   "execution_count": 5,
   "metadata": {
    "ExecuteTime": {
     "end_time": "2020-08-02T18:37:37.239187Z",
     "start_time": "2020-08-02T18:37:36.981963Z"
    }
   },
   "outputs": [
    {
     "data": {
      "text/latex": [
       "$\\displaystyle \\infty$"
      ],
      "text/plain": [
       "oo"
      ]
     },
     "execution_count": 5,
     "metadata": {},
     "output_type": "execute_result"
    }
   ],
   "source": [
    "# ... og dernæst nedefra / fra venstre:\n",
    "sp.limit(poly_div, x, 0, '-')"
   ]
  }
 ],
 "metadata": {
  "kernelspec": {
   "display_name": "Python 3",
   "language": "python",
   "name": "python3"
  },
  "language_info": {
   "codemirror_mode": {
    "name": "ipython",
    "version": 3
   },
   "file_extension": ".py",
   "mimetype": "text/x-python",
   "name": "python",
   "nbconvert_exporter": "python",
   "pygments_lexer": "ipython3",
   "version": "3.7.9"
  }
 },
 "nbformat": 4,
 "nbformat_minor": 4
}
