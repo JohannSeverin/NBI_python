{
 "cells": [
  {
   "cell_type": "markdown",
   "metadata": {},
   "source": [
    "# Kom i gang med Python\r\n",
    "I løbet af det første halve år på jeres uddannelse i fysik, kommer I til at bruge Python både i MekRel og i LinAlys. Der er mange forskellige måder at skrive Python på, men vi vil foreslå, at I benytter Jupyter Notebook i en installation af Anaconda, da dette er en pakkeløsning, som burde indeholde alt til det første halve år på fysik (og meget længere medmindre man har specifikke opgaver). \r\n",
    "\r\n",
    "I Notebooks skriver man sin kode i celler. I vil typsik bruge celler i Code eller Markdown format. Dette er en Markdown celle og indholdet formatteres som tekst når cellen køres. Kodeceller er de celler vi skriver vores kode i. Markdown celler kan i evt. bruge til at skrive noter i, hvis der er noget om koden der er lidt kompliceret eller vigtigt at huske, hvis man nu laver et forsøg i laboratoriet.\r\n",
    "\r\n",
    "**Tip:** Man kan med fordel bruge tastaturgenvejen `shift` + `enter` for at køre en kodecelle, og bevæge sig videre til den næste celle i rækken.\r\n"
   ]
  },
  {
   "cell_type": "markdown",
   "metadata": {},
   "source": [
    "## Hvordan virker Python?\n",
    "\n",
    "Når  vi skriver kode i en celle og kører det, så bliver det læst linje for linje. Et computer program bliver altså en liste af computer operationer, som skal foretages i en bestemt rækkefølge. Hvis man vil markere noget, som comptueren ikke skal køre, kan det markeres med <code>#</code>, dette bruges ofte til kommentar til den, der læser koden.\n",
    "\n",
    "Når man arbejder i python, gemmes svaret på en operation ikke nødvendigvis. Vi benytter derfor <code> = </code> til at definerer en variabel. Dette kunne eksempelvis være <code> a = 5 </code>, så vil vi kunne indsætte <code>a</code> i et udtryk, og <code>a</code> vil nu blive betragtet som <code>5</code>.\n",
    "\n",
    "En god måde at se en værdi på, er ved at bede Python om at printe den, dette gøres ved at skrive <code>print(X)</code>, hvor X kan være et hvilket som helst variabelnavn.\n",
    "\n",
    "Eksempelvis kan vi definere variablen <code>hello</code> og printe den. "
   ]
  },
  {
   "cell_type": "code",
   "execution_count": 1,
   "metadata": {
    "ExecuteTime": {
     "end_time": "2020-08-11T10:46:39.635598Z",
     "start_time": "2020-08-11T10:46:39.625417Z"
    },
    "scrolled": true
   },
   "outputs": [
    {
     "name": "stdout",
     "output_type": "stream",
     "text": [
      "Hello World\n"
     ]
    }
   ],
   "source": [
    "hello = \"Hello World\" # Anførselstegnene (eller \"gåseøjnene\") indikerer at variablen tildeles et tekstudtryk, en såkaldt \"string\"\r\n",
    "print(hello)"
   ]
  },
  {
   "cell_type": "markdown",
   "metadata": {},
   "source": [
    "I en notebook er det faktisk ikke nødvendigt at printe den *sidste* linje, man kan blot skrive variabelnavnet, og så vil Jupyter selv printe det: "
   ]
  },
  {
   "cell_type": "code",
   "execution_count": 2,
   "metadata": {},
   "outputs": [
    {
     "data": {
      "text/plain": [
       "'Hello World'"
      ]
     },
     "execution_count": 2,
     "metadata": {},
     "output_type": "execute_result"
    }
   ],
   "source": [
    "hello"
   ]
  },
  {
   "cell_type": "markdown",
   "metadata": {},
   "source": [
    "### Variabel typer\r\n",
    "\r\n",
    "Udover tekststrenge, som vi så i overstående eksempel, findes flere forskellige typer variable, som man kan benytte sig af. I Python er det dog ikke nødvendigt at angive disse, da sproget selv finder ud af det fra kontekst.\r\n",
    "\r\n",
    "De mest almindelige variable typer er: \r\n",
    "- Integers (heltal): her skriver vi blot et helt tal, som eksempelvis <code>a = 6</code>\r\n",
    "- Float (decimaltal): indgår der et decimalpunktum, '.', får vi automatisk en float variabel, som eksempelvis <code>kroner_per_euro = 7.46</code>.\r\n",
    "- String (tekststræng): Når vi vil have en variabel til at indeholde tekst, markeres det med anførselstegn/gåseøjne, f.eks. som ovenfor <code>hello = \"Hello World\"</code>\r\n",
    "- Boolean (sandt/falsk): Hvis vi skal angive en værdi som enten sandt eller falsk, bruger vi en \"boolean variable\" og kan skrive <code>switch = True</code>. Falsk skal gives ved <code>False</code>, og bemærk igen at der er forskel på <code>Svar = True</code> og <code>Svar = \"True\"</code>, idet <code>Svar</code> i sidstnævnte tilfælde istedet bliver en string indeholdende ordet True, og ikke et logisk udtryk.\r\n",
    "\r\n",
    "### Lister af variable \r\n",
    "Vi kan sammensætte lister af flere værdier, eksempelvis en samling af tal. Dette gøres mest almindeligt ved at lave en liste.:\r\n",
    "<code>tal = [4, 7, 10]</code>. Nu vil <code>tal</code> altså indeholde værdierne 4, 7 og 10. Hvis vi ønsker et enkelt element fra vores liste kan vi hente dem ved at skrive <code>tal[index]</code>, hvor værdien af index angiver placeringen i listen vi ønsker at få ud. \r\n",
    "\r\n",
    "**Tip:** Python starter ved nul (nul-indeksering), så det første element er altså <code>tal[0]</code>."
   ]
  },
  {
   "cell_type": "code",
   "execution_count": 4,
   "metadata": {},
   "outputs": [
    {
     "data": {
      "text/plain": [
       "7"
      ]
     },
     "execution_count": 4,
     "metadata": {},
     "output_type": "execute_result"
    }
   ],
   "source": [
    "tal = [4, 7, 10]\r\n",
    "tal[1]"
   ]
  },
  {
   "cell_type": "markdown",
   "metadata": {},
   "source": [
    "Vi ser altså, at når vi kalder <code>tal[1]</code> får vi det andet element ud, som i definitionen var givet ved 7. Dette er et resultat af nul-indeksering. Man kan ofte få en fejl her, når man ikke er vant til Python, så tjek det, hvis koden ikke virker eller giver uventede resultater."
   ]
  },
  {
   "cell_type": "markdown",
   "metadata": {},
   "source": [
    "Elementer kan tilføjes til listen ved at benytte koden <code>.append(element)</code> efter vores liste. Dette tilføjer elementet til den pågældende variabel i slutningen af listen. Eksempelvis, hvis vi ønsker at udvide vores tal-liste, kan vi skrive:"
   ]
  },
  {
   "cell_type": "code",
   "execution_count": 5,
   "metadata": {
    "ExecuteTime": {
     "end_time": "2020-08-11T10:46:44.374393Z",
     "start_time": "2020-08-11T10:46:44.358820Z"
    }
   },
   "outputs": [
    {
     "data": {
      "text/plain": [
       "[4, 7, 10, 6]"
      ]
     },
     "execution_count": 5,
     "metadata": {},
     "output_type": "execute_result"
    }
   ],
   "source": [
    "tal.append(6)\r\n",
    "tal"
   ]
  },
  {
   "cell_type": "markdown",
   "metadata": {},
   "source": [
    "Og vi har nu tilføjet 6 til vores liste. "
   ]
  },
  {
   "cell_type": "markdown",
   "metadata": {},
   "source": [
    "## Basale regneoperationer"
   ]
  },
  {
   "cell_type": "markdown",
   "metadata": {},
   "source": [
    "Python indeholder som udgangspunkt de mest basale regne-operationer, som man kender fra sin lommeregner. Eksempelvis kan vi lægge til, trække fra, gange og divdere ved blot at skrive udtrykket op med '+', '-', '*' og '/'. På sædvanligvis  kan vi også benytte parenteser til at give rækkefølgen for operationerne. Nogle enkelte eksempler er givet nedenunder:"
   ]
  },
  {
   "cell_type": "code",
   "execution_count": 21,
   "metadata": {
    "ExecuteTime": {
     "end_time": "2020-07-17T15:07:12.900047Z",
     "start_time": "2020-07-17T15:07:12.888597Z"
    }
   },
   "outputs": [
    {
     "data": {
      "text/plain": [
       "4"
      ]
     },
     "execution_count": 21,
     "metadata": {},
     "output_type": "execute_result"
    }
   ],
   "source": [
    "# Vi adderer blot to tal\r\n",
    "2 + 2"
   ]
  },
  {
   "cell_type": "code",
   "execution_count": 22,
   "metadata": {
    "ExecuteTime": {
     "end_time": "2020-07-17T15:07:13.008529Z",
     "start_time": "2020-07-17T15:07:12.996113Z"
    }
   },
   "outputs": [
    {
     "data": {
      "text/plain": [
       "3"
      ]
     },
     "execution_count": 22,
     "metadata": {},
     "output_type": "execute_result"
    }
   ],
   "source": [
    "# Angiver vi ikke parenteser, følger Python selv regne-hierakiet\r\n",
    "9 - 3 * 2"
   ]
  },
  {
   "cell_type": "code",
   "execution_count": 5,
   "metadata": {
    "ExecuteTime": {
     "end_time": "2020-07-17T15:07:13.117652Z",
     "start_time": "2020-07-17T15:07:13.104742Z"
    }
   },
   "outputs": [
    {
     "data": {
      "text/plain": [
       "12"
      ]
     },
     "execution_count": 5,
     "metadata": {},
     "output_type": "execute_result"
    }
   ],
   "source": [
    "# Men vi kan selvfølgelig ændre dette med parenteser\r\n",
    "(9 - 3) * 2"
   ]
  },
  {
   "cell_type": "code",
   "execution_count": 23,
   "metadata": {
    "ExecuteTime": {
     "end_time": "2020-07-17T15:07:13.437135Z",
     "start_time": "2020-07-17T15:07:13.214184Z"
    }
   },
   "outputs": [
    {
     "ename": "ZeroDivisionError",
     "evalue": "division by zero",
     "output_type": "error",
     "traceback": [
      "\u001b[1;31m---------------------------------------------------------------------------\u001b[0m",
      "\u001b[1;31mZeroDivisionError\u001b[0m                         Traceback (most recent call last)",
      "\u001b[1;32m<ipython-input-23-5e10904e16be>\u001b[0m in \u001b[0;36m<module>\u001b[1;34m\u001b[0m\n\u001b[0;32m      1\u001b[0m \u001b[1;31m# Og vi skal selvfølgelig ikke dividere med 0, hvis ikke vi ønsker en fejl\u001b[0m\u001b[1;33m\u001b[0m\u001b[1;33m\u001b[0m\u001b[1;33m\u001b[0m\u001b[0m\n\u001b[1;32m----> 2\u001b[1;33m \u001b[1;36m100\u001b[0m \u001b[1;33m/\u001b[0m \u001b[1;36m0\u001b[0m\u001b[1;33m\u001b[0m\u001b[1;33m\u001b[0m\u001b[0m\n\u001b[0m",
      "\u001b[1;31mZeroDivisionError\u001b[0m: division by zero"
     ]
    }
   ],
   "source": [
    "# Og vi skal selvfølgelig ikke dividere med 0, hvis ikke vi ønsker en fejl\r\n",
    "100 / 0"
   ]
  },
  {
   "cell_type": "markdown",
   "metadata": {},
   "source": [
    "Udover disse operationer, kan vi også opløfte i en potens ved at benytte <code>**</code>."
   ]
  },
  {
   "cell_type": "code",
   "execution_count": 26,
   "metadata": {
    "ExecuteTime": {
     "end_time": "2020-07-17T15:07:13.958341Z",
     "start_time": "2020-07-17T15:07:13.945933Z"
    }
   },
   "outputs": [
    {
     "name": "stdout",
     "output_type": "stream",
     "text": [
      "289\n",
      "9.0\n"
     ]
    }
   ],
   "source": [
    "print(17 ** 2) # Kvadratet på 17\r\n",
    "\r\n",
    "print(81 ** (1/2)) # Eller benytte at kvadratroden af x er x**(1/2) til at finde kvadratroden af 81"
   ]
  },
  {
   "cell_type": "code",
   "execution_count": 27,
   "metadata": {},
   "outputs": [
    {
     "name": "stdout",
     "output_type": "stream",
     "text": [
      "40.5\n"
     ]
    }
   ],
   "source": [
    "print(81 ** 1/2) # Bemærk at dette IKKE beregner kvadratroden af 81 ligesom ovenfor:forskellen er parentesen"
   ]
  },
  {
   "cell_type": "markdown",
   "metadata": {},
   "source": [
    "Ønsker man at benytte funktioner som logaritmer, trigonometriske funktioner eller lign., bliver man ofte nødt til at importere et modul, som kan gøre det. Men det vil vi komme ind på senere i noterne om SymPy og NumPy."
   ]
  },
  {
   "cell_type": "markdown",
   "metadata": {},
   "source": [
    "### Ændring af variable"
   ]
  },
  {
   "cell_type": "markdown",
   "metadata": {},
   "source": [
    "Der kan være mange årsager til, at man skal ændre værdien på en varibel, det kunne f. eks. være i en simulation, hvor positionen af et objekt skal opdateres efter et lille tidsskridt. Benytter vi samme variabelnavn i en ny definition ændrer vi blot værdien:"
   ]
  },
  {
   "cell_type": "code",
   "execution_count": 12,
   "metadata": {
    "ExecuteTime": {
     "end_time": "2020-07-17T15:07:18.400344Z",
     "start_time": "2020-07-17T15:07:18.387789Z"
    },
    "scrolled": true
   },
   "outputs": [
    {
     "name": "stdout",
     "output_type": "stream",
     "text": [
      "15\n",
      "20\n"
     ]
    }
   ],
   "source": [
    "vari = 15\r\n",
    "print(vari) # Her er variablen lig med 15\r\n",
    "vari = 20 \r\n",
    "print(vari) # Nu er den sat til 20"
   ]
  },
  {
   "cell_type": "markdown",
   "metadata": {},
   "source": [
    "Når vi benytter et lighedstegn, så udregnes først værdien på højre side, inden værdien bliver gemt med variabelnavnet til venstre. Vi kan altså godt benytte en variabel til at redefinerer sig selv. Her benytter vi `vari` til at gøre `vari` 10 gange større."
   ]
  },
  {
   "cell_type": "code",
   "execution_count": 33,
   "metadata": {
    "ExecuteTime": {
     "end_time": "2020-07-17T15:07:19.239037Z",
     "start_time": "2020-07-17T15:07:19.221178Z"
    }
   },
   "outputs": [
    {
     "name": "stdout",
     "output_type": "stream",
     "text": [
      "7\n",
      "70\n"
     ]
    }
   ],
   "source": [
    "vari = 7\r\n",
    "print(vari)      # Sat til 7\r\n",
    "vari = 10 * vari # `vari` bruges til at udregne en ny værdi for sig selv\r\n",
    "print(vari)"
   ]
  },
  {
   "cell_type": "markdown",
   "metadata": {},
   "source": [
    "Der er dog også nogle indbyggede smutveje til at ændre variables værdier i faste trin. Hvis man gere vil lade en variabel vokse i skridt af <code>increment = 2.5</code>, kan man benytte smutvejs-notationen <code>+=</code> til at ændre variablen i skridt af <code>increment</code>"
   ]
  },
  {
   "cell_type": "code",
   "execution_count": 34,
   "metadata": {
    "ExecuteTime": {
     "end_time": "2020-07-17T15:07:20.115927Z",
     "start_time": "2020-07-17T15:07:20.101953Z"
    },
    "scrolled": true
   },
   "outputs": [
    {
     "name": "stdout",
     "output_type": "stream",
     "text": [
      "5\n",
      "7.5\n"
     ]
    }
   ],
   "source": [
    "increment = 2.5\r\n",
    "value = 5\r\n",
    "print(value)\r\n",
    "\r\n",
    "value += increment # Vi øger value med værdien af vores increment\r\n",
    "print(value)"
   ]
  },
  {
   "cell_type": "markdown",
   "metadata": {},
   "source": [
    "Dette virker også for de andre basale operationer ved at skrive <code>-=, *=</code>, og man kan eksempelvis benytte <code>/= 2</code>, til at redefinere et tal til at være halvt så stort. \n"
   ]
  }
 ],
 "metadata": {
  "interpreter": {
   "hash": "e7066df799e5b7dce5dbb01d2b6be2de046d6380833e4d9e2d97cb4bb87a58f7"
  },
  "kernelspec": {
   "display_name": "Python 3",
   "language": "python",
   "name": "python3"
  },
  "language_info": {
   "codemirror_mode": {
    "name": "ipython",
    "version": 3
   },
   "file_extension": ".py",
   "mimetype": "text/x-python",
   "name": "python",
   "nbconvert_exporter": "python",
   "pygments_lexer": "ipython3",
   "version": "3.8.5"
  }
 },
 "nbformat": 4,
 "nbformat_minor": 4
}