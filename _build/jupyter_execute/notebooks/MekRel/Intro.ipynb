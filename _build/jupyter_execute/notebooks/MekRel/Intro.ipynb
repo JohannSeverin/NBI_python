{
 "cells": [
  {
   "cell_type": "markdown",
   "metadata": {},
   "source": [
    "# Python i MekRel"
   ]
  },
  {
   "cell_type": "markdown",
   "metadata": {},
   "source": [
    "Når I arbejder i laboratoriet i MekRel, bruges Python til at analysere jeres data og lave grafer til jeres rapport. Meget af\r\n",
    "programmeringen vil ske i laboratoriet, hvor I arbejder i grupper. Husk dog at bytte rundt på rollerne i\r\n",
    "gruppen, så alle får prøvet at kode i Python. Det er vigtigt, da I også skal lave fire individuelle Python\r\n",
    "afleveringer i løbet af kurset. Python skal også bruges i jeres næste fag, Data og Projekt, hvor I skal lære\r\n",
    "endnu mere om dataanalyse. Altså er det vigtigt at alle får prøvet kræfter og bliver fortrolig med Python\r\n",
    "tidligt.\r\n",
    "\r\n",
    "Det er vigtigt at understrege at I **ikke** skal bruge Jupyter Notebooks som logbøger til labafleveringer.\r\n",
    "Logbøger eller rapporter skal ikke indeholde kode, kun resultatet af jeres kode (ex. plots og resultater), og kan\r\n",
    "med fordel skrives i Word, LaTeX el.lign. og **skal** afleveres i .pdf-format. Derimod __må__ nogle af de fire såkaldte\r\n",
    "Pythonafleveringer, som afleveres individuelt, *godt* afleveres som Notebooks, men det hører i mere om\r\n",
    "senere.\r\n",
    "\r\n",
    "\r\n",
    "Et typisk arbejdsmønster når Python bliver brugt i MekRel er at importere data og behandle det med `numpy`\r\n",
    "operationer og lave et plot med `matplotlib` og derefter måske lave et fit med `scipy`. Det anbefales derfor\r\n",
    "at du først læser `numpy` noten og derefter `matplotlib` noten. `Scipy` noten er lidt mere teknisk og giver\r\n",
    "bedst mening senere."
   ]
  }
 ],
 "metadata": {
  "kernelspec": {
   "display_name": "Python 3",
   "language": "python",
   "name": "python3"
  },
  "language_info": {
   "codemirror_mode": {
    "name": "ipython",
    "version": 3
   },
   "file_extension": ".py",
   "mimetype": "text/x-python",
   "name": "python",
   "nbconvert_exporter": "python",
   "pygments_lexer": "ipython3",
   "version": "3.8.5"
  }
 },
 "nbformat": 4,
 "nbformat_minor": 4
}