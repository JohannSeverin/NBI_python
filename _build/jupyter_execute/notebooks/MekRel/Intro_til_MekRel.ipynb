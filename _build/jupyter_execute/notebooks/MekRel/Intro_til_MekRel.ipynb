{
 "cells": [
  {
   "cell_type": "markdown",
   "metadata": {},
   "source": [
    "# Python i MekRel\n",
    "\n",
    "Når I arbejder i laboratoriet i MekRel, bruges Python til at analysere jeres data og lave grafer til jeres rapport. Meget af\n",
    "programmeringen vil ske i laboratoriet, hvor I arbejder i grupper. Husk dog at bytte rundt på rollerne i\n",
    "gruppen, så alle får prøvet at kode i Python. Det er vigtigt, da I også skal lave fire individuelle Python\n",
    "afleveringer i løbet af kurset. Python skal også bruges i jeres næste fag, Data og Projekt, hvor I skal lære\n",
    "endnu mere om dataanalyse. Altså er det vigtigt at alle får prøvet kræfter og bliver fortrolig med Python\n",
    "tidligt.\n",
    "\n",
    "Det er vigtigt at understrege at I **ikke** skal bruge Jupyter Notebooks som logbøger til labafleveringer.\n",
    "Logbøger eller rapporter skal ikke indeholde kode, kun resultatet af jeres kode (ex. plots og resultater), og kan\n",
    "med fordel skrives i Word, LaTeX el.lign. og **skal** afleveres i .pdf-format. Derimod __må__ nogle af de fire såkaldte\n",
    "Pythonafleveringer, som afleveres individuelt, *godt* afleveres som Notebooks, men det hører I mere om\n",
    "senere.\n",
    "\n",
    "\n",
    "Et typisk arbejdsmønster når Python bliver brugt i MekRel, er at importere data og behandle det med `numpy`\n",
    "operationer og lave et plot med `matplotlib` og derefter måske lave et fit med `scipy`. Det anbefales derfor, at du først læser `numpy`-noten og derefter `matplotlib`-noten. `Scipy`-noten er lidt mere teknisk og giver\n",
    "bedst mening senere."
   ]
  }
 ],
 "metadata": {
  "interpreter": {
   "hash": "e7066df799e5b7dce5dbb01d2b6be2de046d6380833e4d9e2d97cb4bb87a58f7"
  },
  "kernelspec": {
   "display_name": "Python 3",
   "language": "python",
   "name": "python3"
  },
  "language_info": {
   "codemirror_mode": {
    "name": "ipython",
    "version": 3
   },
   "file_extension": ".py",
   "mimetype": "text/x-python",
   "name": "python",
   "nbconvert_exporter": "python",
   "pygments_lexer": "ipython3",
   "version": "3.8.5"
  }
 },
 "nbformat": 4,
 "nbformat_minor": 2
}