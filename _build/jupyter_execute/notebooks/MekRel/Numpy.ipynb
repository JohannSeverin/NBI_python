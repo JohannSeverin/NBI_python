{
 "cells": [
  {
   "cell_type": "markdown",
   "metadata": {},
   "source": [
    "# Numpy\r\n",
    "\r\n",
    "Numpy bruges til at lave nummeriske beregniner og vil være jeres primære værktøj i laboratoriet. Det skyldes at man kan bruge `numpy arrays`. Det er en data type som gør operationer på mange tal hurtigt og forhåbenlig intuativt når i har arbejdet lidt med det.\r\n",
    "\r\n",
    "**Tip:** Hvis du gerne vil downloade og køre denne notebook skal du også bruge filen `Testdata.csv` som kan hentes her [link til host](https://github.com/JohannSeverin/NBI_python/tree/main/notebooks/pakker)\r\n"
   ]
  },
  {
   "cell_type": "markdown",
   "metadata": {},
   "source": [
    "\n",
    "## Numpy arrays\n",
    "\n",
    "For at lave et numpy array kan man skrive forskelige ting her er nogle eksempler,\n"
   ]
  },
  {
   "cell_type": "code",
   "execution_count": 2,
   "metadata": {},
   "outputs": [],
   "source": [
    "import numpy as np # Husk at importere numpy ellers virker det ikke."
   ]
  },
  {
   "cell_type": "code",
   "execution_count": 3,
   "metadata": {},
   "outputs": [
    {
     "name": "stdout",
     "output_type": "stream",
     "text": [
      "[3 4 5 1]\n",
      "[0.  0.5 1.  1.5 2.  2.5]\n",
      "[0. 2. 4. 6. 8.]\n"
     ]
    }
   ],
   "source": [
    "array1 = np.array([3,4,5,1]) #manuelt indtastede værdier\r\n",
    "array2 = np.arange(0,3,0.5) #et array med tallene fra 0 til 3 (ekslusiv 3) i 0.5 skridtstørrelse\r\n",
    "array3 = np.linspace(0,8,5) #et array med tallene fra 0 ti 8 (inklusiv 8) i 5 skridt\r\n",
    "\r\n",
    "print(array1) #ønsker du at se noget af det du har defineret så \"print\" det således\r\n",
    "print(array2)\r\n",
    "print(array3)"
   ]
  },
  {
   "cell_type": "markdown",
   "metadata": {},
   "source": [
    "Læg mærke til at NumPy funktionen arange tæller efter skridtstørrelse, altså hvor stort mellemrum der skal være mellem hver værdi i intervallet man angiver, og linspace tæller efter hvor mange skridt der skal være i alt, og giver så en jævn fordeling af værdier i det interval man angiver.\n",
    "\n",
    "Vil man gerne trække tal ud af sine arrays, gøres det ved at skrive indekset på det man gerne vil have ud,"
   ]
  },
  {
   "cell_type": "code",
   "execution_count": 4,
   "metadata": {},
   "outputs": [
    {
     "name": "stdout",
     "output_type": "stream",
     "text": [
      "[3 4 5 1 6 8]\n",
      "3 5\n",
      "[4 5 1 6]\n",
      "8\n"
     ]
    }
   ],
   "source": [
    "array4 = np.array([3,4,5,1,6,8]) #Definerer et array\r\n",
    "print(array4)\r\n",
    "\r\n",
    "print( array4[0], array4[2]) #vælger den første og tredje værdi i arrayet\r\n",
    "\r\n",
    "print(array4[1:5]) #vælger værdien fra indeks 1 til og uden 5 (husk at Python indekserer fra 0)\r\n",
    "\r\n",
    "print(array4[-1]) #man kan også vælge den sidste værdi ved at tælle baglæns"
   ]
  },
  {
   "cell_type": "markdown",
   "metadata": {},
   "source": [
    "Man kan også lave arrays i 2D, og trække værdier ud på samme måde,"
   ]
  },
  {
   "cell_type": "code",
   "execution_count": 3,
   "metadata": {},
   "outputs": [
    {
     "name": "stdout",
     "output_type": "stream",
     "text": [
      "[[1 2 3]\n",
      " [4 5 6]\n",
      " [7 8 9]]\n",
      "5\n",
      "[1 4 7]\n",
      "45\n",
      "[12 15 18]\n"
     ]
    }
   ],
   "source": [
    "array5 = np.array([[1,2,3],[4,5,6],[7,8,9]])\r\n",
    "print(array5) #viser hele arrayet\r\n",
    "\r\n",
    "print(array5[1,1]) #udskriver indeks (1,1)\r\n",
    "\r\n",
    "print(array5[:,0]) #udskriver første k12olonne i matricen\r\n",
    "\r\n",
    "print(np.sum(array5)) #bestemmer summen af alle tallene\r\n",
    "print(np.sum(array5,axis=0)) #bestemmer summen af kolonnerne"
   ]
  },
  {
   "cell_type": "markdown",
   "metadata": {},
   "source": [
    "En af grundene til at vi bruger NumPy arrays er, at vi nemt kan bruge NumPy funktioner til at lave regneoperationer på arrays. Her følger et par eksempler,"
   ]
  },
  {
   "cell_type": "code",
   "execution_count": 5,
   "metadata": {},
   "outputs": [
    {
     "name": "stdout",
     "output_type": "stream",
     "text": [
      "[0 1 2 3 4 5 6 7 8 9]\n",
      "[ 1  2  5 10 17 26 37 50 65 82]\n",
      "[1.00000000e+00 2.71828183e+00 7.38905610e+00 2.00855369e+01\n",
      " 5.45981500e+01 1.48413159e+02 4.03428793e+02 1.09663316e+03\n",
      " 2.98095799e+03 8.10308393e+03]\n"
     ]
    }
   ],
   "source": [
    "tal = np.arange(0,10) #heltal fra 0 til 9\r\n",
    "\r\n",
    "kvadrat = tal**2 + 1 #tager kvadratet plus 1 for alle tal i arrayet\r\n",
    "\r\n",
    "Exp = np.exp(tal) #tager exp til alle tal i arrayet\r\n",
    "\r\n",
    "#printer array, og de to resultater\r\n",
    "print(tal)\r\n",
    "print(kvadrat)\r\n",
    "print(Exp)"
   ]
  },
  {
   "cell_type": "markdown",
   "metadata": {},
   "source": [
    "## Funktioner til statistik\n",
    "\n",
    "Når vi laver databehandling i lab, skal vi ofte bruge gennemsnit og spredning på vores data, og det kan vi gøre nemt med et par NumPy funktioner. Arbejder man med 2D-datasæt, f.eks. ved gentagne målinger for skiftende variable, hvor vi vil have gennemsnittet for hver opstilling, skal man være opmærksom på at indikere akse i datasættet. Aksen sættes enten til 0 eller 1, afhængig af om man vil tage gennemsnittet lodret gennem kolonner eller vandret gennem rækker."
   ]
  },
  {
   "cell_type": "code",
   "execution_count": 9,
   "metadata": {},
   "outputs": [
    {
     "name": "stdout",
     "output_type": "stream",
     "text": [
      "Gennemsnit:  3.72 \n",
      "Spredning:  0.43081318457076023\n",
      "Det her er et 2D-array, \n",
      " [[1.  2.  3. ]\n",
      " [1.2 1.9 3.2]\n",
      " [0.8 2.1 3.4]]\n",
      "Gennemsnit:  [1.  2.  3.2] \n",
      "Spredning:  [0.16329932 0.08164966 0.16329932]\n"
     ]
    }
   ],
   "source": [
    "data1 = np.array([3.2,4.1,3.7,4.3,3.3]) #indtaster et datasæt\r\n",
    "gennemsnit1 = np.mean(data1) #tager gennemsnit\r\n",
    "spredning1 = np.std(data1) #finder spredningen\r\n",
    "print(\"Gennemsnit: \", gennemsnit1,\"\\nSpredning: \", spredning1) #\\n sætter blot det efterfølgende printet på ny linje\r\n",
    "\r\n",
    "data2 = np.array([[1,2,3], [1.2,1.9,3.2], [0.8,2.1,3.4]]) #indtaster et 2D datasæt\r\n",
    "gennemsnit2 = np.mean(data2, axis = 0) #vi ønsker at tage gennemsnittet gennem kolonner. \r\n",
    "spredning2 = np.std(data2, axis = 0)\r\n",
    "\r\n",
    "print(\"Det her er et 2D-array, \\n\", data2)\r\n",
    "print(\"Gennemsnit: \",gennemsnit2, \"\\nSpredning: \", spredning2)\r\n"
   ]
  },
  {
   "cell_type": "markdown",
   "metadata": {},
   "source": [
    "## Importering af datafiler\r\n",
    "Når vi arbejder i lab har vi ofte et måleinstrument der tager målingerne, så det både er mere præcist og man kan tage flere målinger hurtigt.\r\n",
    "Men når man gør det får man store mængder data og det gider vi ikke sidde og taste ind manuelt. Derfor vil vi bruge Python til det i stedet. For at gøre dette bruger vi igen NumPy pakken. Vi skal bruge kommandoen np.genfromtxt, syntaxen af denne er;\r\n",
    "\r\n",
    "np.genfromtxt(fname, delimiter=None, skip_header=0, skip_footer=0) \r\n",
    "\r\n",
    "Hvor fname er fil navnet, delimiter er hvordan dataen er opdelt i filen (mere om det om lidt), skip_header er hvor mange linjer af toppen af filen der skal springes over og skip_footer er det samme bare fra bunden af. Dette er en forsimplet syntax den hele findes her hvis du gerne vil læse lidt mere [np.genfromtxt syntax](https://numpy.org/doc/stable/reference/generated/numpy.genfromtxt.html). Den måde '=0' skal forståes er at hvis du ikke skriver skip_header='noget' så antager Python at du mener 0.\r\n",
    "\r\n",
    "**Tip**: Det er vigtigt at data filen som hedder fname ligger i den samme mappe som koden. Så sørg for at gemme jeres Notebook og datafil i samme mappe.\r\n",
    "\r\n",
    "Her følger et eksempel, med datafilen \"Testdata.csv\" der er uploadet på Absalon."
   ]
  },
  {
   "cell_type": "code",
   "execution_count": 10,
   "metadata": {},
   "outputs": [
    {
     "name": "stdout",
     "output_type": "stream",
     "text": [
      "[[ 1.2  2.5]\n",
      " [ 5.  10.3]\n",
      " [ 7.5 14.8]]\n"
     ]
    }
   ],
   "source": [
    "data = np.genfromtxt('Testdata.csv', delimiter = ';', skip_header=2) #vores data er adskilt med semi-kolon, og vi springer 2 linjer over\r\n",
    "\r\n",
    "\r\n",
    "print(data)"
   ]
  },
  {
   "cell_type": "markdown",
   "metadata": {},
   "source": [
    "Inden man importerer datafilen er det vigtigt at kigge lidt på filen først. Det gør I ved at åbne jeres datafil i jeres foretrukne filredigeringsprogram. Hent den fil der hedder Testdata.csv som ligger [her](https://github.com/JohannSeverin/NBI_python/tree/main/notebooks/pakker), for at kunne kigge lidt på den og forstå importeringen. Hvis du åbner Testdata.csv, så kan du se at der er noget tekst allerøverst, derfor sætter vi skip_header=2, da der er to linjer af tekst vi ikke vil have importeret i vores kode.\r\n",
    "Videre ser vi at tallene er adskilt med semikolon. Det betyder at vi skal sætte delimiter = ';'. Udover det ser vi at vi får et todimensionelt array af data. Vi vil i dette tilfælde helst have kolonnerne hver for sig. En kolonne kan importeres således,"
   ]
  },
  {
   "cell_type": "code",
   "execution_count": 11,
   "metadata": {},
   "outputs": [
    {
     "name": "stdout",
     "output_type": "stream",
     "text": [
      "[1.2 5.  7.5]\n"
     ]
    }
   ],
   "source": [
    "kolonne1 = data[:,0]\r\n",
    "print(kolonne1)"
   ]
  },
  {
   "cell_type": "markdown",
   "metadata": {},
   "source": [
    "Nu bør du kunne hente en data fra en fil og begynde at lave små data behandlinger som at tage gennemsnittet af alle kolonerne, under ses et eksempel på dette."
   ]
  },
  {
   "cell_type": "code",
   "execution_count": 9,
   "metadata": {},
   "outputs": [
    {
     "name": "stdout",
     "output_type": "stream",
     "text": [
      "[[ 1.2  2.5]\n",
      " [ 5.  10.3]\n",
      " [ 7.5 14.8]]\n",
      "[4.56666667 9.2       ]\n"
     ]
    }
   ],
   "source": [
    "data = np.genfromtxt('Testdata.csv', delimiter = ';', skip_header=2)\r\n",
    "print(data)\r\n",
    "\r\n",
    "Gns_Row = np.mean(data, axis = 0)\r\n",
    "print(Gns_Row)\r\n"
   ]
  }
 ],
 "metadata": {
  "interpreter": {
   "hash": "e7066df799e5b7dce5dbb01d2b6be2de046d6380833e4d9e2d97cb4bb87a58f7"
  },
  "kernelspec": {
   "display_name": "Python 3.8.2 64-bit",
   "name": "python3"
  },
  "language_info": {
   "codemirror_mode": {
    "name": "ipython",
    "version": 3
   },
   "file_extension": ".py",
   "mimetype": "text/x-python",
   "name": "python",
   "nbconvert_exporter": "python",
   "pygments_lexer": "ipython3",
   "version": "3.8.2"
  }
 },
 "nbformat": 4,
 "nbformat_minor": 2
}