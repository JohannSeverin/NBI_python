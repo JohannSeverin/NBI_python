{
 "cells": [
  {
   "cell_type": "markdown",
   "metadata": {},
   "source": [
    "# Matrix reduktion, ligningsløsning og inverse matricer"
   ]
  },
  {
   "cell_type": "markdown",
   "metadata": {},
   "source": [
    "## Matrix-reduktion\n",
    "Python/SymPy indeholder en række indbyggede metoder til at reducere matricer. Særligt brugbart i LinALys er funktionen, der bringer en matrix på reduceret række-echelonform. For en matrix $A$ kan vi finde den ækvivalente matrix på reduceret række-echelonform ved <code>.rref()</code>:"
   ]
  },
  {
   "cell_type": "code",
   "execution_count": 18,
   "metadata": {},
   "outputs": [
    {
     "data": {
      "image/png": "[encoded data removed]",
      "text/latex": [
       "$\\displaystyle \\left[\\begin{matrix}1 & 1 & -2 & 1\\\\3 & 2 & 1 & -5\\\\2 & 1 & 3 & -6\\end{matrix}\\right]$"
      ],
      "text/plain": [
       "⎡1  1  -2  1 ⎤\n",
       "⎢            ⎥\n",
       "⎢3  2  1   -5⎥\n",
       "⎢            ⎥\n",
       "⎣2  1  3   -6⎦"
      ]
     },
     "metadata": {
      "filenames": {
       "image/png": "/home/johannbs/projects/NBI_python/_build/jupyter_execute/notebooks/sympy/Notebook_LinAlg1_5_2_0.png"
      }
     },
     "output_type": "display_data"
    },
    {
     "data": {
      "image/png": "[encoded data removed]",
      "text/latex": [
       "$\\displaystyle \\left( \\left[\\begin{matrix}1 & 0 & 5 & -7\\\\0 & 1 & -7 & 8\\\\0 & 0 & 0 & 0\\end{matrix}\\right], \\  \\left( 0, \\  1\\right)\\right)$"
      ],
      "text/plain": [
       "⎛⎡1  0  5   -7⎤        ⎞\n",
       "⎜⎢            ⎥        ⎟\n",
       "⎜⎢0  1  -7  8 ⎥, (0, 1)⎟\n",
       "⎜⎢            ⎥        ⎟\n",
       "⎝⎣0  0  0   0 ⎦        ⎠"
      ]
     },
     "execution_count": 18,
     "metadata": {
      "filenames": {
       "image/png": "/home/johannbs/projects/NBI_python/_build/jupyter_execute/notebooks/sympy/Notebook_LinAlg1_5_2_1.png"
      }
     },
     "output_type": "execute_result"
    }
   ],
   "source": [
    "A = Matrix([[1, 1, -2, 1], [3, 2, 1, -5], [2, 1, 3, -6]])\n",
    "display(A)\n",
    "A.rref()"
   ]
  },
  {
   "cell_type": "markdown",
   "metadata": {},
   "source": [
    "Resultatet er den reducerede række-echelonform og en liste over nummeret på de kolonner, der har en ledende indgang. Hvis man vil udelade denne liste, kan man i stedet skrive <code>.rref(pivots = False)</code>."
   ]
  },
  {
   "cell_type": "markdown",
   "metadata": {},
   "source": [
    "## Ligningssystemer med een løsning"
   ]
  },
  {
   "cell_type": "markdown",
   "metadata": {},
   "source": [
    "Som det nok er gået op for de fleste, anviser lineær algebra en effektiv måde til at bestemme løsningerne til lineære ligningssystemer ved hjælpe af matrixregning. Vi kan f.eks. omskrive:"
   ]
  },
  {
   "cell_type": "markdown",
   "metadata": {},
   "source": [
    "\\begin{align*} \n",
    "    x_1 + 3 x_3 &= 20 \\\\ 4x_2 + 6 x_3 &= 74 \\\\ 3 x_1 + 6x_2 + 11 x_3 &= 136\n",
    "\\end{align*}"
   ]
  },
  {
   "cell_type": "markdown",
   "metadata": {},
   "source": [
    "til:"
   ]
  },
  {
   "cell_type": "markdown",
   "metadata": {},
   "source": [
    "\\begin{equation*}\n",
    "    \\displaystyle \\left[\\begin{matrix}1 & 0 & 3\\\\0 & 4 & 6\\\\3 & 6 & 11\\end{matrix}\\right] \\displaystyle \\left[\\begin{matrix}x_{1}\\\\x_{2}\\\\x_{3}\\end{matrix}\\right] = \\displaystyle \\left[\\begin{matrix}20\\\\74\\\\136\\end{matrix}\\right]\n",
    "\\end{equation*}"
   ]
  },
  {
   "cell_type": "markdown",
   "metadata": {},
   "source": [
    "Når vi har et ligningssystem på denne form, og der findes en entydig løsning, kan vi uden videre beregne løsningen med SymPy. Vi benytter blot <code>LUsolve</code>-metoden på en matrix, og giver den højre side af vores ligningssystem som inputparameter:"
   ]
  },
  {
   "cell_type": "code",
   "execution_count": 19,
   "metadata": {},
   "outputs": [
    {
     "data": {
      "image/png": "[encoded data removed]",
      "text/latex": [
       "$\\displaystyle \\left[\\begin{matrix}5\\\\11\\\\5\\end{matrix}\\right]$"
      ],
      "text/plain": [
       "⎡5 ⎤\n",
       "⎢  ⎥\n",
       "⎢11⎥\n",
       "⎢  ⎥\n",
       "⎣5 ⎦"
      ]
     },
     "metadata": {
      "filenames": {
       "image/png": "/home/johannbs/projects/NBI_python/_build/jupyter_execute/notebooks/sympy/Notebook_LinAlg1_5_10_0.png"
      }
     },
     "output_type": "display_data"
    }
   ],
   "source": [
    "#Definerer her matrix A og vektor b\n",
    "A = Matrix([[1, 0, 3], [0, 4, 6], [3, 6, 11]])\n",
    "b = Matrix([20, 74, 136])\n",
    "\n",
    "#Løsningen findes nu blot ved:\n",
    "sol = A.LUsolve(b)\n",
    "display(sol)"
   ]
  },
  {
   "cell_type": "markdown",
   "metadata": {},
   "source": [
    "Skulle vi være mistroiske overfor moderne datamater, kan vi nu verificere at \n",
    "\n",
    "\\begin{equation*}\n",
    "    \\displaystyle \\left[\\begin{matrix}x_{1}\\\\x_{2}\\\\x_{3}\\end{matrix}\\right] = \\displaystyle \\left[\\begin{matrix}5 \\\\11\\\\5\\end{matrix}\\right]\n",
    "\\end{equation*}\n",
    "\n",
    "virkelig er en løsning ved at multiplicere matricen $A$ med løsningsvektoren:"
   ]
  },
  {
   "cell_type": "code",
   "execution_count": 20,
   "metadata": {},
   "outputs": [
    {
     "data": {
      "image/png": "[encoded data removed]",
      "text/latex": [
       "$\\displaystyle \\left[\\begin{matrix}20\\\\74\\\\136\\end{matrix}\\right]$"
      ],
      "text/plain": [
       "⎡20 ⎤\n",
       "⎢   ⎥\n",
       "⎢74 ⎥\n",
       "⎢   ⎥\n",
       "⎣136⎦"
      ]
     },
     "execution_count": 20,
     "metadata": {
      "filenames": {
       "image/png": "/home/johannbs/projects/NBI_python/_build/jupyter_execute/notebooks/sympy/Notebook_LinAlg1_5_12_0.png"
      }
     },
     "output_type": "execute_result"
    }
   ],
   "source": [
    "A * sol"
   ]
  },
  {
   "cell_type": "markdown",
   "metadata": {},
   "source": [
    "Vi kan lave tilsvarende operationer med symbolske variable. Lad $A$ være matricen angivet ovenfor, men i stedet ønsker vi nu at finde en generel løsning til \n",
    "\n",
    "\\begin{equation*}\n",
    "    \\displaystyle \\left[\\begin{matrix}1 & 0 & 3\\\\0 & 4 & 6\\\\3 & 6 & 11\\end{matrix}\\right] \\displaystyle \\left[\\begin{matrix}x_{1}\\\\x_{2}\\\\x_{3}\\end{matrix}\\right] = \\displaystyle \\left[\\begin{matrix}d\\\\e\\\\f\\end{matrix}\\right]\n",
    "\\end{equation*}"
   ]
  },
  {
   "cell_type": "markdown",
   "metadata": {},
   "source": [
    "## Omvendte/inverse matricer\n",
    "Som beskrevet i Messer afsnit 5.2 kan matricer inverteres. Dette gøres meget simpelt for en matrix $A$ med syntaksen <code>A.inv()</code>:"
   ]
  },
  {
   "cell_type": "code",
   "execution_count": 21,
   "metadata": {},
   "outputs": [
    {
     "data": {
      "image/png": "[encoded data removed]",
      "text/latex": [
       "$\\displaystyle \\left[\\begin{matrix}- \\frac{2}{7} & - \\frac{9}{14} & \\frac{3}{7}\\\\- \\frac{9}{14} & - \\frac{1}{14} & \\frac{3}{14}\\\\\\frac{3}{7} & \\frac{3}{14} & - \\frac{1}{7}\\end{matrix}\\right]$"
      ],
      "text/plain": [
       "⎡-2/7   -9/14  3/7 ⎤\n",
       "⎢                  ⎥\n",
       "⎢-9/14  -1/14  3/14⎥\n",
       "⎢                  ⎥\n",
       "⎣ 3/7   3/14   -1/7⎦"
      ]
     },
     "execution_count": 21,
     "metadata": {
      "filenames": {
       "image/png": "/home/johannbs/projects/NBI_python/_build/jupyter_execute/notebooks/sympy/Notebook_LinAlg1_5_15_0.png"
      }
     },
     "output_type": "execute_result"
    }
   ],
   "source": [
    "A.inv()"
   ]
  },
  {
   "cell_type": "markdown",
   "metadata": {},
   "source": [
    "Såfremt den omvendte/inverse matrix for $A$ eksisterer, kan vi derfor også løse det ovenstående ligningssystem som\n",
    "\n",
    "\\begin{equation*}\n",
    "    \\displaystyle \\left[\\begin{matrix}x_{1}\\\\x_{2}\\\\x_{3}\\end{matrix}\\right] = \n",
    "    \\displaystyle \\left[\\begin{matrix}1 & 0 & 3\\\\0 & 4 & 6\\\\3 & 6 & 11\\end{matrix}\\right]^{-1}\n",
    "    \\displaystyle \\left[\\begin{matrix}d\\\\e\\\\f\\end{matrix}\\right]\n",
    "\\end{equation*}\n",
    "\n",
    "hvilket i Python-syntax gøres ved"
   ]
  },
  {
   "cell_type": "code",
   "execution_count": 22,
   "metadata": {},
   "outputs": [
    {
     "data": {
      "image/png": "[encoded data removed]",
      "text/latex": [
       "$\\displaystyle \\left[\\begin{matrix}5\\\\11\\\\5\\end{matrix}\\right]$"
      ],
      "text/plain": [
       "⎡5 ⎤\n",
       "⎢  ⎥\n",
       "⎢11⎥\n",
       "⎢  ⎥\n",
       "⎣5 ⎦"
      ]
     },
     "execution_count": 22,
     "metadata": {
      "filenames": {
       "image/png": "/home/johannbs/projects/NBI_python/_build/jupyter_execute/notebooks/sympy/Notebook_LinAlg1_5_17_0.png"
      }
     },
     "output_type": "execute_result"
    }
   ],
   "source": [
    "A.inv()*b"
   ]
  },
  {
   "cell_type": "markdown",
   "metadata": {},
   "source": [
    "## Matrixrang \n",
    "Bemærk at hverken man hverken kan finde løsninger med <code>LUsolve</code> eller ved at beregne den inverse matrix hvis  ikke ligningssystemet har netop én løsning (dvs. hvis ligningerne i ligningssystemet har indbygget en modstrid eller løsningen har en eller flere frie variable). I disse tilfælde vil begge metoder give fejlmeddelelser.\n",
    "\n",
    "Årsagen hertil er at koefficientmatricen ikke har fuld rang. Rangen for en matrix $A$ kan findes ved <code>A.rank()</code>, og angiver antallet af ledende et-taller i den matrix, der fremkommer ved at føre $A$ på reduceret række-echelonform.\n",
    "\n",
    "Af denne grund, og i overensstemmelse med Messer sætning 5.12, er det derfor ingen overraskelse at se at $A$ fra overfor, der repræsenterer 3 lineært uafgængige ligninger med 3 ubekendte, har rang 3:"
   ]
  },
  {
   "cell_type": "code",
   "execution_count": 23,
   "metadata": {},
   "outputs": [
    {
     "data": {
      "image/png": "[encoded data removed]",
      "text/latex": [
       "$\\displaystyle 3$"
      ],
      "text/plain": [
       "3"
      ]
     },
     "execution_count": 23,
     "metadata": {
      "filenames": {
       "image/png": "/home/johannbs/projects/NBI_python/_build/jupyter_execute/notebooks/sympy/Notebook_LinAlg1_5_19_0.png"
      }
     },
     "output_type": "execute_result"
    }
   ],
   "source": [
    "A.rank()"
   ]
  },
  {
   "cell_type": "markdown",
   "metadata": {},
   "source": [
    "## Ligningssystemer med flere løsninger: frie parametre\n",
    "Vi kommer dog ofte ud for ligningssystemer med flere ubekendte end der er lineært uafhængige ligninger, svarende til at løsningen kan parametriseres med et antal fri variable/parametre. Dette svarer til at rangen af den tilsvarende koefficientmatrix $A$ er mindre end antallet af variable i ligningssystemet.\n",
    "I sådanne tilfælde er A ikke invertibel og <code>LU-solve</code> vil derfor ikke virke.\n",
    "\n",
    "Eksempel: Vi vil gerne finde den fuldstændige løsning til \n",
    "\\begin{equation*}\n",
    "    \\displaystyle \\left[\\begin{matrix}1 & 0 & 3 & 1\\\\0 & 4 & 6 & 1\\\\-1 & 4 & 3 & 0\\end{matrix}\\right] \\displaystyle \\left[\\begin{matrix}x_{1}\\\\x_{2}\\\\x_{3}\\end{matrix}\\right] = \\displaystyle \\left[\\begin{matrix}0\\\\0\\\\0\\end{matrix}\\right]\n",
    "\\end{equation*}\n",
    "\n",
    "En mulighed er at føre $A$ på reduceret række-echelonform:"
   ]
  },
  {
   "cell_type": "code",
   "execution_count": 25,
   "metadata": {},
   "outputs": [
    {
     "data": {
      "image/png": "[encoded data removed]",
      "text/latex": [
       "$\\displaystyle \\left( \\left[\\begin{matrix}1 & 0 & 3 & 1\\\\0 & 1 & \\frac{3}{2} & \\frac{1}{4}\\\\0 & 0 & 0 & 0\\end{matrix}\\right], \\  \\left( 0, \\  1\\right)\\right)$"
      ],
      "text/plain": [
       "⎛⎡1  0   3    1 ⎤        ⎞\n",
       "⎜⎢              ⎥        ⎟\n",
       "⎜⎢0  1  3/2  1/4⎥, (0, 1)⎟\n",
       "⎜⎢              ⎥        ⎟\n",
       "⎝⎣0  0   0    0 ⎦        ⎠"
      ]
     },
     "execution_count": 25,
     "metadata": {
      "filenames": {
       "image/png": "/home/johannbs/projects/NBI_python/_build/jupyter_execute/notebooks/sympy/Notebook_LinAlg1_5_21_0.png"
      }
     },
     "output_type": "execute_result"
    }
   ],
   "source": [
    "A = Matrix([[1, 0, 3, 1], [0, 4, 6, 1], [-1, 4, 3, 0]])\n",
    "A.rref()"
   ]
  },
  {
   "cell_type": "markdown",
   "metadata": {},
   "source": [
    "Vi sætter $x_3 = r$ og $x_4 = s$ da der ikke er ledende indgange i 3. og 4. kolonne. Herefter opskriver vi løsningen som\n",
    "\\begin{equation*}\n",
    "    \\displaystyle \\left[\\begin{matrix}x_{1}\\\\x_{2}\\\\x_{3}\\\\x_4\\end{matrix}\\right] = \n",
    "    \\displaystyle \\left[\\begin{matrix}-3\\\\-\\frac32\\\\1\\\\0\\end{matrix}\\right]\\cdot r +\n",
    "    \\displaystyle \\left[\\begin{matrix}-1\\\\-\\frac14\\\\0\\\\1\\end{matrix}\\right]\\cdot s, \\hspace{1cm}r,s\\in {\\rm I\\!R}\n",
    "\\end{equation*}\n",
    "\n",
    "Men vi kan også benytte metoden <code>.gauss_jordan_solve()</code> som efterligner denne metode, blot med en lidt anden typografi:"
   ]
  },
  {
   "cell_type": "code",
   "execution_count": 27,
   "metadata": {},
   "outputs": [
    {
     "data": {
      "image/png": "[encoded data removed]",
      "text/latex": [
       "$\\displaystyle \\left( \\left[\\begin{matrix}- 3 \\tau_{0} - \\tau_{1}\\\\- \\frac{3 \\tau_{0}}{2} - \\frac{\\tau_{1}}{4}\\\\\\tau_{0}\\\\\\tau_{1}\\end{matrix}\\right], \\  \\left[\\begin{matrix}\\tau_{0}\\\\\\tau_{1}\\end{matrix}\\right]\\right)$"
      ],
      "text/plain": [
       "⎛⎡-3⋅τ₀ - τ₁ ⎤      ⎞\n",
       "⎜⎢           ⎥      ⎟\n",
       "⎜⎢  3⋅τ₀   τ₁⎥      ⎟\n",
       "⎜⎢- ──── - ──⎥  ⎡τ₀⎤⎟\n",
       "⎜⎢   2     4 ⎥, ⎢  ⎥⎟\n",
       "⎜⎢           ⎥  ⎣τ₁⎦⎟\n",
       "⎜⎢    τ₀     ⎥      ⎟\n",
       "⎜⎢           ⎥      ⎟\n",
       "⎝⎣    τ₁     ⎦      ⎠"
      ]
     },
     "execution_count": 27,
     "metadata": {
      "filenames": {
       "image/png": "/home/johannbs/projects/NBI_python/_build/jupyter_execute/notebooks/sympy/Notebook_LinAlg1_5_23_0.png"
      }
     },
     "output_type": "execute_result"
    }
   ],
   "source": [
    "b = Matrix([0, 0, 0])\n",
    "A.gauss_jordan_solve(b)"
   ]
  }
 ],
 "metadata": {
  "kernelspec": {
   "display_name": "Python 3",
   "language": "python",
   "name": "python3"
  },
  "language_info": {
   "codemirror_mode": {
    "name": "ipython",
    "version": 3
   },
   "file_extension": ".py",
   "mimetype": "text/x-python",
   "name": "python",
   "nbconvert_exporter": "python",
   "pygments_lexer": "ipython3",
   "version": "3.8.5"
  }
 },
 "nbformat": 4,
 "nbformat_minor": 4
}