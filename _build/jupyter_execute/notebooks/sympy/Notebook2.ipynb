{
 "cells": [
  {
   "cell_type": "markdown",
   "metadata": {},
   "source": [
    "# SymPy i LinAlys"
   ]
  },
  {
   "cell_type": "markdown",
   "metadata": {},
   "source": [
    "__Foreslået ændringer:__ \n",
    "I denne her Notebook er der ikke brug for de store ændringer til struktur. \n",
    "\n",
    "Når jeg har talt med de andre kurser, er vi dog blevet enige om, at man skal have en forståelse af pakkerne, og vi skal derfor måske bevæge os væk fra en \"anbefalet\" blok af tekst, men i stedet bare hente tingene ind, når vi skal bruge dem. \n",
    "\n",
    "Med denne nye struktur, burde vi også overveje om grænser skal rykkes til en anden notebook, så vi i stedet blot har overskrifter og ikke nødvendigvis har det på ugentlig basis.\n",
    "\n",
    "Desuden bør vi nok gennemgå, hvad der er syntaks, og hvad der er kaldesekvens. Dette gør jeg, når jeg retter dem til. "
   ]
  },
  {
   "cell_type": "markdown",
   "metadata": {},
   "source": [
    "# Hvad er SymPy?"
   ]
  },
  {
   "cell_type": "markdown",
   "metadata": {},
   "source": [
    "I denne notebook vil vi kigge på, hvordan vi benytter SymPy. Selve SymPy er et bibliotek i Python, der lader os arbejde med symbolske udtryk. Vi starter med at importere SymPy på samme måde, som vi importerede  biblioteker i den sidste notebook. Derfor vil vi starte alle notebooks med at importere SymPy og benytte forkortelsen \"sp\" for biblioteket: <code>import sympy as sp</code>.  \n",
    "SymPy har flere indbyggeret printe-værktøjer. Vi bruger funktionen <code>sp.init_printing()</code>, som gør det muligt at få udtryk vist i LaTeX-format (LaTeX er det førende system til at skrive matematiske tekster).\n",
    "Den normale <code>print()</code> i Python printer output i \"string\"-format, mens funktionen <code>display()</code> fra <code>IPython.display</code> vil være vores foretrukne valg til at vise SymPy-udtryk som LaTeX.  "
   ]
  },
  {
   "cell_type": "code",
   "execution_count": 71,
   "metadata": {
    "ExecuteTime": {
     "end_time": "2020-08-01T11:48:49.828305Z",
     "start_time": "2020-08-01T11:48:49.118541Z"
    }
   },
   "outputs": [],
   "source": [
    "import sympy as sp                    # Importer SymPy\n",
    "from IPython.display import display   # Importer display-funktionen \n",
    "sp.init_printing()                    # Aktiver pretty-printing"
   ]
  },
  {
   "cell_type": "markdown",
   "metadata": {},
   "source": [
    "## Symboler og tal"
   ]
  },
  {
   "cell_type": "markdown",
   "metadata": {},
   "source": [
    "På samme måde som vi kan have variable i Python som _strings_, logiske booleans eller talværdier, så tilføjer SymPy muligheden for symbolske variable, f.eks. svarende til hvad vi normalt kalder en ubekendt i ligningsløsning eller den (uafhængige) variabel i en funktion. Vi ønsker således at have muligheden for angive en variabel som $x$ i $f(x) = x^2+3x-2$ og opfatte den som et abstrakt objekt i modsætning til at tildele $x$ en værdi. Den nemmeste måde at definere symboler på er at importere dem fra underbiblioteket <code>sympy.abc</code>, som indeholder de fleste symboler, som vi til dagligt bruger. Vi kan altså definere f.eks. $x, a, b$ og $\\phi$ som symboler ved at skrive:"
   ]
  },
  {
   "cell_type": "code",
   "execution_count": 72,
   "metadata": {
    "ExecuteTime": {
     "end_time": "2020-08-01T11:48:49.839463Z",
     "start_time": "2020-08-01T11:48:49.830630Z"
    }
   },
   "outputs": [],
   "source": [
    "from sympy.abc import x, a, b, phi"
   ]
  },
  {
   "cell_type": "markdown",
   "metadata": {},
   "source": [
    "Nu kan vi benytte disse variable i beregninger:"
   ]
  },
  {
   "cell_type": "code",
   "execution_count": 73,
   "metadata": {
    "ExecuteTime": {
     "end_time": "2020-08-01T11:48:50.455252Z",
     "start_time": "2020-08-01T11:48:49.843413Z"
    }
   },
   "outputs": [
    {
     "data": {
      "image/png": "[encoded data removed]",
      "text/latex": [
       "$\\displaystyle a + b + \\phi$"
      ],
      "text/plain": [
       "a + b + φ"
      ]
     },
     "execution_count": 73,
     "metadata": {
      "filenames": {
       "image/png": "/home/johannbs/projects/NBI_python/_build/jupyter_execute/notebooks/sympy/Notebook2_9_0.png"
      }
     },
     "output_type": "execute_result"
    }
   ],
   "source": [
    "a + b + phi # Vi kan lægge dem sammen"
   ]
  },
  {
   "cell_type": "markdown",
   "metadata": {},
   "source": [
    "Vi kan også danne nye udtryk med symbolske værdier. Udtrykkene kan sættes sammen ved at benytte normale Python-operationer såsom: <code>+</code>, <code>-</code>, <code>*</code>,<code>/</code> eller <code>**</code>. Derudover kan vi benytte en del andre regneoperationer ved at skrive <code>sp.</code> foran operationen. \n",
    "Her er samlet de typiske regneoperationer, som man kan finde i SymPy\n",
    "- Kvadratrødder: <code>sp.sqrt(x)</code> (benyt sp.root(x, n) til at tage n'te rod af x)\n",
    "- Trigonometriske funktioner: <code>sp.cos(x), sp.sin(x), sp.tan(x)</code>. (de inverse findes ved eksempelvis <code>acos(x)</code>)\n",
    "- Exponentialfunktion <code>sp.exp(x)</code>\n",
    "- Logaritmer: <code>sp.log(x)</code>. For at få 10-talslogaritmefunktionen skrives <code>log(x, 10)</code>\n",
    "\n",
    "En mere omfattende [liste over regneoperationer kan findes her.](https://docs.sympy.org/latest/modules/functions/elementary.html)\n",
    "\n",
    "Så eksempelvis, kan vi sammensætte et udtryk ved at benytte exponentialfunktionen <code>sp.exp</code> sammen med vores symboler:  "
   ]
  },
  {
   "cell_type": "code",
   "execution_count": 74,
   "metadata": {
    "ExecuteTime": {
     "end_time": "2020-08-01T11:48:50.555035Z",
     "start_time": "2020-08-01T11:48:50.457867Z"
    }
   },
   "outputs": [
    {
     "data": {
      "image/png": "[encoded data removed]",
      "text/latex": [
       "$\\displaystyle a e^{\\phi + 2 x}$"
      ],
      "text/plain": [
       "   φ + 2⋅x\n",
       "a⋅ℯ       "
      ]
     },
     "execution_count": 74,
     "metadata": {
      "filenames": {
       "image/png": "/home/johannbs/projects/NBI_python/_build/jupyter_execute/notebooks/sympy/Notebook2_11_0.png"
      }
     },
     "output_type": "execute_result"
    }
   ],
   "source": [
    "a * sp.exp(2*x + phi)"
   ]
  },
  {
   "cell_type": "markdown",
   "metadata": {},
   "source": [
    "Vi kan også danne nye symbolske variable ud fra eksisterende variable. Vi kan f.eks. definere en funktion $f$ baseret på tal og eksisterende symbolske variable:"
   ]
  },
  {
   "cell_type": "code",
   "execution_count": 75,
   "metadata": {
    "ExecuteTime": {
     "end_time": "2020-08-01T11:48:50.562096Z",
     "start_time": "2020-08-01T11:48:50.557743Z"
    }
   },
   "outputs": [],
   "source": [
    "f = a * sp.exp(2*x + phi)"
   ]
  },
  {
   "cell_type": "markdown",
   "metadata": {},
   "source": [
    "Bemærk at vi ikke behøver at definere $f$ som symbolsk variabel. Python/SymPy kan godt regne ud at f bliver en symbolsk variabel idet den er opbygget af andre symbolske variable. Resultatet kan vises med <code>display()</code>-funktionen:"
   ]
  },
  {
   "cell_type": "code",
   "execution_count": 76,
   "metadata": {
    "ExecuteTime": {
     "end_time": "2020-08-01T11:48:50.659625Z",
     "start_time": "2020-08-01T11:48:50.565212Z"
    }
   },
   "outputs": [
    {
     "data": {
      "image/png": "[encoded data removed]",
      "text/latex": [
       "$\\displaystyle a e^{\\phi + 2 x}$"
      ],
      "text/plain": [
       "   φ + 2⋅x\n",
       "a⋅ℯ       "
      ]
     },
     "metadata": {
      "filenames": {
       "image/png": "/home/johannbs/projects/NBI_python/_build/jupyter_execute/notebooks/sympy/Notebook2_15_0.png"
      }
     },
     "output_type": "display_data"
    }
   ],
   "source": [
    "display(f)"
   ]
  },
  {
   "cell_type": "markdown",
   "metadata": {},
   "source": [
    "### Eksakt repræsentation af tal"
   ]
  },
  {
   "cell_type": "markdown",
   "metadata": {},
   "source": [
    "Python opfatter <code>/</code> som en numerisk operation, og nå vi vil have eksakte tal-brøker, må vi eksplicit bede SymPy om at opfatte dem som sådan ved hjælp af <code>Rational(a, b)</code>"
   ]
  },
  {
   "cell_type": "code",
   "execution_count": 77,
   "metadata": {
    "ExecuteTime": {
     "end_time": "2020-08-01T11:48:50.746985Z",
     "start_time": "2020-08-01T11:48:50.661905Z"
    }
   },
   "outputs": [
    {
     "data": {
      "image/png": "[encoded data removed]",
      "text/latex": [
       "$\\displaystyle \\frac{1}{3}$"
      ],
      "text/plain": [
       "1/3"
      ]
     },
     "metadata": {
      "filenames": {
       "image/png": "/home/johannbs/projects/NBI_python/_build/jupyter_execute/notebooks/sympy/Notebook2_18_0.png"
      }
     },
     "output_type": "display_data"
    }
   ],
   "source": [
    "brøk = sp.Rational(1, 3)\n",
    "display(brøk)"
   ]
  },
  {
   "cell_type": "markdown",
   "metadata": {},
   "source": [
    "En brøk bestående bestående af symboler lider ikke under samme problem, så der kan vi bare bruge almindelig division. "
   ]
  },
  {
   "cell_type": "code",
   "execution_count": 78,
   "metadata": {},
   "outputs": [
    {
     "data": {
      "image/png": "[encoded data removed]",
      "text/latex": [
       "$\\displaystyle \\frac{a}{b}$"
      ],
      "text/plain": [
       "a\n",
       "─\n",
       "b"
      ]
     },
     "metadata": {
      "filenames": {
       "image/png": "/home/johannbs/projects/NBI_python/_build/jupyter_execute/notebooks/sympy/Notebook2_20_0.png"
      }
     },
     "output_type": "display_data"
    }
   ],
   "source": [
    "c = a/b\n",
    "display(c)"
   ]
  },
  {
   "cell_type": "markdown",
   "metadata": {},
   "source": [
    "Vi kan regne med brøkerne ved hjælp af de almindelige regnearter:"
   ]
  },
  {
   "cell_type": "code",
   "execution_count": 79,
   "metadata": {
    "ExecuteTime": {
     "end_time": "2020-08-01T11:48:50.848841Z",
     "start_time": "2020-08-01T11:48:50.751659Z"
    }
   },
   "outputs": [
    {
     "data": {
      "image/png": "[encoded data removed]",
      "text/latex": [
       "$\\displaystyle - \\frac{1}{15}$"
      ],
      "text/plain": [
       "-1/15"
      ]
     },
     "metadata": {
      "filenames": {
       "image/png": "/home/johannbs/projects/NBI_python/_build/jupyter_execute/notebooks/sympy/Notebook2_22_0.png"
      }
     },
     "output_type": "display_data"
    },
    {
     "data": {
      "image/png": "[encoded data removed]",
      "text/latex": [
       "$\\displaystyle \\frac{a}{3 b} - \\frac{2}{5}$"
      ],
      "text/plain": [
       " a    2\n",
       "─── - ─\n",
       "3⋅b   5"
      ]
     },
     "metadata": {
      "filenames": {
       "image/png": "/home/johannbs/projects/NBI_python/_build/jupyter_execute/notebooks/sympy/Notebook2_22_1.png"
      }
     },
     "output_type": "display_data"
    }
   ],
   "source": [
    "p = sp.Rational(1, 3)\n",
    "q = sp.Rational(2, 5)\n",
    "display(p - q)\n",
    "\n",
    "p = sp.Rational(1, 3)\n",
    "q = sp.Rational(2, 5)\n",
    "display(p*a/b - q)"
   ]
  },
  {
   "cell_type": "markdown",
   "metadata": {},
   "source": [
    "Vi får ofte brug for eksakte værdier af $\\pi$ og evt. andre særlige tal. En eksakt værdi af $\\pi$ får vi ved at skrive <code>from sympy import pi</code>. Når vi sammensætter symbolske variable og $\\pi$ med tal i brøker, kan vi som nævnt ovenfor godt bruge almindelige division istedet for <code>sp.Rational(tæller, nævner)</code>, da Python på grund af symbolerne ikke kan behandle udtrykkene som numerisk repræsenterede tal (_floats_):"
   ]
  },
  {
   "cell_type": "code",
   "execution_count": 80,
   "metadata": {
    "ExecuteTime": {
     "end_time": "2020-08-01T11:48:50.960165Z",
     "start_time": "2020-08-01T11:48:50.854579Z"
    }
   },
   "outputs": [
    {
     "data": {
      "image/png": "[encoded data removed]",
      "text/latex": [
       "$\\displaystyle \\frac{\\sqrt{3} \\pi}{2}$"
      ],
      "text/plain": [
       "√3⋅π\n",
       "────\n",
       " 2  "
      ]
     },
     "metadata": {
      "filenames": {
       "image/png": "/home/johannbs/projects/NBI_python/_build/jupyter_execute/notebooks/sympy/Notebook2_24_0.png"
      }
     },
     "output_type": "display_data"
    }
   ],
   "source": [
    "from sympy import pi\n",
    "value = sp.sqrt(3) * pi / 2\n",
    "display(value)"
   ]
  },
  {
   "cell_type": "markdown",
   "metadata": {},
   "source": [
    "Desuden kan vi hente nogle andre brugbare symboler fra SymPy, som eksempelvis uendelig, <code>oo</code> (der skrives som to små o'er og ligner et uendelighedstegn hvis man har lidt fantasi)."
   ]
  },
  {
   "cell_type": "code",
   "execution_count": 81,
   "metadata": {
    "ExecuteTime": {
     "end_time": "2020-08-01T11:48:51.050352Z",
     "start_time": "2020-08-01T11:48:50.962632Z"
    }
   },
   "outputs": [
    {
     "data": {
      "image/png": "[encoded data removed]",
      "text/latex": [
       "$\\displaystyle 0$"
      ],
      "text/plain": [
       "0"
      ]
     },
     "execution_count": 81,
     "metadata": {
      "filenames": {
       "image/png": "/home/johannbs/projects/NBI_python/_build/jupyter_execute/notebooks/sympy/Notebook2_26_0.png"
      }
     },
     "output_type": "execute_result"
    }
   ],
   "source": [
    "from sympy import oo # Importer værdien uendelig\n",
    "1 / oo               # 1 divideret med uendelig giver 0, i hvert tilfælde for fysikere :o)"
   ]
  },
  {
   "cell_type": "markdown",
   "metadata": {},
   "source": [
    "På samme måde kan vi også importere den imaginære enhed $i = \\sqrt{-1}$, som i SymPy er angivet ved et stort <code>I</code>. Hvis man hellere vil lave numeriske beregninger med komplekse tal, benytter man i stedet <code>j</code> og kan f.eks. skrive <code>2 + 3j</code>. _Hvis du ikke kender til de komplekse talk, så gå ikke i panik. De bliver introduceret i slutningen af blok 1_"
   ]
  },
  {
   "cell_type": "code",
   "execution_count": 82,
   "metadata": {
    "ExecuteTime": {
     "end_time": "2020-08-01T11:48:51.247787Z",
     "start_time": "2020-08-01T11:48:51.052987Z"
    }
   },
   "outputs": [
    {
     "data": {
      "image/png": "[encoded data removed]",
      "text/latex": [
       "$\\displaystyle 3 + 3 i$"
      ],
      "text/plain": [
       "3 + 3⋅ⅈ"
      ]
     },
     "metadata": {
      "filenames": {
       "image/png": "/home/johannbs/projects/NBI_python/_build/jupyter_execute/notebooks/sympy/Notebook2_28_0.png"
      }
     },
     "output_type": "display_data"
    },
    {
     "data": {
      "image/png": "[encoded data removed]",
      "text/latex": [
       "$\\displaystyle 1 - 2 i$"
      ],
      "text/plain": [
       "1 - 2⋅ⅈ"
      ]
     },
     "metadata": {
      "filenames": {
       "image/png": "/home/johannbs/projects/NBI_python/_build/jupyter_execute/notebooks/sympy/Notebook2_28_1.png"
      }
     },
     "output_type": "display_data"
    }
   ],
   "source": [
    "from sympy import I # Importer I\n",
    "z = 3 + 3 * I       # definer to tal\n",
    "q = 1 - 2 * I\n",
    "display(z, q)       # Vi viser dem med display()"
   ]
  },
  {
   "cell_type": "markdown",
   "metadata": {},
   "source": [
    "Vi vil vende tilbage til imaginære tal i SymPy i en senere notebook."
   ]
  },
  {
   "cell_type": "markdown",
   "metadata": {},
   "source": [
    "## Evaluer udtryk"
   ]
  },
  {
   "cell_type": "markdown",
   "metadata": {},
   "source": [
    "Forestil dig at vi har et symbolsk udtryk, der indeholder den variable $a$, og vi ønsker at indsætte værdien $a = 2$. Til dette vil vi nu indføre de to metoder <code>.subs()</code> og <code>.evalf()</code>. For et udtryk $f$, som eksempelvis kunne være <code>f = a ** 2 + b</code>, kan vi indsætte $a = 2$ ved at skrive <code>f.subs(a, 2)</code>."
   ]
  },
  {
   "cell_type": "markdown",
   "metadata": {},
   "source": [
    "### Symbolsk substituering\n",
    "Vi kunne for eksempel for et udtryk $cos(x \\cdot \\pi / 4)$ ønske at finde værdien for forskellige værdier af x:"
   ]
  },
  {
   "cell_type": "code",
   "execution_count": 83,
   "metadata": {
    "ExecuteTime": {
     "end_time": "2020-08-01T11:48:51.454987Z",
     "start_time": "2020-08-01T11:48:51.250280Z"
    }
   },
   "outputs": [
    {
     "data": {
      "image/png": "[encoded data removed]",
      "text/latex": [
       "$\\displaystyle \\cos{\\left(\\frac{\\pi x}{4} \\right)}$"
      ],
      "text/plain": [
       "   ⎛π⋅x⎞\n",
       "cos⎜───⎟\n",
       "   ⎝ 4 ⎠"
      ]
     },
     "metadata": {
      "filenames": {
       "image/png": "/home/johannbs/projects/NBI_python/_build/jupyter_execute/notebooks/sympy/Notebook2_33_0.png"
      }
     },
     "output_type": "display_data"
    },
    {
     "data": {
      "image/png": "[encoded data removed]",
      "text/latex": [
       "$\\displaystyle \\frac{\\sqrt{2}}{2}$"
      ],
      "text/plain": [
       "√2\n",
       "──\n",
       "2 "
      ]
     },
     "metadata": {
      "filenames": {
       "image/png": "/home/johannbs/projects/NBI_python/_build/jupyter_execute/notebooks/sympy/Notebook2_33_1.png"
      }
     },
     "output_type": "display_data"
    }
   ],
   "source": [
    "# Vi definerer funktionen f:\n",
    "f = sp.cos(x * pi / 4)\n",
    "display(f)\n",
    "\n",
    "# Vi kan nu finde værdien, hvis x var 2 ved at skrive:\n",
    "display(f.subs(x, 1))"
   ]
  },
  {
   "cell_type": "markdown",
   "metadata": {},
   "source": [
    "Vi kan også indsætte et udtryk ind i et andet:"
   ]
  },
  {
   "cell_type": "code",
   "execution_count": 84,
   "metadata": {
    "ExecuteTime": {
     "end_time": "2020-08-01T11:48:51.834873Z",
     "start_time": "2020-08-01T11:48:51.457657Z"
    }
   },
   "outputs": [
    {
     "data": {
      "image/png": "[encoded data removed]",
      "text/latex": [
       "$\\displaystyle a b x + x$"
      ],
      "text/plain": [
       "a⋅b⋅x + x"
      ]
     },
     "metadata": {
      "filenames": {
       "image/png": "/home/johannbs/projects/NBI_python/_build/jupyter_execute/notebooks/sympy/Notebook2_35_0.png"
      }
     },
     "output_type": "display_data"
    },
    {
     "data": {
      "image/png": "[encoded data removed]",
      "text/latex": [
       "$\\displaystyle b^{2} + c^{2}$"
      ],
      "text/plain": [
       " 2    2\n",
       "b  + c "
      ]
     },
     "metadata": {
      "filenames": {
       "image/png": "/home/johannbs/projects/NBI_python/_build/jupyter_execute/notebooks/sympy/Notebook2_35_1.png"
      }
     },
     "output_type": "display_data"
    },
    {
     "data": {
      "image/png": "[encoded data removed]",
      "text/latex": [
       "$\\displaystyle a b \\left(b^{2} + c^{2}\\right) + b^{2} + c^{2}$"
      ],
      "text/plain": [
       "    ⎛ 2    2⎞    2    2\n",
       "a⋅b⋅⎝b  + c ⎠ + b  + c "
      ]
     },
     "execution_count": 84,
     "metadata": {
      "filenames": {
       "image/png": "/home/johannbs/projects/NBI_python/_build/jupyter_execute/notebooks/sympy/Notebook2_35_2.png"
      }
     },
     "output_type": "execute_result"
    }
   ],
   "source": [
    "from sympy.abc import x, a, b, c    # Vi har allerede x, a, og b til rådighed fra ovenfor, men skal have c med.\n",
    "f = a * b * x + x\n",
    "display(f)\n",
    "\n",
    "g = b ** 2 + c ** 2\n",
    "display(g)\n",
    "\n",
    "f.subs(x, g)"
   ]
  },
  {
   "cell_type": "markdown",
   "metadata": {},
   "source": [
    "Her har vi altså defineret to udtryk og erstattet alle forekomster af x i det første udtryk med $g = a^2 + b^2$. Vi kunne have opået det samme (nemmere, men mindre generelt) ved at skrive:"
   ]
  },
  {
   "cell_type": "code",
   "execution_count": 85,
   "metadata": {
    "ExecuteTime": {
     "end_time": "2020-08-01T11:48:51.940073Z",
     "start_time": "2020-08-01T11:48:51.837110Z"
    }
   },
   "outputs": [
    {
     "data": {
      "image/png": "[encoded data removed]",
      "text/latex": [
       "$\\displaystyle a b \\left(b^{2} + c^{2}\\right) + b^{2} + c^{2}$"
      ],
      "text/plain": [
       "    ⎛ 2    2⎞    2    2\n",
       "a⋅b⋅⎝b  + c ⎠ + b  + c "
      ]
     },
     "metadata": {
      "filenames": {
       "image/png": "/home/johannbs/projects/NBI_python/_build/jupyter_execute/notebooks/sympy/Notebook2_37_0.png"
      }
     },
     "output_type": "display_data"
    }
   ],
   "source": [
    "g = b ** 2 + c ** 2\n",
    "f = a * b * g + g\n",
    "\n",
    "display(f)"
   ]
  },
  {
   "cell_type": "markdown",
   "metadata": {},
   "source": [
    "### Numerisk evaluering"
   ]
  },
  {
   "cell_type": "markdown",
   "metadata": {},
   "source": [
    "Når vi har et matematisk udtryk, er det en fordel også at kunne finde en numerisk approksimation. Til at gøre dette benytter vi metoden <code>.evalf(cifre)</code>, som giver en approksimation med det angivne antal cifre. Det simpleste eksempel er, hvis vi ønsker at finde det første 10 cifre af pi:"
   ]
  },
  {
   "cell_type": "code",
   "execution_count": 86,
   "metadata": {
    "ExecuteTime": {
     "end_time": "2020-08-01T11:48:52.035608Z",
     "start_time": "2020-08-01T11:48:51.942178Z"
    }
   },
   "outputs": [
    {
     "data": {
      "image/png": "[encoded data removed]",
      "text/latex": [
       "$\\displaystyle 3.141592654$"
      ],
      "text/plain": [
       "3.141592654"
      ]
     },
     "execution_count": 86,
     "metadata": {
      "filenames": {
       "image/png": "/home/johannbs/projects/NBI_python/_build/jupyter_execute/notebooks/sympy/Notebook2_40_0.png"
      }
     },
     "output_type": "execute_result"
    }
   ],
   "source": [
    "pi.evalf(10)         # evalf(10), giver os de første 10 cifre"
   ]
  },
  {
   "cell_type": "markdown",
   "metadata": {},
   "source": [
    "Vi kan benytte de to metoder i kombination, hvis vi eksempelvis vil finde værdien af et udtryk og så approksimere det."
   ]
  },
  {
   "cell_type": "code",
   "execution_count": 87,
   "metadata": {
    "ExecuteTime": {
     "end_time": "2020-08-01T11:48:52.306146Z",
     "start_time": "2020-08-01T11:48:52.038155Z"
    },
    "scrolled": true
   },
   "outputs": [
    {
     "data": {
      "image/png": "[encoded data removed]",
      "text/latex": [
       "$\\displaystyle e^{\\frac{x}{5}}$"
      ],
      "text/plain": [
       " x\n",
       " ─\n",
       " 5\n",
       "ℯ "
      ]
     },
     "metadata": {
      "filenames": {
       "image/png": "/home/johannbs/projects/NBI_python/_build/jupyter_execute/notebooks/sympy/Notebook2_42_0.png"
      }
     },
     "output_type": "display_data"
    },
    {
     "data": {
      "image/png": "[encoded data removed]",
      "text/latex": [
       "$\\displaystyle e^{\\frac{3}{5}}$"
      ],
      "text/plain": [
       " 3/5\n",
       "ℯ   "
      ]
     },
     "metadata": {
      "filenames": {
       "image/png": "/home/johannbs/projects/NBI_python/_build/jupyter_execute/notebooks/sympy/Notebook2_42_1.png"
      }
     },
     "output_type": "display_data"
    },
    {
     "data": {
      "image/png": "[encoded data removed]",
      "text/latex": [
       "$\\displaystyle 1.82$"
      ],
      "text/plain": [
       "1.82"
      ]
     },
     "execution_count": 87,
     "metadata": {
      "filenames": {
       "image/png": "/home/johannbs/projects/NBI_python/_build/jupyter_execute/notebooks/sympy/Notebook2_42_2.png"
      }
     },
     "output_type": "execute_result"
    }
   ],
   "source": [
    "f = sp.exp(x / 5)\n",
    "display(f)\n",
    "\n",
    "f_3 = f.subs(x, 3) # Substituerer x med 3 og gemmer det i en variabel, der hedder f_3.\n",
    "# Det er sådan vi gerne vil have svaret skrevet i pointopgaverne i LinALys: så simpelt som muligt men stadig eksakt.\n",
    "display(f_3)\n",
    "\n",
    "f_3.evalf(3) # Lad os finde værdien som decimaltal med 3 cifre.\n",
    "# ... hvilket er praktisk f.eks. hvis vi skulle tegne resultatet ind i en illustration"
   ]
  },
  {
   "cell_type": "markdown",
   "metadata": {},
   "source": [
    "## Grænser\n",
    "En anden anvendelse af symbolske udtryk er beregning af grænseværdier. Fokus i kurset er på beregning af grænseværdier med papir og blyant, men det er godt at kunne checke sine resultater eller lave mere avancerede beregninger med SymPy. Dette gøres relativt nemt ved at benytte <code>sp.limit</code>-funktionen. Syntaksen er \n",
    "<code>sp.limit(udtryk, variabel, grænse for variabel, retning)</code>. Efterlades retningen blank, beregnes grænseværdien oppefra / fra højre, og man får _ingen advarsel_ selvom grænseværdierne fra henholdsvis højre og venstre er forskellige.\n",
    "\n",
    "Hvis vi nu eksempelvis vil beregne $\\lim_{x\\to 0} e^{-x}$ skriver vi:"
   ]
  },
  {
   "cell_type": "code",
   "execution_count": 88,
   "metadata": {
    "ExecuteTime": {
     "end_time": "2020-08-02T18:37:36.977594Z",
     "start_time": "2020-08-02T18:37:36.567383Z"
    }
   },
   "outputs": [
    {
     "data": {
      "image/png": "[encoded data removed]",
      "text/latex": [
       "$\\displaystyle 1$"
      ],
      "text/plain": [
       "1"
      ]
     },
     "metadata": {
      "filenames": {
       "image/png": "/home/johannbs/projects/NBI_python/_build/jupyter_execute/notebooks/sympy/Notebook2_44_0.png"
      }
     },
     "output_type": "display_data"
    },
    {
     "data": {
      "image/png": "[encoded data removed]",
      "text/latex": [
       "$\\displaystyle 1$"
      ],
      "text/plain": [
       "1"
      ]
     },
     "metadata": {
      "filenames": {
       "image/png": "/home/johannbs/projects/NBI_python/_build/jupyter_execute/notebooks/sympy/Notebook2_44_1.png"
      }
     },
     "output_type": "display_data"
    }
   ],
   "source": [
    "expr = sp.exp(-x)                    # Definer udtryk\n",
    "display(sp.limit(expr, x, 0, '+'))   # Beregn og vis grænseværdien af udtrykket for x gående mod 0 oppefra ...\n",
    "display(sp.limit(expr, x, 0, '-'))   # ... og nedenfra"
   ]
  },
  {
   "cell_type": "markdown",
   "metadata": {},
   "source": [
    "hvilket ikke er den store overraskelse, eftersom $e^{-x}$ er defineret i $x=0$, er kontinuert, og $e^0=1$.\n",
    "\n",
    "Vi kan også beregne grænseværdier for $x\\to\\infty$:"
   ]
  },
  {
   "cell_type": "code",
   "execution_count": 89,
   "metadata": {},
   "outputs": [
    {
     "data": {
      "image/png": "[encoded data removed]",
      "text/latex": [
       "$\\displaystyle 0$"
      ],
      "text/plain": [
       "0"
      ]
     },
     "execution_count": 89,
     "metadata": {
      "filenames": {
       "image/png": "/home/johannbs/projects/NBI_python/_build/jupyter_execute/notebooks/sympy/Notebook2_46_0.png"
      }
     },
     "output_type": "execute_result"
    }
   ],
   "source": [
    "sp.limit(expr, x, oo)    # grænsen af udtrykket for x gående mod uendelig. Vi angiver ingen retning."
   ]
  },
  {
   "cell_type": "markdown",
   "metadata": {},
   "source": [
    "Vær særligt opmærksom på situationer, hvor grænseværdien kunne være forskellig oppefra og nedefra, hvilket oftest forkommer for udtryk på brøkform i det/de $x$-værdier, hvor nævneren antager værdien nul. Betragt f.eks. $\\displaystyle \\frac{x^{4} + x^{2} + 1}{3 x^{3} - 19 x^{2} - x}$ når $x \\to 0$:"
   ]
  },
  {
   "cell_type": "code",
   "execution_count": 90,
   "metadata": {
    "ExecuteTime": {
     "end_time": "2020-08-02T18:37:37.239187Z",
     "start_time": "2020-08-02T18:37:36.981963Z"
    }
   },
   "outputs": [
    {
     "data": {
      "image/png": "[encoded data removed]",
      "text/latex": [
       "$\\displaystyle \\frac{x^{4} + x^{2} + 1}{3 x^{3} - 19 x^{2} - x}$"
      ],
      "text/plain": [
       "   4    2       \n",
       "  x  + x  + 1   \n",
       "────────────────\n",
       "   3       2    \n",
       "3⋅x  - 19⋅x  - x"
      ]
     },
     "metadata": {
      "filenames": {
       "image/png": "/home/johannbs/projects/NBI_python/_build/jupyter_execute/notebooks/sympy/Notebook2_48_0.png"
      }
     },
     "output_type": "display_data"
    },
    {
     "data": {
      "image/png": "[encoded data removed]",
      "text/latex": [
       "$\\displaystyle -\\infty$"
      ],
      "text/plain": [
       "-∞"
      ]
     },
     "execution_count": 90,
     "metadata": {
      "filenames": {
       "image/png": "/home/johannbs/projects/NBI_python/_build/jupyter_execute/notebooks/sympy/Notebook2_48_1.png"
      }
     },
     "output_type": "execute_result"
    }
   ],
   "source": [
    "# Definer tæller og nævner hver for sig\n",
    "poly1 = x ** 4 + x ** 2 + 1\n",
    "poly2 = 3* x ** 3 - 19 * x **2  - x\n",
    "\n",
    "# Kombiner dem til det ønskede udtryk og udskriv udtrykket til skærmen\n",
    "poly_div = poly1 / poly2\n",
    "display(poly_div)\n",
    "\n",
    "# Tag grænsen af udtrykket, når x går mod 0 først oppefra / fra højre \n",
    "sp.limit(poly_div, x, 0, '+')"
   ]
  },
  {
   "cell_type": "code",
   "execution_count": 91,
   "metadata": {
    "ExecuteTime": {
     "end_time": "2020-08-02T18:37:37.239187Z",
     "start_time": "2020-08-02T18:37:36.981963Z"
    }
   },
   "outputs": [
    {
     "data": {
      "image/png": "[encoded data removed]",
      "text/latex": [
       "$\\displaystyle \\infty$"
      ],
      "text/plain": [
       "∞"
      ]
     },
     "execution_count": 91,
     "metadata": {
      "filenames": {
       "image/png": "/home/johannbs/projects/NBI_python/_build/jupyter_execute/notebooks/sympy/Notebook2_49_0.png"
      }
     },
     "output_type": "execute_result"
    }
   ],
   "source": [
    "# ... og dernæst nedefra / fra venstre:\n",
    "sp.limit(poly_div, x, 0, '-')"
   ]
  },
  {
   "cell_type": "markdown",
   "metadata": {},
   "source": [
    "## Anbefalet import-blok"
   ]
  },
  {
   "cell_type": "markdown",
   "metadata": {},
   "source": [
    "Igennem notebooken ovenfor har vi oprettet variable flere gange for at vise ret lokalt, hvad der skulle importeres for at køre en bestemt bid kode. Det er dog ikke nødvendigt at importere ting mere end en gang, så hvis man har en god idé om, hvad der skal importeres på forhånd, kan man gøre dette i starten af sin notebook. \n",
    "Herunder er der et godt forslag til, hvad man kan importere i starten af en notebook, der skal bruges til at løse opgaver i LinaLys:"
   ]
  },
  {
   "cell_type": "code",
   "execution_count": 92,
   "metadata": {},
   "outputs": [],
   "source": [
    "import sympy as sp                    # Importer sympy\n",
    "from sympy.abc import x               # Vi henter vores variabel. Tilføj blot alle de variable, ubekendte, parametre, konstanter osv., du har brug for\n",
    "from sympy import oo, pi, I           # Vi importerer uendelig, pi og den imaginære konstant I \n",
    "\n",
    "sp.init_printing()                    # Aktiver pretty-printing\n",
    "from IPython.display import display   # Hent vores printer til matematiske udtryk"
   ]
  },
  {
   "cell_type": "markdown",
   "metadata": {},
   "source": [
    "Her er SymPy importeret som <code>sp</code>, så vi kan bruge SymPy funktioner uden at skulle skrive så meget. Derudover har vi importeret $x$, som en variabel og $\\infty, \\pi$ og $i$. Derudover er der blevet aktiveret printe-funktionerne i Sympy."
   ]
  }
 ],
 "metadata": {
  "kernelspec": {
   "display_name": "Python 3",
   "language": "python",
   "name": "python3"
  },
  "language_info": {
   "codemirror_mode": {
    "name": "ipython",
    "version": 3
   },
   "file_extension": ".py",
   "mimetype": "text/x-python",
   "name": "python",
   "nbconvert_exporter": "python",
   "pygments_lexer": "ipython3",
   "version": "3.8.3"
  },
  "latex_envs": {
   "LaTeX_envs_menu_present": true,
   "autoclose": false,
   "autocomplete": true,
   "bibliofile": "biblio.bib",
   "cite_by": "apalike",
   "current_citInitial": 1,
   "eqLabelWithNumbers": true,
   "eqNumInitial": 1,
   "hotkeys": {
    "equation": "Ctrl-E",
    "itemize": "Ctrl-I"
   },
   "labels_anchors": false,
   "latex_user_defs": false,
   "report_style_numbering": false,
   "user_envs_cfg": false
  },
  "toc": {
   "base_numbering": 1,
   "nav_menu": {},
   "number_sections": true,
   "sideBar": true,
   "skip_h1_title": true,
   "title_cell": "Indholdsfortegnelse",
   "title_sidebar": "Contents",
   "toc_cell": false,
   "toc_position": {},
   "toc_section_display": true,
   "toc_window_display": true
  }
 },
 "nbformat": 4,
 "nbformat_minor": 4
}