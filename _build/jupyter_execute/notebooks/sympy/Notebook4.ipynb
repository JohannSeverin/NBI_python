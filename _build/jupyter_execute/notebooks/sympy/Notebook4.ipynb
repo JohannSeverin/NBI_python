{
 "cells": [
  {
   "cell_type": "markdown",
   "metadata": {},
   "source": [
    "# Differential- og integralregning (en variabel)"
   ]
  },
  {
   "cell_type": "markdown",
   "metadata": {},
   "source": [
    "Vi vil i denne notebook gennemgå hvordan vi benytter SymPy til at differentiere og integrere funktioner af en variabel, samt hvordan vi bestemmer Taylorpolynomier.\n",
    "\n",
    "For simpelhedens skyld vil vi i hele notebooken benytte $x$ som den uafhængige variabel, mens $a$, $b$, $A$ og $\\omega$ er konstanter. Vi starter med at importere SymPy og definere de variable"
   ]
  },
  {
   "cell_type": "code",
   "execution_count": 1,
   "metadata": {
    "ExecuteTime": {
     "end_time": "2020-09-10T13:46:46.575390Z",
     "start_time": "2020-09-10T13:46:45.665700Z"
    }
   },
   "outputs": [],
   "source": [
    "import sympy as sp                         # Importer sympy\n",
    "from sympy.abc import a, b, A, omega, x    # Vi definerer symboler, som vi kommer til at bruge\n",
    "from sympy import oo, pi                   # Vi importerer uendelig og pi"
   ]
  },
  {
   "cell_type": "markdown",
   "metadata": {},
   "source": [
    "## Reduktion"
   ]
  },
  {
   "cell_type": "markdown",
   "metadata": {},
   "source": [
    "SymPy viser differentierede eller integrerede funktioner på en måde, der nogle gange i højere grad afspejler den bagvedliggende algoritme end almindelig notationspraksis. Inden vi går i gang med at differentiere og integrere vil vi derfor først stifte bekendtskab med SymPys reduktions-værktøj.\n",
    "\n",
    "En reduktion foretages i SymPy ved at bruge <code>sp.simplify(udtryk)</code> eller `udtryk.simplify()` \n",
    "\n",
    "Eksempel: Reducér $2\\cos^2(x) + \\sin^2(x)$"
   ]
  },
  {
   "cell_type": "code",
   "execution_count": 2,
   "metadata": {
    "ExecuteTime": {
     "end_time": "2020-09-10T13:46:47.191734Z",
     "start_time": "2020-09-10T13:46:46.577560Z"
    }
   },
   "outputs": [
    {
     "data": {
      "text/latex": [
       "$\\displaystyle \\sin^{2}{\\left(x \\right)} + 2 \\cos^{2}{\\left(x \\right)}$"
      ],
      "text/plain": [
       "sin(x)**2 + 2*cos(x)**2"
      ]
     },
     "metadata": {},
     "output_type": "display_data"
    },
    {
     "data": {
      "text/latex": [
       "$\\displaystyle \\cos^{2}{\\left(x \\right)} + 1$"
      ],
      "text/plain": [
       "cos(x)**2 + 1"
      ]
     },
     "metadata": {},
     "output_type": "display_data"
    }
   ],
   "source": [
    "# Vi definerer funktionen f:\n",
    "f = 2 * sp.cos(x) ** 2 + sp.sin(x) ** 2\n",
    "display(f)\n",
    "\n",
    "# Vi reducere det nu\n",
    "f_reduced = sp.simplify(f)\n",
    "display(f_reduced)"
   ]
  },
  {
   "cell_type": "markdown",
   "metadata": {},
   "source": [
    "Bemærk først at SymPy viser ledene i det oprindelige udtryk i omvendt rækkefølge i forhold til hvordan vi skrev dem i definitionen. I reduktionstrinnet herefter anvender SymPy den trigonometriske identititet $\\cos^2(x) + \\sin^2(x) = 1$.\n",
    "\n",
    "Hvad der udgør et optimalt reduceret udtryk afgøres af SymPys algoritmer, hvilket ikke altid stemmer med vores egne præferencer. \n",
    "\n",
    "Et eksempel på dette kunne være følgende udtryk:"
   ]
  },
  {
   "cell_type": "code",
   "execution_count": 26,
   "metadata": {
    "ExecuteTime": {
     "end_time": "2020-09-10T13:46:47.474736Z",
     "start_time": "2020-09-10T13:46:47.194801Z"
    }
   },
   "outputs": [
    {
     "data": {
      "text/latex": [
       "$\\displaystyle - \\left(a - b + x\\right)^{3} + \\left(a + b + x\\right)^{3}$"
      ],
      "text/plain": [
       "-(a - b + x)**3 + (a + b + x)**3"
      ]
     },
     "metadata": {},
     "output_type": "display_data"
    },
    {
     "data": {
      "text/latex": [
       "$\\displaystyle - \\left(a - b + x\\right)^{3} + \\left(a + b + x\\right)^{3}$"
      ],
      "text/plain": [
       "-(a - b + x)**3 + (a + b + x)**3"
      ]
     },
     "metadata": {},
     "output_type": "display_data"
    }
   ],
   "source": [
    "udtryk1 = (x+a+b)**3 - (x+a-b)**3\n",
    "display(udtryk1)\n",
    "display(sp.simplify(udtryk1))"
   ]
  },
  {
   "cell_type": "markdown",
   "metadata": {},
   "source": [
    "SymPy foretrækker således denne form frem for den udgave, hvor parenteserne er ganget ud.\n",
    "Hvis man ønsker et udtryk af en særlig form, findes der relaterede funktioner i SymPy, der laver omskrivninger til mere specifikke formater. [Se en liste her](https://docs.sympy.org/latest/tutorial/simplification.html). I dette tilfælde kan man f.eks. bruge funktionen <code>expand</code>:"
   ]
  },
  {
   "cell_type": "code",
   "execution_count": 4,
   "metadata": {
    "ExecuteTime": {
     "end_time": "2020-09-10T13:46:47.587633Z",
     "start_time": "2020-09-10T13:46:47.477698Z"
    }
   },
   "outputs": [
    {
     "data": {
      "text/latex": [
       "$\\displaystyle 6 a^{2} b + 12 a b x + 2 b^{3} + 6 b x^{2}$"
      ],
      "text/plain": [
       "6*a**2*b + 12*a*b*x + 2*b**3 + 6*b*x**2"
      ]
     },
     "metadata": {},
     "output_type": "display_data"
    }
   ],
   "source": [
    "display(sp.expand(udtryk1))"
   ]
  },
  {
   "cell_type": "markdown",
   "metadata": {},
   "source": [
    "Hvis man blot skal tjekke et resultat uden at være interesseret i logikken bag omskrivningerne, kan det være praktisk at bruge det trick, som vi introducerer i eksemplet her:\n",
    "\n",
    "I en pointopgave uden hjælpemidler skal vi reducere udtrykket $(\\frac{1}{2}x+3a+3b)^2 - (\\frac{1}{2}x+a+b)^2$. \n",
    "\n",
    "Vi genkender i et lyst øjeblik den såkaldte tredje kvadratsætning $(c+d)\\cdot(c-d) = c^2-d^2$. \n",
    "\n",
    "Hvis vi sætter $c=\\frac{1}{2}x+3a+3b$ og $d=\\frac{1}{2}x+a+b$. Kan vi benytte følgende omskrivning:  \n",
    "\n",
    "$(c+d)\\cdot(c-d) = (x+4a+4b)\\cdot(2a+2b)$  \n",
    "\n",
    "Det er nydeligt, men vi vil gerne tjekke med Python:"
   ]
  },
  {
   "cell_type": "code",
   "execution_count": 5,
   "metadata": {
    "ExecuteTime": {
     "end_time": "2020-09-10T13:46:47.886922Z",
     "start_time": "2020-09-10T13:46:47.590871Z"
    }
   },
   "outputs": [
    {
     "data": {
      "text/latex": [
       "$\\displaystyle - \\left(a + b + \\frac{x}{2}\\right)^{2} + \\left(3 a + 3 b + \\frac{x}{2}\\right)^{2}$"
      ],
      "text/plain": [
       "-(a + b + x/2)**2 + (3*a + 3*b + x/2)**2"
      ]
     },
     "metadata": {},
     "output_type": "display_data"
    },
    {
     "data": {
      "text/latex": [
       "$\\displaystyle 8 a^{2} + 16 a b + 2 a x + 8 b^{2} + 2 b x$"
      ],
      "text/plain": [
       "8*a**2 + 16*a*b + 2*a*x + 8*b**2 + 2*b*x"
      ]
     },
     "metadata": {},
     "output_type": "display_data"
    }
   ],
   "source": [
    "udtryk2 = (x/2+3*a+3*b)**2 - (x/2+a+b)**2\n",
    "display(udtryk2)\n",
    "display(sp.expand(udtryk2))"
   ]
  },
  {
   "cell_type": "markdown",
   "metadata": {},
   "source": [
    "Dette er også et nydeligt udtryk, og uden at vi kender sammenhængen kan vi ikke afgøre hvilket et, der er det pæneste rent notationsmæssigt. Men hvis vi vil tjekke at de to udtryk er ens (f.eks. for at være sikker på at vi har regnet rigtigt), kunne vi nu gange $(x+4a+4b)\\cdot(2a+2b)$ ud og sammenligne led, men vi kan også blot beregne forskellen:"
   ]
  },
  {
   "cell_type": "code",
   "execution_count": 6,
   "metadata": {
    "ExecuteTime": {
     "end_time": "2020-09-10T13:46:48.019937Z",
     "start_time": "2020-09-10T13:46:47.889188Z"
    }
   },
   "outputs": [
    {
     "data": {
      "text/latex": [
       "$\\displaystyle 0$"
      ],
      "text/plain": [
       "0"
      ]
     },
     "metadata": {},
     "output_type": "display_data"
    }
   ],
   "source": [
    "udtryk3 = (x/2+3*a+3*b)**2 - (x/2+a+b)**2 - (x+4*a+4*b)*(2*a+2*b)\n",
    "display(sp.simplify(udtryk3))"
   ]
  },
  {
   "cell_type": "markdown",
   "metadata": {},
   "source": [
    "## Differentiation\n",
    "Syntaksen for differentiation ligner meget det, vi så, da vi beregnede grænseværdier (se [afsnittet om grænseværdier])(Notebook2_limits.ipynb). Vi benytter her funktionen <code>sp.diff()</code> og angiver udtryk og hvilken variabel, vi vil differentere efter: <code>sp.diff(udtryk, variabel)</code>.\n",
    "\n",
    "Hvis vi eksempelvis ønsker at differentiere $\\displaystyle b x^{a}$ med hensyn til $x$, kan vi altså gøre følgende:"
   ]
  },
  {
   "cell_type": "code",
   "execution_count": 7,
   "metadata": {
    "ExecuteTime": {
     "end_time": "2020-09-10T13:46:48.185090Z",
     "start_time": "2020-09-10T13:46:48.022011Z"
    }
   },
   "outputs": [
    {
     "data": {
      "text/latex": [
       "$\\displaystyle b x^{a}$"
      ],
      "text/plain": [
       "b*x**a"
      ]
     },
     "metadata": {},
     "output_type": "display_data"
    },
    {
     "data": {
      "text/latex": [
       "$\\displaystyle \\frac{a b x^{a}}{x}$"
      ],
      "text/plain": [
       "a*b*x**a/x"
      ]
     },
     "metadata": {},
     "output_type": "display_data"
    }
   ],
   "source": [
    "expr = b * x ** a                # Vi definerer udtrykket\n",
    "display(expr)\n",
    "\n",
    "diff_expr = sp.diff(expr, x)     # Her differentieres det\n",
    "display(diff_expr) "
   ]
  },
  {
   "cell_type": "markdown",
   "metadata": {},
   "source": [
    "Som kan simplificeres med <code>sp.simplify()</code>:"
   ]
  },
  {
   "cell_type": "code",
   "execution_count": 8,
   "metadata": {
    "ExecuteTime": {
     "end_time": "2020-09-10T13:46:48.297719Z",
     "start_time": "2020-09-10T13:46:48.189572Z"
    }
   },
   "outputs": [
    {
     "data": {
      "text/latex": [
       "$\\displaystyle a b x^{a - 1}$"
      ],
      "text/plain": [
       "a*b*x**(a - 1)"
      ]
     },
     "execution_count": 8,
     "metadata": {},
     "output_type": "execute_result"
    }
   ],
   "source": [
    "sp.simplify(diff_expr)"
   ]
  },
  {
   "cell_type": "markdown",
   "metadata": {},
   "source": [
    "Ønsker vi at differentiere en funktion flere gange, angiver vi blot antallet af gange, vi vil differentiere funktionen, som ekstra argument: <code>sp.diff(udtryk, variabel, antalgange)</code>. \n",
    "\n",
    "Eksempel: Lad os differentiere funktionen $f(x) = A \\cos(\\omega x)$ med hensyn til $x$ fem gange."
   ]
  },
  {
   "cell_type": "code",
   "execution_count": 9,
   "metadata": {
    "ExecuteTime": {
     "end_time": "2020-09-10T13:46:48.412405Z",
     "start_time": "2020-09-10T13:46:48.300545Z"
    }
   },
   "outputs": [
    {
     "data": {
      "text/latex": [
       "$\\displaystyle - A \\omega^{5} \\sin{\\left(\\omega x \\right)}$"
      ],
      "text/plain": [
       "-A*omega**5*sin(omega*x)"
      ]
     },
     "metadata": {},
     "output_type": "display_data"
    }
   ],
   "source": [
    "f = A * sp.cos(omega * x)      # Definer udtrykket\n",
    "diff_f5 = sp.diff(f, x, 5)     # Angiv differentieringen, med det ekstra argument: 5, for at differentiere fem gange\n",
    "display(diff_f5)"
   ]
  },
  {
   "cell_type": "markdown",
   "metadata": {},
   "source": [
    "Bemærk at SymPy godt kan snydes. Vi betragter f.eks. den stykvist lineære funktion fra notebooken i uge 3, og differentierer:"
   ]
  },
  {
   "cell_type": "code",
   "execution_count": 3,
   "metadata": {
    "ExecuteTime": {
     "end_time": "2020-09-10T14:49:03.846402Z",
     "start_time": "2020-09-10T14:49:03.421401Z"
    }
   },
   "outputs": [
    {
     "data": {
      "text/latex": [
       "$\\displaystyle \\begin{cases} -1 & \\text{for}\\: x < 4 \\\\x - 5 & \\text{otherwise} \\end{cases}$"
      ],
      "text/plain": [
       "Piecewise((-1, x < 4), (x - 5, True))"
      ]
     },
     "metadata": {},
     "output_type": "display_data"
    },
    {
     "data": {
      "text/latex": [
       "$\\displaystyle \\begin{cases} 0 & \\text{for}\\: x < 4 \\\\1 & \\text{otherwise} \\end{cases}$"
      ],
      "text/plain": [
       "Piecewise((0, x < 4), (1, True))"
      ]
     },
     "metadata": {},
     "output_type": "display_data"
    },
    {
     "data": {
      "image/png": "[encoded data removed]",
      "text/plain": [
       "<Figure size 432x288 with 1 Axes>"
      ]
     },
     "metadata": {
      "filenames": {
       "image/png": "/home/johannbs/temp/NBI_python/_build/jupyter_execute/notebooks/sympy/Notebook4_21_2.png"
      },
      "needs_background": "light"
     },
     "output_type": "display_data"
    }
   ],
   "source": [
    "g = sp.Piecewise((-1, x < 4), (x-5, x >= 4))\n",
    "display(g)\n",
    "\n",
    "diff_g = sp.diff(g, x)\n",
    "display(diff_g)\n",
    "\n",
    "from sympy.plotting import plot\n",
    "figur = plot(g, diff_g, (x, 0, 10), title = \"Gaffelfunktion\")"
   ]
  },
  {
   "cell_type": "markdown",
   "metadata": {},
   "source": [
    "Vi ser at SymPy håndterer differentiationen rimeligt godt, men at $g'(4)$ angives til 1 selvom $g$ ikke er differentiabel her. Den \"lodrette del af grafen\" ved $x=4$ burde også vække vores mistanke.\n",
    "\n",
    "Et andet relateret eksempel er funktionen $h(x) = \\frac{x^2-4}{x+2}$, som ikke er defineret for $x=-2$ fordi nævneren da bliver nul, men som for $x\\neq-2$ kan reduceres ved hjælp af tredje kvadratsætning (idet tælleren omskrives $x^2-4 = (x+2)(x-2)$) til $h(x) = x-2$. Vi beder SymPy om at differentiere hhv. med og uden efterfølgende reduktion af resultatet:"
   ]
  },
  {
   "cell_type": "code",
   "execution_count": 11,
   "metadata": {
    "ExecuteTime": {
     "end_time": "2020-09-10T14:43:04.624561Z",
     "start_time": "2020-09-10T14:43:04.397852Z"
    }
   },
   "outputs": [
    {
     "data": {
      "text/latex": [
       "$\\displaystyle \\frac{2 x}{x + 2} - \\frac{x^{2} - 4}{\\left(x + 2\\right)^{2}}$"
      ],
      "text/plain": [
       "2*x/(x + 2) - (x**2 - 4)/(x + 2)**2"
      ]
     },
     "metadata": {},
     "output_type": "display_data"
    },
    {
     "data": {
      "text/latex": [
       "$\\displaystyle 1$"
      ],
      "text/plain": [
       "1"
      ]
     },
     "metadata": {},
     "output_type": "display_data"
    }
   ],
   "source": [
    "display(sp.diff((x**2 - 4)/(x + 2)))\n",
    "display(sp.simplify(sp.diff((x**2 - 4)/(x + 2))))"
   ]
  },
  {
   "cell_type": "markdown",
   "metadata": {},
   "source": [
    "Vi ser at det første udtryk er korrekt, men at SymPy uden forbehold reducerer udtrykket uden hensyntagen til at $h(x)$ slet ikke er defineret for $x=-2$. Man skal altså selv være særlig opmærksom på punkter, hvor en givet funktion ikke er defineret eller ikke er differentiabel!"
   ]
  },
  {
   "cell_type": "markdown",
   "metadata": {},
   "source": [
    "## Taylorudvikling\n",
    "Vi kan benytte SymPy til at lave en Taylorudvikling for en given funktion omkring et punkt $x_0$. Dette gøres med <code>sp.series()</code>, der skal have argumenterne <code>sp.series(funktionsudtryk, variabelnavn, x_0, orden)</code>  .  \n",
    "Vi kan eksempevis udvikle $e^{3x}$ omkring $x_0=0$ til 5. orden ved at skrive:"
   ]
  },
  {
   "cell_type": "code",
   "execution_count": 12,
   "metadata": {
    "ExecuteTime": {
     "end_time": "2020-09-10T13:46:49.441856Z",
     "start_time": "2020-09-10T13:46:49.202287Z"
    }
   },
   "outputs": [
    {
     "data": {
      "text/latex": [
       "$\\displaystyle 1 + 3 x + \\frac{9 x^{2}}{2} + \\frac{9 x^{3}}{2} + \\frac{27 x^{4}}{8} + O\\left(x^{5}\\right)$"
      ],
      "text/plain": [
       "1 + 3*x + 9*x**2/2 + 9*x**3/2 + 27*x**4/8 + O(x**5)"
      ]
     },
     "metadata": {},
     "output_type": "display_data"
    }
   ],
   "source": [
    "expr = sp.exp(3*x)                    # Definer funktionsudtrykket. \n",
    "taylor_exp = sp.series(expr, x, 0, 5) # Lav en taylorrække omkring x_0 = 0 af udtrykket til 5. orden\n",
    "display(taylor_exp)                   # Vis udtrykket"
   ]
  },
  {
   "cell_type": "markdown",
   "metadata": {},
   "source": [
    "Et andet eksempel hvor leddene ikke præsenteres i samme logiske orden er udviklingen til 4. orden af funktionen $f(x) = \\frac{3}{1-3x}$ omkring $x_0 = 1$. "
   ]
  },
  {
   "cell_type": "code",
   "execution_count": 13,
   "metadata": {
    "ExecuteTime": {
     "end_time": "2020-09-10T13:46:49.769930Z",
     "start_time": "2020-09-10T13:46:49.444717Z"
    }
   },
   "outputs": [
    {
     "data": {
      "text/latex": [
       "$\\displaystyle - \\frac{15}{4} - \\frac{27 \\left(x - 1\\right)^{2}}{8} + \\frac{81 \\left(x - 1\\right)^{3}}{16} + \\frac{9 x}{4} + O\\left(\\left(x - 1\\right)^{4}; x\\rightarrow 1\\right)$"
      ],
      "text/plain": [
       "-15/4 - 27*(x - 1)**2/8 + 81*(x - 1)**3/16 + 9*x/4 + O((x - 1)**4, (x, 1))"
      ]
     },
     "metadata": {},
     "output_type": "display_data"
    }
   ],
   "source": [
    "expr = 3 / (1-3*x)                       # Definer\n",
    "taylor_expr = sp.series(expr, x, 1, 4)   # Beregn taylorudviklingen / Taylorrækken\n",
    "display(taylor_expr)                     # Vis"
   ]
  },
  {
   "cell_type": "markdown",
   "metadata": {},
   "source": [
    "Hvis vi skal regne videre med dette udtryk uden restleddet eller tegne grafer, kan vi fjerne restleddet ved at skrive <code>expr.removeO()</code>:"
   ]
  },
  {
   "cell_type": "code",
   "execution_count": 14,
   "metadata": {
    "ExecuteTime": {
     "end_time": "2020-09-10T13:46:49.876708Z",
     "start_time": "2020-09-10T13:46:49.772560Z"
    }
   },
   "outputs": [
    {
     "data": {
      "text/latex": [
       "$\\displaystyle \\frac{9 x}{4} + \\frac{81 \\left(x - 1\\right)^{3}}{16} - \\frac{27 \\left(x - 1\\right)^{2}}{8} - \\frac{15}{4}$"
      ],
      "text/plain": [
       "9*x/4 + 81*(x - 1)**3/16 - 27*(x - 1)**2/8 - 15/4"
      ]
     },
     "metadata": {},
     "output_type": "display_data"
    }
   ],
   "source": [
    "taylor_expr = taylor_expr.removeO()\n",
    "display(taylor_expr)                     # Vis"
   ]
  },
  {
   "cell_type": "markdown",
   "metadata": {},
   "source": [
    "Nu kan vi tegne grafen for Taylorapproximationen til $f(x)$:"
   ]
  },
  {
   "cell_type": "code",
   "execution_count": 15,
   "metadata": {
    "ExecuteTime": {
     "end_time": "2020-09-10T13:46:50.181833Z",
     "start_time": "2020-09-10T13:46:49.879491Z"
    }
   },
   "outputs": [
    {
     "data": {
      "image/png": "[encoded data removed]",
      "text/plain": [
       "<Figure size 432x288 with 1 Axes>"
      ]
     },
     "metadata": {
      "filenames": {
       "image/png": "/home/johannbs/temp/NBI_python/_build/jupyter_execute/notebooks/sympy/Notebook4_32_0.png"
      },
      "needs_background": "light"
     },
     "output_type": "display_data"
    }
   ],
   "source": [
    "from sympy.plotting import plot   # Importer plot-funktionen\n",
    "\n",
    "# Vi genererer nu vores graf som en figur med passende titel og aksegrænser\n",
    "figur = plot(taylor_expr, (x, 0, 2), legend = True, title = \"Taylorapproksimation\", label = \"Taylor 4. orden\");"
   ]
  },
  {
   "cell_type": "markdown",
   "metadata": {},
   "source": [
    "\n",
    "Vi tilføjer nu vores originale funktion for at sammenligne:"
   ]
  },
  {
   "cell_type": "code",
   "execution_count": 16,
   "metadata": {
    "ExecuteTime": {
     "end_time": "2020-09-10T13:46:50.445910Z",
     "start_time": "2020-09-10T13:46:50.184599Z"
    },
    "scrolled": true
   },
   "outputs": [
    {
     "data": {
      "image/png": "[encoded data removed]",
      "text/plain": [
       "<Figure size 432x288 with 1 Axes>"
      ]
     },
     "metadata": {
      "filenames": {
       "image/png": "/home/johannbs/temp/NBI_python/_build/jupyter_execute/notebooks/sympy/Notebook4_34_0.png"
      },
      "needs_background": "light"
     },
     "output_type": "display_data"
    }
   ],
   "source": [
    "# Vi laver nu en ny graf med den originale funktion.\n",
    "# Bemærk, at vi skriver show = False for ikke at vise denne inden vi er færdige\n",
    "original = plot(expr, (x, 0 , 2), line_color = 'red', show = False)\n",
    "\n",
    "# Vi tilføjer vores original graf til vores figur ved at bruge .append() ... se notebooken fra uge 3 for en forklaring.\n",
    "figur.append(original[0])\n",
    "\n",
    "# Vi skal nu tilpasse y.aksen, da det originale udtryk får meget store, negative værdier for x -> 1/3\n",
    "figur.ylim = (-8, 8)\n",
    "\n",
    "# Til sidst viser vi figuren\n",
    "figur.show()"
   ]
  },
  {
   "cell_type": "markdown",
   "metadata": {},
   "source": [
    "Som ventet er Taylorapproximationen god i nærheden af udviklingspunktet $x_0 = 1$."
   ]
  },
  {
   "cell_type": "markdown",
   "metadata": {},
   "source": [
    "## Integration\n",
    "Fremgangsmåden for integration og differentiation minder utrolig meget om hinanden med den oplagte undtagelse, at man både kan beregne bestemte og ubestemte integraler (altså hhv. med og uden grænser). Vi bruger funktionen <code>sp.integrate</code>. Et ubestemt integral findes ved \n",
    "```python\n",
    "sp.integrate(udtryk, variabel)\n",
    "```\n",
    "mens bestemte integraler beregnes med \n",
    "```python\n",
    "sp.integrate(udtryk, (variabel, fra, til))\n",
    "```\n",
    "Bemærk at der skal en parentes omkring den variable og grænserne på samme måde som når man angiver et interval ved graftegning.\n",
    "\n",
    "Vær opmærksom på, at SymPys integrationsresultater udelader den vilkårlige additive integrationskonstant.\n",
    "\n",
    "Eksempel: Find stamfunktionen til $x^4$:"
   ]
  },
  {
   "cell_type": "code",
   "execution_count": 17,
   "metadata": {
    "ExecuteTime": {
     "end_time": "2020-09-10T13:46:50.527797Z",
     "start_time": "2020-09-10T13:46:50.447976Z"
    }
   },
   "outputs": [
    {
     "data": {
      "text/latex": [
       "$\\displaystyle \\frac{x^{5}}{5}$"
      ],
      "text/plain": [
       "x**5/5"
      ]
     },
     "metadata": {},
     "output_type": "display_data"
    }
   ],
   "source": [
    "expr = x ** 4                               # Definer udtryk\n",
    "stamfunktion_expr = sp.integrate(expr, x)   # Integrer udtrykket med hensyn til x\n",
    "display(stamfunktion_expr)                  # vis"
   ]
  },
  {
   "cell_type": "markdown",
   "metadata": {},
   "source": [
    "På samme måde findes det bestemte integral $\\int_0^{6\\pi}(\\sin(x))^2dx$ som også kan skrives som $\\int_0^{6\\pi}\\sin^2(x)dx$:"
   ]
  },
  {
   "cell_type": "code",
   "execution_count": 18,
   "metadata": {
    "ExecuteTime": {
     "end_time": "2020-09-10T13:46:50.629296Z",
     "start_time": "2020-09-10T13:46:50.530095Z"
    },
    "scrolled": true
   },
   "outputs": [
    {
     "data": {
      "text/latex": [
       "$\\displaystyle 3 \\pi$"
      ],
      "text/plain": [
       "3*pi"
      ]
     },
     "execution_count": 18,
     "metadata": {},
     "output_type": "execute_result"
    }
   ],
   "source": [
    "expr = sp.sin(x) ** 2                 # Definer udtryk\n",
    "sp.integrate(expr, (x, 0, 6 * pi))    # Integrer udtrykket med hensyn til x fra 0 til 6 pi"
   ]
  },
  {
   "cell_type": "markdown",
   "metadata": {},
   "source": [
    "Oftest kan det også være nyttigt at bruge enten algebraiske symboler eller eventuelt at integrere til uendelig. Her indskriver man bare dette i det bestemte integrals grænser. "
   ]
  },
  {
   "cell_type": "code",
   "execution_count": 19,
   "metadata": {
    "ExecuteTime": {
     "end_time": "2020-09-10T14:33:39.638461Z",
     "start_time": "2020-09-10T14:33:39.338742Z"
    }
   },
   "outputs": [
    {
     "data": {
      "text/latex": [
       "$\\displaystyle \\sqrt{\\pi}$"
      ],
      "text/plain": [
       "sqrt(pi)"
      ]
     },
     "execution_count": 19,
     "metadata": {},
     "output_type": "execute_result"
    }
   ],
   "source": [
    "# Vi kan eventuelt udregne integralet for en gaussisk funktion\n",
    "expr = sp.exp(- x ** 2)\n",
    "sp.integrate(expr, (x, -oo, oo))"
   ]
  },
  {
   "cell_type": "code",
   "execution_count": 4,
   "metadata": {
    "ExecuteTime": {
     "end_time": "2020-09-10T14:34:43.902696Z",
     "start_time": "2020-09-10T14:34:43.800425Z"
    }
   },
   "outputs": [
    {
     "data": {
      "text/latex": [
       "$\\displaystyle - \\frac{a^{4}}{4} + a + \\frac{b^{4}}{4} - b$"
      ],
      "text/plain": [
       "-a**4/4 + a + b**4/4 - b"
      ]
     },
     "execution_count": 4,
     "metadata": {},
     "output_type": "execute_result"
    }
   ],
   "source": [
    "# Eller vi kan integrere en polynomium fra a til b\n",
    "from sympy.abc import a, b\n",
    "expr = x ** 3 - 1\n",
    "\n",
    "sp.integrate(expr, (x, a, b))"
   ]
  },
  {
   "cell_type": "markdown",
   "metadata": {},
   "source": [
    "## Alternativ Syntaks"
   ]
  },
  {
   "cell_type": "markdown",
   "metadata": {},
   "source": [
    "I løbet af denne Notebook har vi benyttet os af en forholdsvis stringent metode at skrive funktioner op på, som altid indeholder <code>sp.funktion()</code>. Mange af disse metoder er dog også allerede indbygget i de enkelte udtryks syntaks. Vi kan f.eks. i stedet for at skrive <code>sp.simplify(expr)</code> skrive <code>expr.simplify()</code>. Dette er en lille smutvej, men det giver nogle gange god mening at bruge. Herunder er vist nogle korte eksempler:"
   ]
  },
  {
   "cell_type": "code",
   "execution_count": 21,
   "metadata": {
    "ExecuteTime": {
     "end_time": "2020-09-10T14:12:47.019787Z",
     "start_time": "2020-09-10T14:12:46.949579Z"
    }
   },
   "outputs": [
    {
     "data": {
      "text/latex": [
       "$\\displaystyle \\cos{\\left(x \\right)}$"
      ],
      "text/plain": [
       "cos(x)"
      ]
     },
     "execution_count": 21,
     "metadata": {},
     "output_type": "execute_result"
    }
   ],
   "source": [
    "# Vi viser, at man kan differentiere på følgende to ekvivalente måder:\n",
    "expr = sp.sin(x)\n",
    "\n",
    "sp.diff(expr)"
   ]
  },
  {
   "cell_type": "code",
   "execution_count": 22,
   "metadata": {
    "ExecuteTime": {
     "end_time": "2020-09-10T14:12:53.313517Z",
     "start_time": "2020-09-10T14:12:53.234652Z"
    }
   },
   "outputs": [
    {
     "data": {
      "text/latex": [
       "$\\displaystyle \\cos{\\left(x \\right)}$"
      ],
      "text/plain": [
       "cos(x)"
      ]
     },
     "execution_count": 22,
     "metadata": {},
     "output_type": "execute_result"
    }
   ],
   "source": [
    "expr.diff(x)"
   ]
  },
  {
   "cell_type": "markdown",
   "metadata": {},
   "source": [
    "Ligeledes kan vi benytte simplify og integration på denne måde:"
   ]
  },
  {
   "cell_type": "code",
   "execution_count": 23,
   "metadata": {
    "ExecuteTime": {
     "end_time": "2020-09-10T14:14:35.646297Z",
     "start_time": "2020-09-10T14:14:35.521045Z"
    }
   },
   "outputs": [
    {
     "data": {
      "text/latex": [
       "$\\displaystyle 4 \\sin^{2}{\\left(x \\right)}$"
      ],
      "text/plain": [
       "4*sin(x)**2"
      ]
     },
     "execution_count": 23,
     "metadata": {},
     "output_type": "execute_result"
    }
   ],
   "source": [
    "expr = 2 * (1 - sp.cos(2 * x))\n",
    "\n",
    "# Vi simplificerer\n",
    "expr.simplify()                   "
   ]
  },
  {
   "cell_type": "code",
   "execution_count": 24,
   "metadata": {
    "ExecuteTime": {
     "end_time": "2020-09-10T14:16:02.152526Z",
     "start_time": "2020-09-10T14:16:02.065664Z"
    }
   },
   "outputs": [
    {
     "data": {
      "text/latex": [
       "$\\displaystyle 2 \\pi$"
      ],
      "text/plain": [
       "2*pi"
      ]
     },
     "execution_count": 24,
     "metadata": {},
     "output_type": "execute_result"
    }
   ],
   "source": [
    "# Beregner et bestemt integral\n",
    "expr.integrate((x, 0, pi))        "
   ]
  },
  {
   "cell_type": "code",
   "execution_count": 25,
   "metadata": {
    "ExecuteTime": {
     "end_time": "2020-09-10T14:16:06.524263Z",
     "start_time": "2020-09-10T14:16:06.432266Z"
    }
   },
   "outputs": [
    {
     "data": {
      "text/latex": [
       "$\\displaystyle 2 x - \\sin{\\left(2 x \\right)}$"
      ],
      "text/plain": [
       "2*x - sin(2*x)"
      ]
     },
     "execution_count": 25,
     "metadata": {},
     "output_type": "execute_result"
    }
   ],
   "source": [
    "# Finder stamfunktion ved brug af integrate\n",
    "expr.integrate(x)                 "
   ]
  }
 ],
 "metadata": {
  "kernelspec": {
   "display_name": "Python 3",
   "language": "python",
   "name": "python3"
  },
  "language_info": {
   "codemirror_mode": {
    "name": "ipython",
    "version": 3
   },
   "file_extension": ".py",
   "mimetype": "text/x-python",
   "name": "python",
   "nbconvert_exporter": "python",
   "pygments_lexer": "ipython3",
   "version": "3.7.9"
  },
  "latex_envs": {
   "LaTeX_envs_menu_present": true,
   "autoclose": false,
   "autocomplete": true,
   "bibliofile": "biblio.bib",
   "cite_by": "apalike",
   "current_citInitial": 1,
   "eqLabelWithNumbers": true,
   "eqNumInitial": 1,
   "hotkeys": {
    "equation": "Ctrl-E",
    "itemize": "Ctrl-I"
   },
   "labels_anchors": false,
   "latex_user_defs": false,
   "report_style_numbering": false,
   "user_envs_cfg": false
  },
  "toc": {
   "base_numbering": 1,
   "nav_menu": {},
   "number_sections": true,
   "sideBar": true,
   "skip_h1_title": false,
   "title_cell": "Indholdsfortegnelse",
   "title_sidebar": "Contents",
   "toc_cell": false,
   "toc_position": {},
   "toc_section_display": true,
   "toc_window_display": true
  }
 },
 "nbformat": 4,
 "nbformat_minor": 4
}