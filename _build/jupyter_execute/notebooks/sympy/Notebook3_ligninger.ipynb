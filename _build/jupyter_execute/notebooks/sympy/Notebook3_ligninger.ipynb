{
 "cells": [
  {
   "cell_type": "markdown",
   "metadata": {},
   "source": [
    "# Ligninger"
   ]
  },
  {
   "cell_type": "markdown",
   "metadata": {},
   "source": [
    "Første trin for at løse ligninger er at få skrevet ligninger op i et sprog, Python kan forstå. Det afgørende er her at indse at et lighedstegn kan have flere fundamentalt forskellige betydninger. Tidligere har vi tildelt variable bestemte værdier ved f.eks. at skrive <code>k = 4</code>, mens vi her vil bruge lighedstegnet til at beskrive et udsagn om sammenhængen mellem to udtryk. I SymPy-sprog er dette en _equality_ og syntaksen er (når vi har importeret SymPy som <code>sp</code> som vi plejer) givet ved <code>sp.Eq(venstre side, højre side)</code>. Pythagoras' læresætning kan f.eks. opskrives som:"
   ]
  },
  {
   "cell_type": "code",
   "execution_count": 2,
   "metadata": {
    "ExecuteTime": {
     "end_time": "2020-08-01T11:48:52.690882Z",
     "start_time": "2020-08-01T11:48:52.578374Z"
    }
   },
   "outputs": [
    {
     "data": {
      "text/latex": [
       "$\\displaystyle a^{2} + b^{2} = c^{2}$"
      ],
      "text/plain": [
       "Eq(a**2 + b**2, c**2)"
      ]
     },
     "metadata": {},
     "output_type": "display_data"
    }
   ],
   "source": [
    "import sympy as sp\n",
    "from sympy.abc import a, b, c             # Vi definerer a, b og c som symbolske variable\n",
    "\n",
    "Pytha = sp.Eq(a ** 2 + b ** 2, c ** 2)    # Syntaks: sp.Eq(venstre side, højre side)\n",
    "display(Pytha)"
   ]
  },
  {
   "cell_type": "markdown",
   "metadata": {},
   "source": [
    "Man kan ligeledes danne ligninger ved at sammensætte allerede definerede udtryk, her eksemplificeret ved cosinusrelationen:"
   ]
  },
  {
   "cell_type": "code",
   "execution_count": 4,
   "metadata": {
    "ExecuteTime": {
     "end_time": "2020-08-01T11:49:46.535700Z",
     "start_time": "2020-08-01T11:49:46.332574Z"
    }
   },
   "outputs": [
    {
     "data": {
      "text/latex": [
       "$\\displaystyle a^{2} - 2 a b \\cos{\\left(\\theta \\right)} + b^{2}$"
      ],
      "text/plain": [
       "a**2 - 2*a*b*cos(theta) + b**2"
      ]
     },
     "metadata": {},
     "output_type": "display_data"
    },
    {
     "data": {
      "text/latex": [
       "$\\displaystyle c^{2} = a^{2} - 2 a b \\cos{\\left(\\theta \\right)} + b^{2}$"
      ],
      "text/plain": [
       "Eq(c**2, a**2 - 2*a*b*cos(theta) + b**2)"
      ]
     },
     "metadata": {},
     "output_type": "display_data"
    }
   ],
   "source": [
    "from sympy.abc import theta\n",
    "\n",
    "expr = a**2 + b**2 - 2*a*b*sp.cos(theta) # Vi laver nu blot den ene side af ligningen som et udtryk (expr for \"expression\")\n",
    "display(expr)\n",
    "\n",
    "cos_relation = sp.Eq(c**2, expr)         # Og vi kan nu sammensætte højre- og venstresiderne\n",
    "display(cos_relation)"
   ]
  },
  {
   "cell_type": "markdown",
   "metadata": {},
   "source": [
    "Vi kunne selvfølgelig også have gjort det hele i ét hug:"
   ]
  },
  {
   "cell_type": "code",
   "execution_count": 8,
   "metadata": {
    "ExecuteTime": {
     "end_time": "2020-08-01T11:49:46.535700Z",
     "start_time": "2020-08-01T11:49:46.332574Z"
    }
   },
   "outputs": [
    {
     "data": {
      "text/latex": [
       "$\\displaystyle c^{2} = a^{2} - 2 a b \\cos{\\left(\\theta \\right)} + b^{2}$"
      ],
      "text/plain": [
       "Eq(c**2, a**2 - 2*a*b*cos(theta) + b**2)"
      ]
     },
     "metadata": {},
     "output_type": "display_data"
    }
   ],
   "source": [
    "cos_relation = sp.Eq(c**2, a**2 + b**2 - 2*a*b*sp.cos(theta))\n",
    "display(cos_relation)"
   ]
  },
  {
   "cell_type": "markdown",
   "metadata": {},
   "source": [
    "Nu når vi har lighederne på plads, er det blevet tid til at lade SymPy regne for os. SymPy giver os to forskellige værktøjer til at løse ligninger, og det er lidt forskelligt, hvad de hver især er gode til. "
   ]
  },
  {
   "cell_type": "markdown",
   "metadata": {},
   "source": [
    "## Solveset\n",
    "Den første metode hedder solveset(), som kan oversættes til \"løsningsmængde\". Dette er den relativ ny metode, og SymPy-teamet arbejder på at denne skal være den primære løsningsmetode i fremtiden. Den løser dog ikke alle opgaver godt endnu, hvorfor vi nedenfor vil præsentere et alternativ.\n",
    "\n",
    "Lad os prøve at løse en af overstående ligninger. Lad os tage helt standard Pythagoras $a^2 + b^2 = c^2$ (ligningen defineret som <code>Pytha</code> ovenfor). Hvis vi nu  kender $c=5$ og $a=3$ og ønsker at finde $b$, indsætter vi først værdierne i ligningen:"
   ]
  },
  {
   "cell_type": "code",
   "execution_count": 9,
   "metadata": {
    "ExecuteTime": {
     "end_time": "2020-08-01T11:48:53.148606Z",
     "start_time": "2020-08-01T11:48:52.918305Z"
    }
   },
   "outputs": [
    {
     "data": {
      "text/latex": [
       "$\\displaystyle a^{2} + b^{2} = c^{2}$"
      ],
      "text/plain": [
       "Eq(a**2 + b**2, c**2)"
      ]
     },
     "metadata": {},
     "output_type": "display_data"
    },
    {
     "data": {
      "text/latex": [
       "$\\displaystyle b^{2} + 9 = 25$"
      ],
      "text/plain": [
       "Eq(b**2 + 9, 25)"
      ]
     },
     "metadata": {},
     "output_type": "display_data"
    }
   ],
   "source": [
    "display(Pytha)\n",
    "Pytha_indsat = Pytha.subs([(a, 3), (c, 5)])\n",
    "display(Pytha_indsat)"
   ]
  },
  {
   "cell_type": "markdown",
   "metadata": {},
   "source": [
    "Vi benytter nu solveset() til at løse denne. For en ligning virker denne funktion ved, at man angiver ligningen og den variabel, som man ønsker at løse for:"
   ]
  },
  {
   "cell_type": "code",
   "execution_count": 10,
   "metadata": {
    "ExecuteTime": {
     "end_time": "2020-08-01T11:48:53.278769Z",
     "start_time": "2020-08-01T11:48:53.151582Z"
    }
   },
   "outputs": [
    {
     "data": {
      "text/latex": [
       "$\\displaystyle \\left\\{-4, 4\\right\\}$"
      ],
      "text/plain": [
       "FiniteSet(-4, 4)"
      ]
     },
     "metadata": {},
     "output_type": "display_data"
    }
   ],
   "source": [
    "solution = sp.solveset(Pytha_indsat, b)\n",
    "display(solution)"
   ]
  },
  {
   "cell_type": "markdown",
   "metadata": {},
   "source": [
    "Vi har altså nu fundet løsningerne til ligningen. I tilfældet med Pythagoras' sætning leder vi efter en sidelængde, så vores løsning skal være et positivt tal. Vi kan indskrænke løsningsdomænet ved at give <code>solveset</code> et \"domain\"-keyword. Dette skal være et såkaldt _SymPy-set_, som er en lidt indviklet størrelse, men i langt de fleste tilfælde kan man slippe afsted med at bede om reelle tal ved at skrive <code>sp.Reals</code> eller ved at give et interval med <code>sp.Interval(_fra_, _til_)</code>, hvor man kan bruge <code>oo</code> for uendelig (forudsat at <code>oo</code> er blevet importeret). For mere avancerede løsningsdomæner henvises til dokumentationen [her](https://docs.sympy.org/latest/modules/sets.html). I dette tilfælde angiver vi et interval:"
   ]
  },
  {
   "cell_type": "code",
   "execution_count": 11,
   "metadata": {
    "ExecuteTime": {
     "end_time": "2020-08-01T11:48:53.376431Z",
     "start_time": "2020-08-01T11:48:53.280784Z"
    }
   },
   "outputs": [
    {
     "data": {
      "text/latex": [
       "$\\displaystyle \\left\\{4\\right\\}$"
      ],
      "text/plain": [
       "FiniteSet(4)"
      ]
     },
     "metadata": {},
     "output_type": "display_data"
    }
   ],
   "source": [
    "from sympy import oo           # Vi importerer uendelig\n",
    "pos_solution = sp.solveset(Pytha_indsat, b, sp.Interval(0, oo))\n",
    "display(pos_solution)"
   ]
  },
  {
   "cell_type": "markdown",
   "metadata": {},
   "source": [
    "<code>solveset</code> virker også hvis vi istedet for en ligning angiver et udtryk (altså uden lighedstegn). Da sætter SymPy udtrykket lig med 0 og løser den derved fremkomne ligning (i dette eksempel $b^2-16 = 0$):"
   ]
  },
  {
   "cell_type": "code",
   "execution_count": 12,
   "metadata": {},
   "outputs": [
    {
     "data": {
      "text/latex": [
       "$\\displaystyle \\left\\{4\\right\\}$"
      ],
      "text/plain": [
       "FiniteSet(4)"
      ]
     },
     "metadata": {},
     "output_type": "display_data"
    }
   ],
   "source": [
    "pos_solution = sp.solveset(b**2 - 16, b, sp.Interval(0, oo))\n",
    "display(pos_solution)"
   ]
  },
  {
   "cell_type": "markdown",
   "metadata": {},
   "source": [
    "Vi vil bruge den samme syntaks her, hvor vi vil finde rødder i et fjerdegrads polynomium. "
   ]
  },
  {
   "cell_type": "code",
   "execution_count": 13,
   "metadata": {
    "ExecuteTime": {
     "end_time": "2020-08-01T11:48:53.481475Z",
     "start_time": "2020-08-01T11:48:53.380781Z"
    }
   },
   "outputs": [
    {
     "data": {
      "text/latex": [
       "$\\displaystyle \\left\\{-1, 1, - i, i\\right\\}$"
      ],
      "text/plain": [
       "FiniteSet(-1, 1, I, -I)"
      ]
     },
     "metadata": {},
     "output_type": "display_data"
    }
   ],
   "source": [
    "from sympy.abc import x\n",
    "expr = x ** 4 - 1\n",
    "solutions = sp.solveset(expr, x) # Da vi har angivet et udtryk, sætter SymPy udtrykket lig med 0 og løser.\n",
    "display(solutions)"
   ]
  },
  {
   "cell_type": "markdown",
   "metadata": {},
   "source": [
    "Er vi kun interesserede i reelle løsninger, kan vi indskrænke domænet til de reelle tal:"
   ]
  },
  {
   "cell_type": "code",
   "execution_count": 14,
   "metadata": {
    "ExecuteTime": {
     "end_time": "2020-08-01T11:48:53.572239Z",
     "start_time": "2020-08-01T11:48:53.483732Z"
    }
   },
   "outputs": [
    {
     "data": {
      "text/latex": [
       "$\\displaystyle \\left\\{-1, 1\\right\\}$"
      ],
      "text/plain": [
       "FiniteSet(-1, 1)"
      ]
     },
     "metadata": {},
     "output_type": "display_data"
    }
   ],
   "source": [
    "solutions_real = sp.solveset(expr, x, sp.Reals)\n",
    "display(solutions_real)"
   ]
  },
  {
   "cell_type": "markdown",
   "metadata": {},
   "source": [
    "Solveset virker også, hvis vi ikke har en numerisk værdi for alle symboler, men ønsker den generelle løsning. Hvis vi f.eks. vil finde $b$ i cosinusrelationen som defineret tidligere, kan vi skrive følgende:"
   ]
  },
  {
   "cell_type": "code",
   "execution_count": 15,
   "metadata": {
    "ExecuteTime": {
     "end_time": "2020-08-01T11:48:53.867967Z",
     "start_time": "2020-08-01T11:48:53.574654Z"
    }
   },
   "outputs": [
    {
     "data": {
      "text/latex": [
       "$\\displaystyle c^{2} = a^{2} - 2 a b \\cos{\\left(\\theta \\right)} + b^{2}$"
      ],
      "text/plain": [
       "Eq(c**2, a**2 - 2*a*b*cos(theta) + b**2)"
      ]
     },
     "metadata": {},
     "output_type": "display_data"
    },
    {
     "data": {
      "text/latex": [
       "$\\displaystyle \\left\\{a \\cos{\\left(\\theta \\right)} - \\sqrt{a^{2} \\cos^{2}{\\left(\\theta \\right)} - a^{2} + c^{2}}, a \\cos{\\left(\\theta \\right)} + \\sqrt{a^{2} \\cos^{2}{\\left(\\theta \\right)} - a^{2} + c^{2}}\\right\\}$"
      ],
      "text/plain": [
       "FiniteSet(a*cos(theta) + sqrt(a**2*cos(theta)**2 - a**2 + c**2), a*cos(theta) - sqrt(a**2*cos(theta)**2 - a**2 + c**2))"
      ]
     },
     "metadata": {},
     "output_type": "display_data"
    }
   ],
   "source": [
    "display(cos_relation)\n",
    "sol_b = sp.solveset(cos_relation, b)\n",
    "display(sol_b)"
   ]
  },
  {
   "cell_type": "markdown",
   "metadata": {},
   "source": [
    "Solveset() giver os løsninger skrevet op i mængdenotation for at give os de generelle fuldstændige løsninger. Selvom dette kan være meget fint i nogle tilfælde, ender vi dog i andre tilfælde med en generel og ganske ubrugelig løsning. Dette sker eksempelvis, hvis vi prøver at løse for $\\theta$ direkte:"
   ]
  },
  {
   "cell_type": "code",
   "execution_count": 16,
   "metadata": {
    "ExecuteTime": {
     "end_time": "2020-08-01T11:48:54.352910Z",
     "start_time": "2020-08-01T11:48:53.871028Z"
    }
   },
   "outputs": [
    {
     "data": {
      "text/latex": [
       "$\\displaystyle \\left\\{\\theta \\mid \\theta \\in \\mathbb{C} \\wedge - a^{2} + 2 a b \\cos{\\left(\\theta \\right)} - b^{2} + c^{2} = 0 \\right\\}$"
      ],
      "text/plain": [
       "ConditionSet(theta, Eq(-a**2 + 2*a*b*cos(theta) - b**2 + c**2, 0), Complexes)"
      ]
     },
     "execution_count": 16,
     "metadata": {},
     "output_type": "execute_result"
    }
   ],
   "source": [
    "sp.solveset(cos_relation, theta)"
   ]
  },
  {
   "cell_type": "markdown",
   "metadata": {},
   "source": [
    "Hvilket kan læses som \"De værdier $\\theta$ for hvilket det gælder at $\\theta$ er et komplekst tal og at cosinusrelationen er opfyldt\". Det er jo rigtig nok (sammenlign med selve cosinusrelationen!), men fortæller os ikke så meget, vi ikke vidste i forvejen. Det leder os videre til den anden metode til ligningsløsning:\n",
    "\n",
    "## Solve\n",
    "<code>Solve()</code> er den ældre funktion, som på trods af at være mindre generel oftest giver os en brugbar løsning. Syntaksen for input til <code>Solve()</code> er den samme som for <code>Solveset()</code>"
   ]
  },
  {
   "cell_type": "code",
   "execution_count": 17,
   "metadata": {
    "ExecuteTime": {
     "end_time": "2020-08-01T11:48:54.698296Z",
     "start_time": "2020-08-01T11:48:54.355457Z"
    }
   },
   "outputs": [
    {
     "data": {
      "text/plain": [
       "[-acos((a**2 + b**2 - c**2)/(2*a*b)) + 2*pi,\n",
       " acos((a**2 + b**2 - c**2)/(2*a*b))]"
      ]
     },
     "execution_count": 17,
     "metadata": {},
     "output_type": "execute_result"
    }
   ],
   "source": [
    "sp.solve(cos_relation, theta)"
   ]
  },
  {
   "cell_type": "markdown",
   "metadata": {},
   "source": [
    "Når der som her er flere løsninger, giver <code>Solve()</code>løsningerne som elementer i en liste, som <code>display</code> ikke kan konvertere til LaTeX. Vi må derfor nøjes med output i tekstformat eller vi kan bruge en løkke til at vise løsningerne en af gangen med `display`:"
   ]
  },
  {
   "cell_type": "code",
   "execution_count": 23,
   "metadata": {},
   "outputs": [
    {
     "data": {
      "text/plain": [
       "[-acos((a**2 + b**2 - c**2)/(2*a*b)) + 2*pi,\n",
       " acos((a**2 + b**2 - c**2)/(2*a*b))]"
      ]
     },
     "metadata": {},
     "output_type": "display_data"
    },
    {
     "data": {
      "text/latex": [
       "$\\displaystyle - \\operatorname{acos}{\\left(\\frac{a^{2} + b^{2} - c^{2}}{2 a b} \\right)} + 2 \\pi$"
      ],
      "text/plain": [
       "-acos((a**2 + b**2 - c**2)/(2*a*b)) + 2*pi"
      ]
     },
     "metadata": {},
     "output_type": "display_data"
    },
    {
     "data": {
      "text/latex": [
       "$\\displaystyle \\operatorname{acos}{\\left(\\frac{a^{2} + b^{2} - c^{2}}{2 a b} \\right)}$"
      ],
      "text/plain": [
       "acos((a**2 + b**2 - c**2)/(2*a*b))"
      ]
     },
     "metadata": {},
     "output_type": "display_data"
    }
   ],
   "source": [
    "sols = sp.solve(cos_relation, theta)\n",
    "display(sols)           # Viser listen med løsninger som tekst ... OK, men ikke så kønt\n",
    "for løsning in sols:    # Løkke, der viser løsningerne en af gangen med LaTeX-formattering\n",
    "    display(løsning)"
   ]
  },
  {
   "cell_type": "markdown",
   "metadata": {},
   "source": [
    "Når man bruger <code>solve</code> kan man angive en liste af ligheder (eller uligheder), som afgrænser den variable. Hvis vi vil bestemme sidelængen $b$ (som er nul eller positiv) ved hjælp af Pythagoras' sætning, kan opgaven i solve-sprog lyde:"
   ]
  },
  {
   "cell_type": "code",
   "execution_count": 24,
   "metadata": {
    "ExecuteTime": {
     "end_time": "2020-08-01T11:48:54.873163Z",
     "start_time": "2020-08-01T11:48:54.700395Z"
    }
   },
   "outputs": [
    {
     "data": {
      "text/latex": [
       "$\\displaystyle b^{2} + 9 = 25$"
      ],
      "text/plain": [
       "Eq(b**2 + 9, 25)"
      ]
     },
     "metadata": {},
     "output_type": "display_data"
    },
    {
     "data": {
      "text/latex": [
       "$\\displaystyle b = 4$"
      ],
      "text/plain": [
       "Eq(b, 4)"
      ]
     },
     "metadata": {},
     "output_type": "display_data"
    }
   ],
   "source": [
    "display(Pytha_indsat)\n",
    "sol_b = sp.solve([Pytha_indsat, b >= 0], b)\n",
    "display(sol_b)"
   ]
  },
  {
   "cell_type": "markdown",
   "metadata": {},
   "source": [
    "Overordnet set er <code>solve</code> rigtig god til at give én løsning. Det kan altså ofte bruges i sammenhænge, hvor man vil tjekke et resultat, eller hvis man blot skal bruge en vilkårlig løsning og ikke den fuldstændige løsning.\n",
    "Eksempel: Vi løser $\\sin(\\theta) = 1$:"
   ]
  },
  {
   "cell_type": "code",
   "execution_count": 26,
   "metadata": {
    "ExecuteTime": {
     "end_time": "2020-08-01T11:48:55.020816Z",
     "start_time": "2020-08-01T11:48:54.876202Z"
    }
   },
   "outputs": [
    {
     "data": {
      "text/plain": [
       "[pi/2]"
      ]
     },
     "execution_count": 26,
     "metadata": {},
     "output_type": "execute_result"
    }
   ],
   "source": [
    "sp.solve(sp.Eq(sp.sin(theta), 1), theta)"
   ]
  },
  {
   "cell_type": "markdown",
   "metadata": {},
   "source": [
    "Her får vi altså en løsning, og det vil ofte være den løsning, vi leder efter. Men da $\\sin(x)$ er periodisk, ved vi, at der er flere løsninger. Så svaret er ikke udtømmende. \n",
    "\n",
    "I modsætning hertil har <code>solveset</code> den fordel, at den giver et  matematisk stringent svar, og den vil altså returnere hele løsningen:"
   ]
  },
  {
   "cell_type": "code",
   "execution_count": 25,
   "metadata": {},
   "outputs": [
    {
     "data": {
      "text/latex": [
       "$\\displaystyle \\left\\{2 n \\pi + \\frac{\\pi}{2}\\; |\\; n \\in \\mathbb{Z}\\right\\}$"
      ],
      "text/plain": [
       "ImageSet(Lambda(_n, 2*_n*pi + pi/2), Integers)"
      ]
     },
     "execution_count": 25,
     "metadata": {},
     "output_type": "execute_result"
    }
   ],
   "source": [
    "sp.solveset(sp.Eq(sp.sin(theta), 1), theta)"
   ]
  },
  {
   "cell_type": "markdown",
   "metadata": {},
   "source": [
    "## Numerisk løsning\n",
    "Nogle gange kan vi komme ud for en situation, hvor en opgave ikke har en brugbar eksakt, symbolsk løsning, eller at hverken <code>solve</code> eller <code>solveset</code> giver et svar, vi kan bruge. Vi kan så benytte <code>sp.nsolve</code> til numerisk løsning af ligninger. Vi bruger således SymPy (som er designet til at være et symbolsk værktøj) til et formål, der er på kanten af dets anvendelsesområde, og vi skal derfor bruge værktøjet med forsigtighed. Det er derfor en god idé i disse tilfælde at tegne grafer for at illustrere opgaven. Derved kan vi checke at svaret rent faktisk giver mening i forhold til opgaven, og det tillader os også at give et ret godt gæt på en løsning.\n",
    "\n",
    "Kaldesekvensen for at bestemme en numeriske løsning er:  \n",
    "```python\n",
    "sp.nsolve(ligning, variabel, startgæt)\n",
    "```"
   ]
  },
  {
   "cell_type": "markdown",
   "metadata": {},
   "source": [
    "Hvis nu vi eksempelvis vil finde en løsning til $x\\log(x+1) = \\sin(x)$, starter vi med at lave et plot (se notesbogen om plotning for en mere grundig forklaring af syntaksen)."
   ]
  },
  {
   "cell_type": "code",
   "execution_count": 35,
   "metadata": {
    "scrolled": true
   },
   "outputs": [
    {
     "data": {
      "image/png": "[encoded data removed]",
      "text/plain": [
       "<Figure size 432x288 with 1 Axes>"
      ]
     },
     "metadata": {
      "filenames": {
       "image/png": "/home/johannbs/temp/NBI_python/_build/jupyter_execute/notebooks/sympy/Notebook3_ligninger_36_0.png"
      },
      "needs_background": "light"
     },
     "output_type": "display_data"
    }
   ],
   "source": [
    "from sympy.abc import x\n",
    "from sympy.plotting import plot\n",
    "\n",
    "figur = plot(x * sp.log(x + 1), sp.sin(x), (x, 0, 2))"
   ]
  },
  {
   "cell_type": "markdown",
   "metadata": {},
   "source": [
    "Heraf ser vi altså, at et godt startgæt vil være omkring $x=1.2$. Dette vil vi nu bruge."
   ]
  },
  {
   "cell_type": "code",
   "execution_count": 38,
   "metadata": {},
   "outputs": [
    {
     "data": {
      "text/latex": [
       "$\\displaystyle x \\log{\\left(x + 1 \\right)} = \\sin{\\left(x \\right)}$"
      ],
      "text/plain": [
       "Eq(x*log(x + 1), sin(x))"
      ]
     },
     "metadata": {},
     "output_type": "display_data"
    },
    {
     "data": {
      "text/latex": [
       "$\\displaystyle 1.1852999437201$"
      ],
      "text/plain": [
       "1.18529994372010"
      ]
     },
     "execution_count": 38,
     "metadata": {},
     "output_type": "execute_result"
    }
   ],
   "source": [
    "lign = sp.Eq(x * sp.log(x + 1), sp.sin(x))\n",
    "display(lign)\n",
    "sp.nsolve(lign, x, 1.2)"
   ]
  },
  {
   "cell_type": "markdown",
   "metadata": {},
   "source": [
    "Sympy leder med `nsolve` blot efter en løsning. Vi kan altså ende med at få forskellige svar alt efter, hvad vores startgæt er. Gætter vi $x = 0.1$ får vi:"
   ]
  },
  {
   "cell_type": "code",
   "execution_count": 39,
   "metadata": {},
   "outputs": [
    {
     "data": {
      "text/latex": [
       "$\\displaystyle 1.64437672593563 \\cdot 10^{-51}$"
      ],
      "text/plain": [
       "1.64437672593563e-51"
      ]
     },
     "execution_count": 39,
     "metadata": {},
     "output_type": "execute_result"
    }
   ],
   "source": [
    "sp.nsolve(lign, x, 0.1)"
   ]
  },
  {
   "cell_type": "markdown",
   "metadata": {},
   "source": [
    "som er en numerisk værdi meget tæt på 0, der også er en løsning til ligningen. Det er derfor vigtigt at være opmærksom på, hvilken løsning, der er relevant i en konkret sammenhæng, og lave et godt startgæt inspireret af dette."
   ]
  },
  {
   "cell_type": "code",
   "execution_count": null,
   "metadata": {},
   "outputs": [],
   "source": []
  }
 ],
 "metadata": {
  "kernelspec": {
   "display_name": "Python 3",
   "language": "python",
   "name": "python3"
  },
  "language_info": {
   "codemirror_mode": {
    "name": "ipython",
    "version": 3
   },
   "file_extension": ".py",
   "mimetype": "text/x-python",
   "name": "python",
   "nbconvert_exporter": "python",
   "pygments_lexer": "ipython3",
   "version": "3.7.9"
  },
  "latex_envs": {
   "LaTeX_envs_menu_present": true,
   "autoclose": false,
   "autocomplete": true,
   "bibliofile": "biblio.bib",
   "cite_by": "apalike",
   "current_citInitial": 1,
   "eqLabelWithNumbers": true,
   "eqNumInitial": 1,
   "hotkeys": {
    "equation": "Ctrl-E",
    "itemize": "Ctrl-I"
   },
   "labels_anchors": false,
   "latex_user_defs": false,
   "report_style_numbering": false,
   "user_envs_cfg": false
  },
  "toc": {
   "base_numbering": 1,
   "nav_menu": {},
   "number_sections": false,
   "sideBar": true,
   "skip_h1_title": true,
   "title_cell": "Indholdsfortegnelse",
   "title_sidebar": "Contents",
   "toc_cell": false,
   "toc_position": {},
   "toc_section_display": true,
   "toc_window_display": true
  }
 },
 "nbformat": 4,
 "nbformat_minor": 4
}